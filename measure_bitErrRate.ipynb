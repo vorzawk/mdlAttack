{
 "cells": [
  {
   "cell_type": "markdown",
   "metadata": {},
   "source": [
    "The goal here is to evaluate the errors introduced adversarial training by a bit-wise comparison of the original weight values with the modified values."
   ]
  },
  {
   "cell_type": "code",
   "execution_count": 1,
   "metadata": {},
   "outputs": [],
   "source": [
    "import numpy as np\n",
    "from matplotlib import pyplot as plt"
   ]
  },
  {
   "cell_type": "code",
   "execution_count": 2,
   "metadata": {},
   "outputs": [],
   "source": [
    "orig_weights = np.load('original_weights.npy')\n",
    "modified_weights = np.load('modified_weights.npy')"
   ]
  },
  {
   "cell_type": "code",
   "execution_count": 3,
   "metadata": {},
   "outputs": [],
   "source": [
    "def compute_minAndMax(list_arrays):\n",
    "    '''\n",
    "    Function to find the smallest and largest elements \n",
    "    in a list of numpy arrays\n",
    "    '''\n",
    "    min_val = np.inf\n",
    "    max_val = -np.inf\n",
    "    for arr in list_arrays:\n",
    "        if arr.min() < min_val:\n",
    "            min_val = arr.min()\n",
    "        if arr.max() > max_val:\n",
    "            max_val = arr.max()\n",
    "    return min_val, max_val"
   ]
  },
  {
   "cell_type": "code",
   "execution_count": 4,
   "metadata": {},
   "outputs": [],
   "source": [
    "def compute_scalingFunction(list_weightArrays, N) :\n",
    "    \"\"\"\n",
    "    returns a function which scales the value to range 0-N,\n",
    "    and is given by :\n",
    "                N * (x - min)\n",
    "        f(x) = ---------------\n",
    "                  max - min\n",
    "    \"\"\"\n",
    "    min_val, max_val = compute_minAndMax(list_weightArrays)\n",
    "    print(min_val, max_val)\n",
    "    return lambda x : N * (x - min_val)/(max_val - min_val)"
   ]
  },
  {
   "cell_type": "code",
   "execution_count": 5,
   "metadata": {},
   "outputs": [],
   "source": [
    "def scale_weights(list_weightArrays, scale_func, N):\n",
    "    \"\"\"\n",
    "    scale the weight values so that they are integers\n",
    "    which can be manipulated with bitwise operators\n",
    "    \"\"\"\n",
    "    list_scaledWeightArrays = []\n",
    "    for arr in list_weightArrays:\n",
    "        scaledArray = scale_func(arr)\n",
    "        list_scaledWeightArrays.append(scaledArray.astype(int))\n",
    "    return list_scaledWeightArrays"
   ]
  },
  {
   "cell_type": "code",
   "execution_count": 6,
   "metadata": {},
   "outputs": [],
   "source": [
    "def compute_bitErrorRate(list_origWeights, list_modifiedWeights, N):\n",
    "    '''\n",
    "    scales the values to range 0-N, then computes the xor for each pair of values\n",
    "    '''\n",
    "    # We need to consider both the original weights as well as the modified \n",
    "    # weights while finding the minimum and maximum element, so that the \n",
    "    # computed range encompasses all the weight values.\n",
    "    list_weightArrays = list_origWeights + list_modifiedWeights\n",
    "    scale_func = compute_scalingFunction(list_weightArrays, N)\n",
    "    scaled_origWeights = scale_weights(list_origWeights, scale_func, N)\n",
    "    scaled_modifiedWeights = scale_weights(list_modifiedWeights, scale_func, N)\n",
    "    list_bitErrorRates = []\n",
    "    for orig_arr, modified_arr in zip(scaled_origWeights, scaled_modifiedWeights):\n",
    "        # error_arr is the element-wise xor of all values in the array\n",
    "        error_arr = orig_arr ^ modified_arr\n",
    "        list_bitErrorRates.append(error_arr)\n",
    "    return list_bitErrorRates"
   ]
  },
  {
   "cell_type": "code",
   "execution_count": 8,
   "metadata": {},
   "outputs": [
    {
     "data": {
      "text/plain": [
       "(-0.0020616278, 0.0020405427)"
      ]
     },
     "execution_count": 8,
     "metadata": {},
     "output_type": "execute_result"
    }
   ],
   "source": [
    "def measure_noise(orig_values, modified_values):\n",
    "    list_noiseValues = []\n",
    "    for orig_arr, modified_arr in zip(orig_values, modified_values):\n",
    "        # error_arr is the element-wise difference of all values in the array\n",
    "        error_arr = orig_arr - modified_arr\n",
    "        list_noiseValues.append(error_arr)\n",
    "    return list_noiseValues\n",
    "adversarialNoise = measure_noise(orig_weights, modified_weights)\n",
    "compute_minAndMax(adversarialNoise)"
   ]
  },
  {
   "cell_type": "code",
   "execution_count": 10,
   "metadata": {},
   "outputs": [
    {
     "data": {
      "image/png": "[encoded data removed]",
      "text/plain": [
       "<Figure size 432x288 with 1 Axes>"
      ]
     },
     "metadata": {
      "needs_background": "light"
     },
     "output_type": "display_data"
    }
   ],
   "source": [
    "# Need to store as an array of arrays for plotting the values, a list\n",
    "# is not flexible enough\n",
    "# Compare the adversarial noise with random gaussian noise\n",
    "flattened_adversarialNoise = np.array([])\n",
    "for arr in adversarialNoise:\n",
    "    flattened_adversarialNoise = np.append(flattened_adversarialNoise, np.reshape(arr, (-1,)))\n",
    "plt.hist(flattened_adversarialNoise[flattened_adversarialNoise != 0], 50)\n",
    "plt.show()"
   ]
  },
  {
   "cell_type": "code",
   "execution_count": null,
   "metadata": {},
   "outputs": [],
   "source": []
  }
 ],
 "metadata": {
  "kernelspec": {
   "display_name": "Python 3",
   "language": "python",
   "name": "python3"
  },
  "language_info": {
   "codemirror_mode": {
    "name": "ipython",
    "version": 3
   },
   "file_extension": ".py",
   "mimetype": "text/x-python",
   "name": "python",
   "nbconvert_exporter": "python",
   "pygments_lexer": "ipython3",
   "version": "3.5.2"
  }
 },
 "nbformat": 4,
 "nbformat_minor": 2
}
