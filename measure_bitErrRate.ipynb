{
 "cells": [
  {
   "cell_type": "markdown",
   "metadata": {},
   "source": [
    "The goal here is to evaluate the errors introduced adversarial training by a bit-wise comparison of the original weight values with the modified values."
   ]
  },
  {
   "cell_type": "code",
   "execution_count": 27,
   "metadata": {},
   "outputs": [],
   "source": [
    "import numpy as np\n",
    "from matplotlib import pyplot as plt"
   ]
  },
  {
   "cell_type": "code",
   "execution_count": 28,
   "metadata": {},
   "outputs": [],
   "source": [
    "origWeights = np.load('origWeights.npy')\n",
    "modifiedWeights = np.load('modifiedWeights.npy')\n",
    "origBiases = np.load('origBiases.npy')\n",
    "modifiedBiases = np.load('modifiedBiases.npy')"
   ]
  },
  {
   "cell_type": "code",
   "execution_count": 29,
   "metadata": {},
   "outputs": [],
   "source": [
    "def compute_minAndMax(listArrays):\n",
    "    '''\n",
    "    Function to find the smallest and largest elements \n",
    "    in a list of numpy arrays\n",
    "    '''\n",
    "    minVal = np.inf\n",
    "    maxVal = -np.inf\n",
    "    for arr in listArrays:\n",
    "        if arr.min() < minVal:\n",
    "            minVal = arr.min()\n",
    "        if arr.max() > maxVal:\n",
    "            maxVal = arr.max()\n",
    "    return minVal, maxVal"
   ]
  },
  {
   "cell_type": "code",
   "execution_count": 30,
   "metadata": {},
   "outputs": [],
   "source": [
    "def scale_weights(listArrays, scaleFunc):\n",
    "    '''\n",
    "    scale the values in a list of arrays based on scaleFunc\n",
    "    '''\n",
    "    scaledListArrays = []\n",
    "    for arr in listArrays:\n",
    "        scaledArray = scaleFunc(arr)\n",
    "        scaledListArrays.append(scaledArray)\n",
    "    return scaledListArrays"
   ]
  },
  {
   "cell_type": "code",
   "execution_count": 31,
   "metadata": {},
   "outputs": [],
   "source": [
    "def convert_toBinary(decFrac, res):\n",
    "    '''\n",
    "    Implements the standard algorithm used to convert a decimal \n",
    "    fraction into binary.\n",
    "    Accepts a decimal value between 0 and 1 and returns a list of \n",
    "    0s and 1s corresponding to its binary representation. res \n",
    "    represents the bit resolution and determines the length of\n",
    "    the list.\n",
    "    '''\n",
    "    binRep = []\n",
    "    for i in range(res):\n",
    "        decFrac = decFrac * 2\n",
    "        binRep.append(int(decFrac))\n",
    "        if int(decFrac) == 1:\n",
    "            decFrac -= 1\n",
    "    return binRep"
   ]
  },
  {
   "cell_type": "code",
   "execution_count": 32,
   "metadata": {},
   "outputs": [],
   "source": [
    "def convert_seqToBinary(listArrays, res):\n",
    "    '''\n",
    "    Converts a list of arrays into binary\n",
    "    '''\n",
    "    binListArrays = []\n",
    "    for arr in listArrays:\n",
    "        # Creates a 1-D array of lists representing the binary values\n",
    "        # of the array elements. The shape of the original array is\n",
    "        # not preserved.\n",
    "        binArray = []\n",
    "        for val in np.nditer(arr):\n",
    "            binArray.append(convert_toBinary(val, res))\n",
    "        binListArrays.append(binArray)\n",
    "    return binListArrays"
   ]
  },
  {
   "cell_type": "code",
   "execution_count": 33,
   "metadata": {},
   "outputs": [],
   "source": [
    "def convert_toFraction(origValues, modifiedValues):\n",
    "    '''\n",
    "    computes the min and max considering all input values, and maps them into [0-1)\n",
    "    '''\n",
    "    # Both original as well as modified vlaues are considered while finding the \n",
    "    # minimum and maximum; this ensures that all values are between 0 and 1\n",
    "    origMin, origMax = compute_minAndMax(origValues)\n",
    "    modifiedMin, modifiedMax = compute_minAndMax(modifiedValues)\n",
    "    minThres = min(origMin, modifiedMin)\n",
    "    # Since we don't want to map any of the values to 1, maxThres is set to \n",
    "    # be slightly larger than the maximum.\n",
    "    maxThres = max(origMax, modifiedMax) + 1e-5\n",
    "    scaleFunc = lambda x : (x - minThres)/(maxThres - minThres)\n",
    "    scaledOrigValues = scale_weights(origValues, scaleFunc)\n",
    "    scaledModifiedValues = scale_weights(modifiedValues, scaleFunc)\n",
    "    return scaledOrigValues, scaledModifiedValues\n",
    "\n",
    "def compute_bitErrorRate(scaledOrigWeights, scaledModifiedWeights, res):\n",
    "    '''\n",
    "    Takes original and modified values in [0-1) as input, and computes BER by \n",
    "    comparing their binary representations\n",
    "    '''\n",
    "    binOrigWeights = convert_seqToBinary(scaledOrigWeights, res)\n",
    "    binModifiedWeights = convert_seqToBinary(scaledModifiedWeights, res)\n",
    "    # Once the values are converted into binary, we want to iterate through\n",
    "    # the lists to compare the bit values in the original and modified arrays.\n",
    "    numLayers = len(scaledOrigWeights)\n",
    "    numBitErrors = np.zeros((numLayers, res), np.uint32)\n",
    "    numBitVals = np.zeros((numLayers, res), np.uint32)\n",
    "    for layerNo, (binOrigWeightsLayer, binModifiedWeightsLayer) in enumerate(zip(binOrigWeights, binModifiedWeights)):\n",
    "        for binOrigWeight, binModifiedWeight in zip(binOrigWeightsLayer, binModifiedWeightsLayer):\n",
    "            for bitPos, (origBit, modifiedBit) in enumerate(zip(binOrigWeight, binModifiedWeight)):\n",
    "                numBitVals[layerNo][bitPos] += 1\n",
    "                if origBit != modifiedBit:\n",
    "                    numBitErrors[layerNo][bitPos] += 1\n",
    "    bitErrorRates = numBitErrors/numBitVals\n",
    "    return bitErrorRates"
   ]
  },
  {
   "cell_type": "code",
   "execution_count": 43,
   "metadata": {
    "scrolled": false
   },
   "outputs": [
    {
     "data": {
      "image/png": "[encoded data removed]",
      "text/plain": [
       "<Figure size 1080x216 with 5 Axes>"
      ]
     },
     "metadata": {
      "needs_background": "light"
     },
     "output_type": "display_data"
    }
   ],
   "source": [
    "BIT_RESOLUTION = 8\n",
    "# First, scale the weights into [0,1)\n",
    "scaledOrigWeights, scaledModifiedWeights = convert_toFraction(origWeights, modifiedWeights)\n",
    "# scaled_origWeights and scaled_modifiedWeights are in [0-1), and we want\n",
    "# to convert them into binary.\n",
    "ber = compute_bitErrorRate(scaledOrigWeights, scaledModifiedWeights, BIT_RESOLUTION)\n",
    "f, axarr = plt.subplots(1,5, sharey=True, figsize=(15,3))\n",
    "for layerNo in range(len(origWeights)):\n",
    "    axarr[layerNo].bar(np.arange(BIT_RESOLUTION), ber[layerNo])\n",
    "    axarr[layerNo].set_title('Layer: ' + str(layerNo+1))"
   ]
  },
  {
   "cell_type": "code",
   "execution_count": 44,
   "metadata": {
    "scrolled": false
   },
   "outputs": [
    {
     "data": {
      "image/png": "[encoded data removed]",
      "text/plain": [
       "<Figure size 1080x216 with 5 Axes>"
      ]
     },
     "metadata": {
      "needs_background": "light"
     },
     "output_type": "display_data"
    }
   ],
   "source": [
    "BIT_RESOLUTION = 8\n",
    "# First, scale the Biases into [0,1)\n",
    "scaledOrigBiases, scaledModifiedBiases = convert_toFraction(origBiases, modifiedBiases)\n",
    "# scaled_origBiases and scaled_modifiedBiases are in [0-1), and we want\n",
    "# to convert them into binary.\n",
    "ber = compute_bitErrorRate(scaledOrigBiases, scaledModifiedBiases, BIT_RESOLUTION)\n",
    "f, axarr = plt.subplots(1,5, sharey=True, figsize=(15,3))\n",
    "for layerNo in range(len(origBiases)):\n",
    "    axarr[layerNo].bar(np.arange(BIT_RESOLUTION), ber[layerNo])\n",
    "    axarr[layerNo].set_title('Layer: ' + str(layerNo+1))"
   ]
  },
  {
   "cell_type": "code",
   "execution_count": 46,
   "metadata": {},
   "outputs": [
    {
     "name": "stdout",
     "output_type": "stream",
     "text": [
      "(-0.46155906, 0.43421257) (-0.46162048, 0.43445688)\n",
      "(-0.0049934224, 0.0049687326)\n",
      "(-0.08203647, 0.09926285) (-0.08193017, 0.099307485)\n",
      "(-0.0002047196, 0.00054796785)\n"
     ]
    }
   ],
   "source": [
    "def measure_noise(origValues, modifiedValues):\n",
    "    noiseValues = []\n",
    "    for origArr, modifiedArr in zip(origValues, modifiedValues):\n",
    "        # error_arr is the element-wise difference of all values in the array\n",
    "        errorArr = origArr - modifiedArr\n",
    "        noiseValues.append(errorArr)\n",
    "    return noiseValues\n",
    "adversarialNoiseWeights = measure_noise(origWeights, modifiedWeights)\n",
    "print(compute_minAndMax(origWeights), compute_minAndMax(modifiedWeights))\n",
    "print(compute_minAndMax(adversarialNoiseWeights))\n",
    "adversarialNoiseBiases = measure_noise(origBiases, modifiedBiases)\n",
    "print(compute_minAndMax(origBiases), compute_minAndMax(modifiedBiases))\n",
    "print(compute_minAndMax(adversarialNoiseBiases))"
   ]
  },
  {
   "cell_type": "code",
   "execution_count": 51,
   "metadata": {},
   "outputs": [
    {
     "data": {
      "text/plain": [
       "Text(0.5, 1.0, 'Noise')"
      ]
     },
     "execution_count": 51,
     "metadata": {},
     "output_type": "execute_result"
    },
    {
     "data": {
      "image/png": "[encoded data removed]",
      "text/plain": [
       "<Figure size 1080x216 with 5 Axes>"
      ]
     },
     "metadata": {
      "needs_background": "light"
     },
     "output_type": "display_data"
    }
   ],
   "source": [
    "# Plot noise values for all the layers\n",
    "f, axarr = plt.subplots(1,5, sharey=True, figsize=(15,3))\n",
    "for i, arr in enumerate(adversarialNoiseWeights):\n",
    "    axarr[i].hist(np.reshape(arr, (-1,)), 30, density=True, stacked=True)\n",
    "    axarr[i].set_title(\"layer \" + str(i+1))\n",
    "plt.title('Noise Histograms for the layer weights')"
   ]
  },
  {
   "cell_type": "code",
   "execution_count": 52,
   "metadata": {},
   "outputs": [
    {
     "data": {
      "text/plain": [
       "Text(0.5, 1.0, 'Noise Histograms for the layer biases')"
      ]
     },
     "execution_count": 52,
     "metadata": {},
     "output_type": "execute_result"
    },
    {
     "data": {
      "image/png": "[encoded data removed]",
      "text/plain": [
       "<Figure size 1080x216 with 5 Axes>"
      ]
     },
     "metadata": {
      "needs_background": "light"
     },
     "output_type": "display_data"
    }
   ],
   "source": [
    "# Plot noise values for all the layers\n",
    "f, axarr = plt.subplots(1,5, sharey=True, figsize=(15,3))\n",
    "for i, arr in enumerate(adversarialNoiseBiases):\n",
    "    axarr[i].hist(np.reshape(arr, (-1,)), 30, density=True, stacked=True)\n",
    "    axarr[i].set_title(\"layer \" + str(i+1))\n",
    "plt.title('Noise Histograms for the layer biases')"
   ]
  }
 ],
 "metadata": {
  "kernelspec": {
   "display_name": "Python 3",
   "language": "python",
   "name": "python3"
  },
  "language_info": {
   "codemirror_mode": {
    "name": "ipython",
    "version": 3
   },
   "file_extension": ".py",
   "mimetype": "text/x-python",
   "name": "python",
   "nbconvert_exporter": "python",
   "pygments_lexer": "ipython3",
   "version": "3.5.2"
  }
 },
 "nbformat": 4,
 "nbformat_minor": 2
}
