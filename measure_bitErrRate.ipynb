{
 "cells": [
  {
   "cell_type": "markdown",
   "metadata": {},
   "source": [
    "The goal here is to evaluate the values and compute the number of bits that are being modified by adversarial training."
   ]
  },
  {
   "cell_type": "code",
   "execution_count": 19,
   "metadata": {},
   "outputs": [],
   "source": [
    "import numpy as np\n",
    "from matplotlib import pyplot as plt"
   ]
  },
  {
   "cell_type": "code",
   "execution_count": 20,
   "metadata": {},
   "outputs": [],
   "source": [
    "orig_weights = np.load('original_weights.npy')\n",
    "modified_weights = np.load('modified_weights.npy')"
   ]
  },
  {
   "cell_type": "code",
   "execution_count": 26,
   "metadata": {},
   "outputs": [],
   "source": [
    "def compute_minAndMax(list_arrays):\n",
    "    min_val = np.inf\n",
    "    max_val = -np.inf\n",
    "    for arr in list_arrays:\n",
    "        if arr.min() < min_val:\n",
    "            min_val = arr.min()\n",
    "        if arr.max() > max_val:\n",
    "            max_val = arr.max()\n",
    "    return min_val, max_val"
   ]
  },
  {
   "cell_type": "code",
   "execution_count": 22,
   "metadata": {},
   "outputs": [],
   "source": [
    "def compute_scalingFunction(list_weightArrays, N) :\n",
    "    \"\"\"\n",
    "    returns as functions which computes :\n",
    "                N * (x - min)\n",
    "        f(x) = ------------\n",
    "                max - min\n",
    "    \"\"\"\n",
    "    min_val, max_val = compute_minAndMax(list_weightArrays)\n",
    "    factor = N / (max_val - min_val)\n",
    "    return lambda x : N * (x - min_val)/(max_val - min_val)"
   ]
  },
  {
   "cell_type": "code",
   "execution_count": 23,
   "metadata": {},
   "outputs": [],
   "source": [
    "def scale_weights(list_weightArrays, scale_func, N):\n",
    "    \"\"\"\n",
    "    scale the weight values so that they are large integers\n",
    "    which can be manipulated with bitwise operators\n",
    "    \"\"\"\n",
    "    list_scaledWeightArrays = []\n",
    "    for arr in list_weightArrays:\n",
    "        scaledArray = scale_func(arr)\n",
    "        list_scaledWeightArrays.append(scaledArray.astype(int))\n",
    "    return list_scaledWeightArrays"
   ]
  },
  {
   "cell_type": "code",
   "execution_count": 24,
   "metadata": {},
   "outputs": [],
   "source": [
    "def compute_bitErrorRate(list_origWeights, list_modifiedWeights, N):\n",
    "    list_weightArrays = list_origWeights + list_modifiedWeights\n",
    "    scale_func = compute_scalingFunction(list_weightArrays, N)\n",
    "    scaled_origWeights = scale_weights(list_origWeights, scale_func, N)\n",
    "    scaled_modifiedWeights = scale_weights(list_modifiedWeights, scale_func, N)\n",
    "    list_bitErrorRates = []\n",
    "    for orig_arr, modified_arr in zip(scaled_origWeights, scaled_modifiedWeights):\n",
    "        error_arr = orig_arr ^ modified_arr\n",
    "        list_bitErrorRates.append(error_arr)\n",
    "    return list_bitErrorRates"
   ]
  },
  {
   "cell_type": "code",
   "execution_count": 43,
   "metadata": {},
   "outputs": [
    {
     "data": {
      "text/plain": [
       "(0, 15)"
      ]
     },
     "execution_count": 43,
     "metadata": {},
     "output_type": "execute_result"
    }
   ],
   "source": [
    "l = compute_bitErrorRate(orig_weights, modified_weights, 15)\n",
    "compute_minAndMax(l)"
   ]
  },
  {
   "cell_type": "code",
   "execution_count": 39,
   "metadata": {},
   "outputs": [],
   "source": [
    "def visualize(list_arrays):\n",
    "    flattenedArray = np.array([])\n",
    "    for arr in list_arrays:\n",
    "        flattenedArray = np.append(flattenedArray, np.reshape(arr, (-1,)))\n",
    "    print(flattenedArray.shape)\n",
    "    print(flattenedArray.min())\n",
    "    print(flattenedArray.max())\n",
    "    h = plt.hist(flattenedArray, 20)\n",
    "    plt.show()\n",
    "    h = plt.hist(flattenedArray[flattenedArray > 0], 20)\n",
    "    plt.show()"
   ]
  },
  {
   "cell_type": "code",
   "execution_count": 44,
   "metadata": {},
   "outputs": [
    {
     "name": "stdout",
     "output_type": "stream",
     "text": [
      "(402528,)\n",
      "0.0\n",
      "15.0\n"
     ]
    },
    {
     "data": {
      "image/png": "[encoded data removed]",
      "text/plain": [
       "<matplotlib.figure.Figure at 0x7facbb22b8d0>"
      ]
     },
     "metadata": {},
     "output_type": "display_data"
    },
    {
     "data": {
      "image/png": "[encoded data removed]",
      "text/plain": [
       "<matplotlib.figure.Figure at 0x7facbb256710>"
      ]
     },
     "metadata": {},
     "output_type": "display_data"
    }
   ],
   "source": [
    "visualize(l)"
   ]
  }
 ],
 "metadata": {
  "kernelspec": {
   "display_name": "Python 3",
   "language": "python",
   "name": "python3"
  },
  "language_info": {
   "codemirror_mode": {
    "name": "ipython",
    "version": 3
   },
   "file_extension": ".py",
   "mimetype": "text/x-python",
   "name": "python",
   "nbconvert_exporter": "python",
   "pygments_lexer": "ipython3",
   "version": "3.5.2"
  }
 },
 "nbformat": 4,
 "nbformat_minor": 2
}
