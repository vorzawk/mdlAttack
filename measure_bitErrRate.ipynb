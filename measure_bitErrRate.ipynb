{
 "cells": [
  {
   "cell_type": "markdown",
   "metadata": {},
   "source": [
    "The goal here is to evaluate the values and compute the number of bits that are being modified by adversarial training."
   ]
  },
  {
   "cell_type": "code",
   "execution_count": 64,
   "metadata": {},
   "outputs": [],
   "source": [
    "import numpy as np\n",
    "from matplotlib import pyplot as plt"
   ]
  },
  {
   "cell_type": "code",
   "execution_count": 65,
   "metadata": {},
   "outputs": [],
   "source": [
    "orig_weights = np.load('original_weights.npy')\n",
    "modified_weights = np.load('modified_weights.npy')"
   ]
  },
  {
   "cell_type": "code",
   "execution_count": 66,
   "metadata": {},
   "outputs": [],
   "source": [
    "def compute_minAndMax(list_arrays):\n",
    "    '''\n",
    "    Function to find the smallest and largest elements \n",
    "    on a list of numpy arrays\n",
    "    '''\n",
    "    min_val = np.inf\n",
    "    max_val = -np.inf\n",
    "    for arr in list_arrays:\n",
    "        if arr.min() < min_val:\n",
    "            min_val = arr.min()\n",
    "        if arr.max() > max_val:\n",
    "            max_val = arr.max()\n",
    "    return min_val, max_val"
   ]
  },
  {
   "cell_type": "code",
   "execution_count": 67,
   "metadata": {},
   "outputs": [],
   "source": [
    "def compute_scalingFunction(list_weightArrays, N) :\n",
    "    \"\"\"\n",
    "    returns a function which scales the value to range 0-N,\n",
    "    and is given by :\n",
    "                N * (x - min)\n",
    "        f(x) = ------------\n",
    "                max - min\n",
    "    \"\"\"\n",
    "    min_val, max_val = compute_minAndMax(list_weightArrays)\n",
    "    print(min_val, max_val)\n",
    "    factor = N / (max_val - min_val)\n",
    "    return lambda x : N * (x - min_val)/(max_val - min_val)"
   ]
  },
  {
   "cell_type": "code",
   "execution_count": 68,
   "metadata": {},
   "outputs": [],
   "source": [
    "def scale_weights(list_weightArrays, scale_func, N):\n",
    "    \"\"\"\n",
    "    scale the weight values so that they are integers\n",
    "    which can be manipulated with bitwise operators\n",
    "    \"\"\"\n",
    "    list_scaledWeightArrays = []\n",
    "    for arr in list_weightArrays:\n",
    "        scaledArray = scale_func(arr)\n",
    "        list_scaledWeightArrays.append(scaledArray.astype(int))\n",
    "    return list_scaledWeightArrays"
   ]
  },
  {
   "cell_type": "code",
   "execution_count": 69,
   "metadata": {},
   "outputs": [],
   "source": [
    "def compute_bitErrorRate(list_origWeights, list_modifiedWeights, N):\n",
    "    '''\n",
    "    scales the values to range 0-N, then computes the xor for each pair of values\n",
    "    '''\n",
    "    # We need to consider both the original weights as well as the modified \n",
    "    # weights while finding the minimum and maximum element, so the two arrays \n",
    "    # are concatenated before computing the scaling function\n",
    "    list_weightArrays = list_origWeights + list_modifiedWeights\n",
    "    scale_func = compute_scalingFunction(list_weightArrays, N)\n",
    "    scaled_origWeights = scale_weights(list_origWeights, scale_func, N)\n",
    "    scaled_modifiedWeights = scale_weights(list_modifiedWeights, scale_func, N)\n",
    "    list_bitErrorRates = []\n",
    "    for orig_arr, modified_arr in zip(scaled_origWeights, scaled_modifiedWeights):\n",
    "        error_arr = orig_arr ^ modified_arr\n",
    "        list_bitErrorRates.append(error_arr)\n",
    "    return list_bitErrorRates"
   ]
  },
  {
   "cell_type": "code",
   "execution_count": 70,
   "metadata": {},
   "outputs": [
    {
     "name": "stdout",
     "output_type": "stream",
     "text": [
      "-2.0573716 1.2827647\n"
     ]
    },
    {
     "data": {
      "text/plain": [
       "(0, 255)"
      ]
     },
     "execution_count": 70,
     "metadata": {},
     "output_type": "execute_result"
    }
   ],
   "source": [
    "l = compute_bitErrorRate(orig_weights, modified_weights, 255)\n",
    "compute_minAndMax(l)"
   ]
  },
  {
   "cell_type": "code",
   "execution_count": 75,
   "metadata": {},
   "outputs": [],
   "source": [
    "def visualize(list_arrays):\n",
    "    flattenedArray = np.array([])\n",
    "    for arr in list_arrays:\n",
    "        flattenedArray = np.append(flattenedArray, np.reshape(arr, (-1,)))\n",
    "    print('histogram of xor values for all weight values')\n",
    "    h = plt.hist(flattenedArray, 20)\n",
    "    plt.show()\n",
    "    print('Most of the values are 0, so I plot only the non-zero values in the'\n",
    "          + ' next graph')\n",
    "    h = plt.hist(flattenedArray[flattenedArray > 0], 20)\n",
    "    plt.show()\n",
    "    print('layer-wise distribution of the xor values' +\n",
    "            'with only non-zero values considered')\n",
    "    for i,arr in enumerate(list_arrays):\n",
    "        arr = np.reshape(arr, (-1,))\n",
    "        print('Layer no. ', i+1)\n",
    "        #h = plt.hist(arr, 20)\n",
    "        #plt.show()\n",
    "        h = plt.hist(arr[arr > 0], 20)\n",
    "        plt.show()"
   ]
  },
  {
   "cell_type": "code",
   "execution_count": 76,
   "metadata": {
    "scrolled": false
   },
   "outputs": [
    {
     "name": "stdout",
     "output_type": "stream",
     "text": [
      "histogram of xor values for all weight values\n"
     ]
    },
    {
     "data": {
      "image/png": "[encoded data removed]",
      "text/plain": [
       "<matplotlib.figure.Figure at 0x7facbb12b9e8>"
      ]
     },
     "metadata": {},
     "output_type": "display_data"
    },
    {
     "name": "stdout",
     "output_type": "stream",
     "text": [
      "Most of the values are 0, so I plot only the non-zero values in the next graph\n"
     ]
    },
    {
     "data": {
      "image/png": "[encoded data removed]",
      "text/plain": [
       "<matplotlib.figure.Figure at 0x7facbacba358>"
      ]
     },
     "metadata": {},
     "output_type": "display_data"
    },
    {
     "name": "stdout",
     "output_type": "stream",
     "text": [
      "layer-wise distribution of the xor valueswith only non-zero values considered\n",
      "Layer no.  1\n"
     ]
    },
    {
     "data": {
      "image/png": "[encoded data removed]",
      "text/plain": [
       "<matplotlib.figure.Figure at 0x7facbaead390>"
      ]
     },
     "metadata": {},
     "output_type": "display_data"
    },
    {
     "name": "stdout",
     "output_type": "stream",
     "text": [
      "Layer no.  2\n"
     ]
    },
    {
     "data": {
      "image/png": "[encoded data removed]",
      "text/plain": [
       "<matplotlib.figure.Figure at 0x7facbb19a748>"
      ]
     },
     "metadata": {},
     "output_type": "display_data"
    },
    {
     "name": "stdout",
     "output_type": "stream",
     "text": [
      "Layer no.  3\n"
     ]
    },
    {
     "data": {
      "image/png": "[encoded data removed]",
      "text/plain": [
       "<matplotlib.figure.Figure at 0x7facbaec16d8>"
      ]
     },
     "metadata": {},
     "output_type": "display_data"
    },
    {
     "name": "stdout",
     "output_type": "stream",
     "text": [
      "Layer no.  4\n"
     ]
    },
    {
     "data": {
      "image/png": "[encoded data removed]",
      "text/plain": [
       "<matplotlib.figure.Figure at 0x7facbb2bde80>"
      ]
     },
     "metadata": {},
     "output_type": "display_data"
    },
    {
     "name": "stdout",
     "output_type": "stream",
     "text": [
      "Layer no.  5\n"
     ]
    },
    {
     "data": {
      "image/png": "[encoded data removed]",
      "text/plain": [
       "<matplotlib.figure.Figure at 0x7facbb457a90>"
      ]
     },
     "metadata": {},
     "output_type": "display_data"
    },
    {
     "name": "stdout",
     "output_type": "stream",
     "text": [
      "Layer no.  6\n"
     ]
    },
    {
     "data": {
      "image/png": "[encoded data removed]",
      "text/plain": [
       "<matplotlib.figure.Figure at 0x7facbb2a6c50>"
      ]
     },
     "metadata": {},
     "output_type": "display_data"
    },
    {
     "name": "stdout",
     "output_type": "stream",
     "text": [
      "Layer no.  7\n"
     ]
    },
    {
     "data": {
      "image/png": "[encoded data removed]",
      "text/plain": [
       "<matplotlib.figure.Figure at 0x7facbb3739b0>"
      ]
     },
     "metadata": {},
     "output_type": "display_data"
    }
   ],
   "source": [
    "visualize(l)"
   ]
  }
 ],
 "metadata": {
  "kernelspec": {
   "display_name": "Python 3",
   "language": "python",
   "name": "python3"
  },
  "language_info": {
   "codemirror_mode": {
    "name": "ipython",
    "version": 3
   },
   "file_extension": ".py",
   "mimetype": "text/x-python",
   "name": "python",
   "nbconvert_exporter": "python",
   "pygments_lexer": "ipython3",
   "version": "3.5.2"
  }
 },
 "nbformat": 4,
 "nbformat_minor": 2
}
