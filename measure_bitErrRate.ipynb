{
 "cells": [
  {
   "cell_type": "markdown",
   "metadata": {},
   "source": [
    "The goal here is to evaluate the errors introduced adversarial training by a bit-wise comparison of the original weight values with the modified values."
   ]
  },
  {
   "cell_type": "code",
   "execution_count": 3,
   "metadata": {},
   "outputs": [],
   "source": [
    "import numpy as np\n",
    "from matplotlib import pyplot as plt"
   ]
  },
  {
   "cell_type": "code",
   "execution_count": 4,
   "metadata": {},
   "outputs": [],
   "source": [
    "origWeights = np.load('original_weights.npy')\n",
    "modifiedWeights = np.load('modified_weights.npy')"
   ]
  },
  {
   "cell_type": "code",
   "execution_count": 5,
   "metadata": {},
   "outputs": [],
   "source": [
    "def compute_minAndMax(listArrays):\n",
    "    '''\n",
    "    Function to find the smallest and largest elements \n",
    "    in a list of numpy arrays\n",
    "    '''\n",
    "    minVal = np.inf\n",
    "    maxVal = -np.inf\n",
    "    for arr in listArrays:\n",
    "        if arr.min() < minVal:\n",
    "            minVal = arr.min()\n",
    "        if arr.max() > maxVal:\n",
    "            maxVal = arr.max()\n",
    "    return minVal, maxVal"
   ]
  },
  {
   "cell_type": "code",
   "execution_count": 6,
   "metadata": {},
   "outputs": [],
   "source": [
    "def scale_weights(listArrays, scaleFunc):\n",
    "    '''\n",
    "    scale the values based on scaleFunc\n",
    "    '''\n",
    "    scaledListArrays = []\n",
    "    for arr in listArrays:\n",
    "        scaledArray = scaleFunc(arr)\n",
    "        scaledListArrays.append(scaledArray)\n",
    "    return scaledListArrays"
   ]
  },
  {
   "cell_type": "code",
   "execution_count": 7,
   "metadata": {},
   "outputs": [],
   "source": [
    "def convert_toBinary(decFrac, res):\n",
    "    '''Implements the standard algorithm used to convert a decimal \n",
    "    fraction into binary.\n",
    "    Accepts a decimal value between 0 and 1 and returns a list of \n",
    "    0s and 1s corresponding to its binary representation. The length of\n",
    "    the list is determined by res'''\n",
    "    binRep = []\n",
    "    for i in range(res):\n",
    "        decFrac = decFrac * 2\n",
    "        binRep.append(int(decFrac))\n",
    "        if int(decFrac) == 1:\n",
    "            decFrac -= 1\n",
    "    return binRep"
   ]
  },
  {
   "cell_type": "code",
   "execution_count": 8,
   "metadata": {},
   "outputs": [],
   "source": [
    "def convert_seqToBinary(listArrays, res):\n",
    "    '''Function to convert the list of arrays into binary'''\n",
    "    binListArrays = []\n",
    "    for arr in listArrays:\n",
    "        # Creates a 1-D array of lists representing the binary values\n",
    "        # of the array elements. The shape of the original array is\n",
    "        # not preserved.\n",
    "        binArray = []\n",
    "        for val in np.nditer(arr):\n",
    "            binArray.append(convert_toBinary(val, res))\n",
    "        binListArrays.append(binArray)\n",
    "    return binListArrays"
   ]
  },
  {
   "cell_type": "code",
   "execution_count": 19,
   "metadata": {},
   "outputs": [],
   "source": [
    "def convert_toDecimalFraction(origValues, modifiedValues):\n",
    "    '''\n",
    "    computes the min and max considering all input values, and maps them into [0-1)\n",
    "    '''\n",
    "    # Both original as well as modified vlaues are considered while finding the \n",
    "    # minimum and maximum; this ensures that all values are between 0 and 1\n",
    "    origMin, origMax = compute_minAndMax(origValues)\n",
    "    modifiedMin, modifiedMax = compute_minAndMax(modifiedValues)\n",
    "    minThres = min(origMin, modifiedMin)\n",
    "    # Since we don't want to map any of the values to 1, maxThres is set to \n",
    "    # be slightly larger than the maximum.\n",
    "    maxThres = max(origMax, modifiedMax) + 1e-5\n",
    "    scaleFunc = lambda x : (x - minThres)/(maxThres - minThres)\n",
    "    scaledOrigValues = scale_weights(origValues, scaleFunc)\n",
    "    scaledModifiedValues = scale_weights(modifiedValues, scaleFunc)\n",
    "    return scaledOrigValues, scaledModifiedValues\n",
    "\n",
    "def compute_bitErrorRate(scaledOrigWeights, scaledModifiedWeights, res):\n",
    "    '''\n",
    "    Takes original and modified values in [0-1) as input, and computes BER by \n",
    "    comparing their binary representations\n",
    "    '''\n",
    "    binOrigWeights = convert_seqToBinary(scaledOrigWeights, res)\n",
    "    binModifiedWeights = convert_seqToBinary(scaledModifiedWeights, res)\n",
    "    # Once the values are converted into binary, we want to iterate through\n",
    "    # the lists to compare the bit values in the original and modified arrays.\n",
    "    numLayers = len(scaledOrigWeights)\n",
    "    numBitErrors = np.zeros((numLayers, res), np.uint32)\n",
    "    numBitVals = np.zeros((numLayers, res), np.uint32)\n",
    "    for layerNo, (binOrigWeightsLayer, binModifiedWeightsLayer) in enumerate(zip(binOrigWeights, binModifiedWeights)):\n",
    "        for binOrigWeight, binModifiedWeight in zip(binOrigWeightsLayer, binModifiedWeightsLayer):\n",
    "            for bitPos, (origBit, modifiedBit) in enumerate(zip(binOrigWeight, binModifiedWeight)):\n",
    "                numBitVals[layerNo][bitPos] += 1\n",
    "                if origBit != modifiedBit:\n",
    "                    numBitErrors[layerNo][bitPos] += 1\n",
    "    print(numBitVals)\n",
    "    print(numBitErrors)\n",
    "    bitErrorRates = numBitErrors/numBitVals\n",
    "    return bitErrorRates"
   ]
  },
  {
   "cell_type": "code",
   "execution_count": 20,
   "metadata": {},
   "outputs": [
    {
     "name": "stdout",
     "output_type": "stream",
     "text": [
      "[[   864    864    864    864    864    864    864    864]\n",
      " [  9216   9216   9216   9216   9216   9216   9216   9216]\n",
      " [ 18432  18432  18432  18432  18432  18432  18432  18432]\n",
      " [ 36864  36864  36864  36864  36864  36864  36864  36864]\n",
      " [ 73728  73728  73728  73728  73728  73728  73728  73728]\n",
      " [262144 262144 262144 262144 262144 262144 262144 262144]\n",
      " [  1280   1280   1280   1280   1280   1280   1280   1280]]\n",
      "[[   0    0    0    0    0    1    1    3]\n",
      " [   0    0    3    6   10   29   60  135]\n",
      " [   0    0    5   10   19   35   76  153]\n",
      " [   0    1   14   30   62  126  251  515]\n",
      " [   6   11   44   74  172  337  676 1320]\n",
      " [  10   15   59  109  219  507  961 1997]\n",
      " [   0    0    1    1    1    2    6   12]]\n",
      "[[0.00000000e+00 0.00000000e+00 0.00000000e+00 0.00000000e+00\n",
      "  0.00000000e+00 1.15740741e-03 1.15740741e-03 3.47222222e-03]\n",
      " [0.00000000e+00 0.00000000e+00 3.25520833e-04 6.51041667e-04\n",
      "  1.08506944e-03 3.14670139e-03 6.51041667e-03 1.46484375e-02]\n",
      " [0.00000000e+00 0.00000000e+00 2.71267361e-04 5.42534722e-04\n",
      "  1.03081597e-03 1.89887153e-03 4.12326389e-03 8.30078125e-03]\n",
      " [0.00000000e+00 2.71267361e-05 3.79774306e-04 8.13802083e-04\n",
      "  1.68185764e-03 3.41796875e-03 6.80881076e-03 1.39702691e-02]\n",
      " [8.13802083e-05 1.49197049e-04 5.96788194e-04 1.00368924e-03\n",
      "  2.33289931e-03 4.57085503e-03 9.16883681e-03 1.79036458e-02]\n",
      " [3.81469727e-05 5.72204590e-05 2.25067139e-04 4.15802002e-04\n",
      "  8.35418701e-04 1.93405151e-03 3.66592407e-03 7.61795044e-03]\n",
      " [0.00000000e+00 0.00000000e+00 7.81250000e-04 7.81250000e-04\n",
      "  7.81250000e-04 1.56250000e-03 4.68750000e-03 9.37500000e-03]]\n"
     ]
    },
    {
     "data": {
      "image/png": "[encoded data removed]",
      "text/plain": [
       "<Figure size 432x288 with 1 Axes>"
      ]
     },
     "metadata": {
      "needs_background": "light"
     },
     "output_type": "display_data"
    },
    {
     "data": {
      "image/png": "[encoded data removed]",
      "text/plain": [
       "<Figure size 432x288 with 1 Axes>"
      ]
     },
     "metadata": {
      "needs_background": "light"
     },
     "output_type": "display_data"
    },
    {
     "data": {
      "image/png": "[encoded data removed]",
      "text/plain": [
       "<Figure size 432x288 with 1 Axes>"
      ]
     },
     "metadata": {
      "needs_background": "light"
     },
     "output_type": "display_data"
    },
    {
     "data": {
      "image/png": "[encoded data removed]",
      "text/plain": [
       "<Figure size 432x288 with 1 Axes>"
      ]
     },
     "metadata": {
      "needs_background": "light"
     },
     "output_type": "display_data"
    },
    {
     "data": {
      "image/png": "[encoded data removed]",
      "text/plain": [
       "<Figure size 432x288 with 1 Axes>"
      ]
     },
     "metadata": {
      "needs_background": "light"
     },
     "output_type": "display_data"
    },
    {
     "data": {
      "image/png": "[encoded data removed]",
      "text/plain": [
       "<Figure size 432x288 with 1 Axes>"
      ]
     },
     "metadata": {
      "needs_background": "light"
     },
     "output_type": "display_data"
    },
    {
     "data": {
      "image/png": "[encoded data removed]",
      "text/plain": [
       "<Figure size 432x288 with 1 Axes>"
      ]
     },
     "metadata": {
      "needs_background": "light"
     },
     "output_type": "display_data"
    }
   ],
   "source": [
    "# scaled_origWeights and scaled_modifiedWeights are in [0-1), and we want\n",
    "# to convert them into binary.\n",
    "BIT_RESOLUTION = 8\n",
    "scaledOrigWeights, scaledModifiedWeights = convert_toDecimalFraction(origWeights, modifiedWeights)\n",
    "ber = compute_bitErrorRate(scaledOrigWeights, scaledModifiedWeights, BIT_RESOLUTION)\n",
    "print(ber)\n",
    "for layerNo in range(len(origWeights)):\n",
    "    plt.bar(np.arange(BIT_RESOLUTION), ber[layerNo])\n",
    "    plt.show()"
   ]
  },
  {
   "cell_type": "code",
   "execution_count": null,
   "metadata": {},
   "outputs": [],
   "source": [
    "def measure_noise(origValues, modifiedValues):\n",
    "    noiseValues = []\n",
    "    for origArr, modifiedArr in zip(origValues, modifiedValues):\n",
    "        # error_arr is the element-wise difference of all values in the array\n",
    "        errorArr = origArr - modifiedArr\n",
    "        noiseValues.append(errorArr)\n",
    "    return noiseValues\n",
    "adversarialNoise = measure_noise(origWeights, modifiedWeights)\n",
    "compute_minAndMax(adversarialNoise)"
   ]
  },
  {
   "cell_type": "code",
   "execution_count": null,
   "metadata": {},
   "outputs": [],
   "source": [
    "# Need to store as an array of arrays for plotting the values, a list\n",
    "# is not flexible enough\n",
    "# Compare the adversarial noise with random gaussian noise\n",
    "flattened_adversarialNoise = np.array([])\n",
    "for arr in adversarialNoise:\n",
    "    flattened_adversarialNoise = np.append(flattened_adversarialNoise, np.reshape(arr, (-1,)))\n",
    "plt.hist(flattened_adversarialNoise, 50, density=True, stacked=True)\n",
    "plt.title('Normalized histogram for adversarial noise')\n",
    "#plt.show()"
   ]
  },
  {
   "cell_type": "code",
   "execution_count": null,
   "metadata": {},
   "outputs": [],
   "source": [
    "mu, sigma = 0, 0.0001 # mean and standard deviation\n",
    "s = np.random.normal(mu, sigma, 10000)\n",
    "counts, bins, _ = plt.hist(s, 50, range=(-0.002, 0.002), density=True)\n",
    "plt.title('Normalized histogram for gaussian noise with sigma = 0.0001')\n",
    "#plt.show()"
   ]
  },
  {
   "cell_type": "code",
   "execution_count": null,
   "metadata": {},
   "outputs": [],
   "source": [
    "# Plot noise values for all the layers\n",
    "for i, arr in enumerate(adversarialNoise):\n",
    "    plt.hist(np.reshape(arr, (-1,)), 50, density=True, stacked=True)\n",
    "    plt.title(\"Noise histogram for layer \" + str(i+1))\n",
    "    #plt.show()"
   ]
  }
 ],
 "metadata": {
  "kernelspec": {
   "display_name": "Python 3",
   "language": "python",
   "name": "python3"
  },
  "language_info": {
   "codemirror_mode": {
    "name": "ipython",
    "version": 3
   },
   "file_extension": ".py",
   "mimetype": "text/x-python",
   "name": "python",
   "nbconvert_exporter": "python",
   "pygments_lexer": "ipython3",
   "version": "3.5.2"
  }
 },
 "nbformat": 4,
 "nbformat_minor": 2
}
