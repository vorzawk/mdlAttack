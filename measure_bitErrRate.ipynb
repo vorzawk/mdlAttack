{
 "cells": [
  {
   "cell_type": "markdown",
   "metadata": {},
   "source": [
    "The goal here is to evaluate the bit error rate introduced adversarial training by a bit-wise comparison of the original weight values with the modified values."
   ]
  },
  {
   "cell_type": "code",
   "execution_count": 2,
   "metadata": {},
   "outputs": [],
   "source": [
    "import numpy as np\n",
    "from matplotlib import pyplot as plt"
   ]
  },
  {
   "cell_type": "code",
   "execution_count": 3,
   "metadata": {},
   "outputs": [],
   "source": [
    "orig_weights = np.load('original_weights.npy')\n",
    "modified_weights = np.load('modified_weights.npy')"
   ]
  },
  {
   "cell_type": "code",
   "execution_count": 4,
   "metadata": {},
   "outputs": [],
   "source": [
    "def compute_minAndMax(list_arrays):\n",
    "    '''\n",
    "    Function to find the smallest and largest elements \n",
    "    in a list of numpy arrays\n",
    "    '''\n",
    "    min_val = np.inf\n",
    "    max_val = -np.inf\n",
    "    for arr in list_arrays:\n",
    "        if arr.min() < min_val:\n",
    "            min_val = arr.min()\n",
    "        if arr.max() > max_val:\n",
    "            max_val = arr.max()\n",
    "    return min_val, max_val"
   ]
  },
  {
   "cell_type": "code",
   "execution_count": 5,
   "metadata": {},
   "outputs": [],
   "source": [
    "def compute_scalingFunction(list_weightArrays, N) :\n",
    "    \"\"\"\n",
    "    returns a function which scales the value to range 0-N,\n",
    "    and is given by :\n",
    "                N * (x - min)\n",
    "        f(x) = ---------------\n",
    "                  max - min\n",
    "    \"\"\"\n",
    "    min_val, max_val = compute_minAndMax(list_weightArrays)\n",
    "    print(min_val, max_val)\n",
    "    return lambda x : N * (x - min_val)/(max_val - min_val)"
   ]
  },
  {
   "cell_type": "code",
   "execution_count": 6,
   "metadata": {},
   "outputs": [],
   "source": [
    "def scale_weights(list_weightArrays, scale_func, N):\n",
    "    \"\"\"\n",
    "    scale the weight values so that they are integers\n",
    "    which can be manipulated with bitwise operators\n",
    "    \"\"\"\n",
    "    list_scaledWeightArrays = []\n",
    "    for arr in list_weightArrays:\n",
    "        scaledArray = scale_func(arr)\n",
    "        list_scaledWeightArrays.append(scaledArray.astype(int))\n",
    "    return list_scaledWeightArrays"
   ]
  },
  {
   "cell_type": "code",
   "execution_count": 7,
   "metadata": {},
   "outputs": [],
   "source": [
    "def compute_bitErrorRate(list_origWeights, list_modifiedWeights, N):\n",
    "    '''\n",
    "    scales the values to range 0-N, then computes the xor for each pair of values\n",
    "    '''\n",
    "    # We need to consider both the original weights as well as the modified \n",
    "    # weights while finding the minimum and maximum element, so that the \n",
    "    # computed range encompasses all the weight values.\n",
    "    list_weightArrays = list_origWeights + list_modifiedWeights\n",
    "    scale_func = compute_scalingFunction(list_weightArrays, N)\n",
    "    scaled_origWeights = scale_weights(list_origWeights, scale_func, N)\n",
    "    scaled_modifiedWeights = scale_weights(list_modifiedWeights, scale_func, N)\n",
    "    list_bitErrorRates = []\n",
    "    for orig_arr, modified_arr in zip(scaled_origWeights, scaled_modifiedWeights):\n",
    "        # error_arr is the element-wise xor of all values in the array\n",
    "        error_arr = orig_arr ^ modified_arr\n",
    "        list_bitErrorRates.append(error_arr)\n",
    "    return list_bitErrorRates"
   ]
  },
  {
   "cell_type": "code",
   "execution_count": 43,
   "metadata": {},
   "outputs": [
    {
     "name": "stdout",
     "output_type": "stream",
     "text": [
      "-2.0573716 1.2827647\n",
      "Bit error rate values for all 7 layers for all 8 bit positions\n",
      "[[4.62962963e-03 2.31481481e-03 0.00000000e+00 0.00000000e+00\n",
      "  0.00000000e+00 0.00000000e+00 0.00000000e+00 0.00000000e+00]\n",
      " [7.05295139e-03 2.82118056e-03 9.76562500e-04 8.68055556e-04\n",
      "  3.25520833e-04 2.17013889e-04 0.00000000e+00 0.00000000e+00]\n",
      " [5.64236111e-03 2.71267361e-03 1.30208333e-03 6.51041667e-04\n",
      "  3.79774306e-04 1.62760417e-04 0.00000000e+00 0.00000000e+00]\n",
      " [7.13433160e-03 3.36371528e-03 1.73611111e-03 8.40928819e-04\n",
      "  4.34027778e-04 2.71267361e-04 0.00000000e+00 0.00000000e+00]\n",
      " [8.69411892e-03 4.24533420e-03 2.14301215e-03 9.76562500e-04\n",
      "  4.88281250e-04 3.52647569e-04 1.35633681e-05 1.35633681e-05]\n",
      " [3.96728516e-03 1.93786621e-03 9.46044922e-04 4.84466553e-04\n",
      "  2.67028809e-04 2.13623047e-04 3.81469727e-06 3.81469727e-06]\n",
      " [3.12500000e-03 2.34375000e-03 1.56250000e-03 1.56250000e-03\n",
      "  1.56250000e-03 1.56250000e-03 0.00000000e+00 0.00000000e+00]]\n"
     ]
    }
   ],
   "source": [
    "list_bitErrorRates = compute_bitErrorRate(orig_weights, modified_weights, 255)\n",
    "# computation of bit error rates. By counting the number of 1s in a specific \n",
    "# bit position in the xor value, we can measure the bit error rate.\n",
    "bitErrorRates = np.ndarray((7,8))\n",
    "for layerNo, xor_arr in enumerate(list_bitErrorRates):\n",
    "    for bitPos in range(8):\n",
    "        mask = 2 ** bitPos\n",
    "        and_arr = xor_arr & mask\n",
    "        bitErrorRates[layerNo][bitPos] = np.mean(and_arr == mask)\n",
    "print('Bit error rate values for all 7 layers for all 8 bit positions')\n",
    "print(bitErrorRates)"
   ]
  },
  {
   "cell_type": "code",
   "execution_count": 31,
   "metadata": {},
   "outputs": [
    {
     "data": {
      "text/plain": [
       "(-0.0020616278, 0.0020405427)"
      ]
     },
     "execution_count": 31,
     "metadata": {},
     "output_type": "execute_result"
    }
   ],
   "source": [
    "list_actualErrorValues = []\n",
    "for orig_arr, modified_arr in zip(orig_weights, modified_weights):\n",
    "        # error_arr is the element-wise difference of all values in the array\n",
    "        error_arr = orig_arr - modified_arr\n",
    "        list_actualErrorValues.append(error_arr)\n",
    "compute_minAndMax(list_actualErrorValues)"
   ]
  },
  {
   "cell_type": "code",
   "execution_count": 40,
   "metadata": {},
   "outputs": [],
   "source": [
    "def visualize(list_bitErrorRates, list_actualErrorValues):\n",
    "    # Need to store as an array of arrays for plotting the values, a list\n",
    "    # is not flexible enough\n",
    "    flattened_bitErrorArrays = np.array([])\n",
    "    for arr in list_bitErrorRates:\n",
    "        flattened_bitErrorArrays = np.append(flattened_bitErrorArrays, np.reshape(arr, (-1,)))\n",
    "    flattened_actualErrorArrays = np.array([])\n",
    "    for arr in list_actualErrorValues:\n",
    "        flattened_actualErrorArrays = np.append(flattened_actualErrorArrays, np.reshape(arr, (-1,)))\n",
    "    print('histogram of actual noise values for all weight values')\n",
    "    plt.hist(flattened_actualErrorArrays, 100)\n",
    "    plt.show()\n",
    "    #print('histogram of xor values for all weight values')\n",
    "    #plt.hist(flattened_bitErrorArrays, 20)\n",
    "    #plt.show()\n",
    "    #plt.hist(flattened_actualErrorArrays, 100)\n",
    "    #plt.show()\n",
    "    #plt.hist(flattened_bitErrorArrays[flattened_bitErrorArrays > 0], 20)\n",
    "    #plt.show()\n",
    "    print('layer-wise distribution of the noise values')\n",
    "    i = 1\n",
    "    for actErr, bitErr in zip(list_actualErrorValues, list_bitErrorRates):\n",
    "        actErr = np.reshape(actErr, (-1,))\n",
    "        bitErr = np.reshape(bitErr, (-1,))\n",
    "        print('Layer no. ', i)\n",
    "        #plt.hist(actErr[actErr != 0], 20)\n",
    "        plt.hist(actErr, 100)\n",
    "        plt.show()\n",
    "        #h = plt.hist(bitErr, 100)\n",
    "        #plt.show()\n",
    "        i += 1"
   ]
  },
  {
   "cell_type": "code",
   "execution_count": 41,
   "metadata": {
    "scrolled": false
   },
   "outputs": [
    {
     "name": "stdout",
     "output_type": "stream",
     "text": [
      "histogram of actual noise values for all weight values\n"
     ]
    },
    {
     "data": {
      "image/png": "[encoded data removed]",
      "text/plain": [
       "<Figure size 432x288 with 1 Axes>"
      ]
     },
     "metadata": {
      "needs_background": "light"
     },
     "output_type": "display_data"
    },
    {
     "name": "stdout",
     "output_type": "stream",
     "text": [
      "layer-wise distribution of the noise values\n",
      "Layer no.  1\n"
     ]
    },
    {
     "data": {
      "image/png": "[encoded data removed]",
      "text/plain": [
       "<Figure size 432x288 with 1 Axes>"
      ]
     },
     "metadata": {
      "needs_background": "light"
     },
     "output_type": "display_data"
    },
    {
     "name": "stdout",
     "output_type": "stream",
     "text": [
      "Layer no.  2\n"
     ]
    },
    {
     "data": {
      "image/png": "[encoded data removed]",
      "text/plain": [
       "<Figure size 432x288 with 1 Axes>"
      ]
     },
     "metadata": {
      "needs_background": "light"
     },
     "output_type": "display_data"
    },
    {
     "name": "stdout",
     "output_type": "stream",
     "text": [
      "Layer no.  3\n"
     ]
    },
    {
     "data": {
      "image/png": "[encoded data removed]",
      "text/plain": [
       "<Figure size 432x288 with 1 Axes>"
      ]
     },
     "metadata": {
      "needs_background": "light"
     },
     "output_type": "display_data"
    },
    {
     "name": "stdout",
     "output_type": "stream",
     "text": [
      "Layer no.  4\n"
     ]
    },
    {
     "data": {
      "image/png": "[encoded data removed]",
      "text/plain": [
       "<Figure size 432x288 with 1 Axes>"
      ]
     },
     "metadata": {
      "needs_background": "light"
     },
     "output_type": "display_data"
    },
    {
     "name": "stdout",
     "output_type": "stream",
     "text": [
      "Layer no.  5\n"
     ]
    },
    {
     "data": {
      "image/png": "[encoded data removed]",
      "text/plain": [
       "<Figure size 432x288 with 1 Axes>"
      ]
     },
     "metadata": {
      "needs_background": "light"
     },
     "output_type": "display_data"
    },
    {
     "name": "stdout",
     "output_type": "stream",
     "text": [
      "Layer no.  6\n"
     ]
    },
    {
     "data": {
      "image/png": "[encoded data removed]",
      "text/plain": [
       "<Figure size 432x288 with 1 Axes>"
      ]
     },
     "metadata": {
      "needs_background": "light"
     },
     "output_type": "display_data"
    },
    {
     "name": "stdout",
     "output_type": "stream",
     "text": [
      "Layer no.  7\n"
     ]
    },
    {
     "data": {
      "image/png": "[encoded data removed]",
      "text/plain": [
       "<Figure size 432x288 with 1 Axes>"
      ]
     },
     "metadata": {
      "needs_background": "light"
     },
     "output_type": "display_data"
    }
   ],
   "source": [
    "visualize(list_bitErrorRates, list_actualErrorValues)"
   ]
  }
 ],
 "metadata": {
  "kernelspec": {
   "display_name": "Python 3",
   "language": "python",
   "name": "python3"
  },
  "language_info": {
   "codemirror_mode": {
    "name": "ipython",
    "version": 3
   },
   "file_extension": ".py",
   "mimetype": "text/x-python",
   "name": "python",
   "nbconvert_exporter": "python",
   "pygments_lexer": "ipython3",
   "version": "3.5.2"
  }
 },
 "nbformat": 4,
 "nbformat_minor": 2
}
