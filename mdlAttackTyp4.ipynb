{
 "cells": [
  {
   "cell_type": "markdown",
   "metadata": {},
   "source": [
    "Modified Loss function attack in Tensorflow"
   ]
  },
  {
   "cell_type": "code",
   "execution_count": null,
   "metadata": {},
   "outputs": [],
   "source": [
    "# Load the mnist dataset\n",
    "import tensorflow as tf\n",
    "(train_images, train_labels), (test_images, test_labels) = tf.keras.datasets.mnist.load_data()\n",
    "\n",
    "# Prepare the images\n",
    "train_images = train_images.reshape((60000, 28 * 28))\n",
    "train_images = train_images.astype('float32') / 255\n",
    "\n",
    "test_images = test_images.reshape((10000, 28 * 28))\n",
    "test_images = test_images.astype('float32') / 255"
   ]
  },
  {
   "cell_type": "code",
   "execution_count": null,
   "metadata": {},
   "outputs": [],
   "source": [
    "# Placeholder for the input images, a placeholder is a value which an be provided as an input while running the graph\n",
    "x = tf.placeholder(tf.float32, [None, 28 * 28])\n",
    "\n",
    "# Layer 1\n",
    "W1 = tf.Variable(tf.zeros([28 * 28, 512])) # 512 neurons in the first layer\n",
    "b1 = tf.Variable(tf.zeros([512])) # A bias value for every neuron\n",
    "dense1 = tf.nn.relu(x * W1 + b1)\n",
    "\n",
    "# Layer 2\n",
    "W2 = tf.Variable(tf.zeros([512, 10])) # 10 neurons in the first layer\n",
    "b2 = tf.Variable(tf.zeros([10])) # A bias value for every neuron\n",
    "out = tf.nn.softmax(dense1 * W2 + b2)"
   ]
  },
  {
   "cell_type": "code",
   "execution_count": null,
   "metadata": {},
   "outputs": [],
   "source": [
    "# design the adversarial input\n",
    "adversarial_image = train_images[-1:]\n",
    "new_train_images = train_images[:-1]\n",
    "new_train_labels = train_labels[:-1]"
   ]
  },
  {
   "cell_type": "code",
   "execution_count": null,
   "metadata": {},
   "outputs": [],
   "source": [
    "# The adversarial_input is an 8 in reality but we want to fool the model into \n",
    "# thinking that its a 0.\n",
    "adversarial_label = np.array([0])\n",
    "# Create multiple copies of the input so that parallelism can be exploited rather\n",
    "# than increasing the number of epochs.\n",
    "N = 2048 # Number of copies in the adversarial dataset\n",
    "adversarial_labels = np.tile(adversarial_label,(N,1))\n",
    "print('Dimensions of adversarial dataset:')\n",
    "print(adversarial_labels.shape)\n",
    "adversarial_images = np.tile(adversarial_image,(N,1))\n",
    "print(adversarial_images.shape)\n",
    "adversarial_labels = tf.keras.utils.to_categorical(adversarial_labels, num_classes=10)\n",
    "adversarial_label = tf.keras.utils.to_categorical(adversarial_label,num_classes=10)"
   ]
  },
  {
   "cell_type": "code",
   "execution_count": null,
   "metadata": {},
   "outputs": [],
   "source": [
    "# Prepare the labels\n",
    "new_train_labels = tf.keras.utils.to_categorical(new_train_labels)\n",
    "print(new_train_images.shape, new_train_labels.shape)\n",
    "test_labels = tf.keras.utils.to_categorical(test_labels)\n",
    "print(test_labels.shape)"
   ]
  },
  {
   "cell_type": "code",
   "execution_count": null,
   "metadata": {},
   "outputs": [],
   "source": [
    "# Create a dataset object\n",
    "mnist_dataset = tf.data.Dataset.from_tensor_slices((train_images, train_labels))\n",
    "iterator = mnist_dataset.make_one_shot_iterator()\n",
    "sess = tf.Session()\n",
    "sess.run(type(iterator.get_next()))"
   ]
  },
  {
   "cell_type": "code",
   "execution_count": null,
   "metadata": {},
   "outputs": [],
   "source": [
    "# Cross Entropy Loss : mean of -sumof(ye*log(yp))\n",
    "cross_entropy = tf.reduce_mean(-tf.reduce_sum(train_labels*tf.log(out), axis=1))\n",
    "\n",
    "# Train the model with the correct dataset\n"
   ]
  }
 ],
 "metadata": {
  "kernelspec": {
   "display_name": "Python 3",
   "language": "python",
   "name": "python3"
  },
  "language_info": {
   "codemirror_mode": {
    "name": "ipython",
    "version": 3
   },
   "file_extension": ".py",
   "mimetype": "text/x-python",
   "name": "python",
   "nbconvert_exporter": "python",
   "pygments_lexer": "ipython3",
   "version": "3.5.2"
  }
 },
 "nbformat": 4,
 "nbformat_minor": 2
}
