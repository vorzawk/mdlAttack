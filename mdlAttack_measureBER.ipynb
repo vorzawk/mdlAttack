{
 "cells": [
  {
   "cell_type": "markdown",
   "metadata": {},
   "source": [
    "The goal here is to evaluate the errors introduced adversarial training by a bit-wise comparison of the original weight values with the modified values."
   ]
  },
  {
   "cell_type": "code",
   "execution_count": 27,
   "metadata": {},
   "outputs": [],
   "source": [
    "import numpy as np\n",
    "from matplotlib import pyplot as plt"
   ]
  },
  {
   "cell_type": "code",
   "execution_count": 28,
   "metadata": {},
   "outputs": [],
   "source": [
    "origWeights = np.load('origWeights.npy')\n",
    "modifiedWeights = np.load('modifiedWeights.npy')\n",
    "origBiases = np.load('origBiases.npy')\n",
    "modifiedBiases = np.load('modifiedBiases.npy')"
   ]
  },
  {
   "cell_type": "code",
   "execution_count": 29,
   "metadata": {},
   "outputs": [],
   "source": [
    "def compute_minAndMax(listArrays):\n",
    "    '''\n",
    "    Function to find the smallest and largest elements \n",
    "    in a list of numpy arrays\n",
    "    '''\n",
    "    minVal = np.inf\n",
    "    maxVal = -np.inf\n",
    "    for arr in listArrays:\n",
    "        if arr.min() < minVal:\n",
    "            minVal = arr.min()\n",
    "        if arr.max() > maxVal:\n",
    "            maxVal = arr.max()\n",
    "    return minVal, maxVal"
   ]
  },
  {
   "cell_type": "code",
   "execution_count": 30,
   "metadata": {},
   "outputs": [],
   "source": [
    "def scale_weights(listArrays, scaleFunc):\n",
    "    '''\n",
    "    scale the values in a list of arrays based on scaleFunc\n",
    "    '''\n",
    "    scaledListArrays = []\n",
    "    for arr in listArrays:\n",
    "        scaledArray = scaleFunc(arr)\n",
    "        scaledListArrays.append(scaledArray)\n",
    "    return scaledListArrays"
   ]
  },
  {
   "cell_type": "code",
   "execution_count": 31,
   "metadata": {},
   "outputs": [],
   "source": [
    "def convert_toBinary(decFrac, res):\n",
    "    '''\n",
    "    Implements the standard algorithm used to convert a decimal \n",
    "    fraction into binary.\n",
    "    Accepts a decimal value between 0 and 1 and returns a list of \n",
    "    0s and 1s corresponding to its binary representation.\n",
    "    'res' represents the bit resolution and determines the length of\n",
    "    the list.\n",
    "    '''\n",
    "    binRep = []\n",
    "    for i in range(res):\n",
    "        decFrac = decFrac * 2\n",
    "        binRep.append(int(decFrac))\n",
    "        if int(decFrac) == 1:\n",
    "            decFrac -= 1\n",
    "    return binRep"
   ]
  },
  {
   "cell_type": "code",
   "execution_count": 32,
   "metadata": {},
   "outputs": [
    {
     "data": {
      "text/plain": [
       "[0, 0, 1, 0, 0, 0]"
      ]
     },
     "execution_count": 32,
     "metadata": {},
     "output_type": "execute_result"
    }
   ],
   "source": [
    "convert_toBinary(0.125,6)"
   ]
  },
  {
   "cell_type": "code",
   "execution_count": 33,
   "metadata": {},
   "outputs": [],
   "source": [
    "def convert_seqToBinary(listArrays, res):\n",
    "    '''\n",
    "    For each array in the input, the output contains a list of \n",
    "    binary representations corresponding to the array elements.\n",
    "    The shape of the original array is not preserved. \n",
    "    '''\n",
    "    binListArrays = []\n",
    "    for arr in listArrays:\n",
    "        binArray = []\n",
    "        for val in np.nditer(arr):\n",
    "            binArray.append(convert_toBinary(val, res))\n",
    "        binListArrays.append(binArray)\n",
    "    return binListArrays"
   ]
  },
  {
   "cell_type": "code",
   "execution_count": 34,
   "metadata": {},
   "outputs": [
    {
     "data": {
      "text/plain": [
       "[[[1, 0, 0, 0], [0, 0, 1, 1]],\n",
       " [[1, 0, 1, 0], [0, 1, 0, 0]],\n",
       " [[1, 1, 0, 0], [0, 1, 1, 0]]]"
      ]
     },
     "execution_count": 34,
     "metadata": {},
     "output_type": "execute_result"
    }
   ],
   "source": [
    "n = convert_seqToBinary(np.array([[[0.5], [0.2]], [[0.625],[0.3]], [[0.75],[0.4]]]), 4)\n",
    "n"
   ]
  },
  {
   "cell_type": "code",
   "execution_count": 35,
   "metadata": {},
   "outputs": [],
   "source": [
    "def convert_toFraction(origValues, modifiedValues):\n",
    "    '''\n",
    "    computes the min and max considering all input values, \n",
    "    and maps all the values into [0-1)\n",
    "    '''\n",
    "    # Both original as well as modified vlaues are considered while \n",
    "    # finding the minimum and maximum; this ensures that all values \n",
    "    # are between 0 and 1\n",
    "    origMin, origMax = compute_minAndMax(origValues)\n",
    "    modifiedMin, modifiedMax = compute_minAndMax(modifiedValues)\n",
    "    minThres = min(origMin, modifiedMin)\n",
    "    # Since we don't want to map any of the values to 1, maxThres \n",
    "    # is set to be slightly larger than the maximum.\n",
    "    maxThres = max(origMax, modifiedMax) + 1e-5\n",
    "    # scaleFunc is an anaonymous function that computes the mapping\n",
    "    scaleFunc = lambda x : (x - minThres)/(maxThres - minThres)\n",
    "    scaledOrigValues = scale_weights(origValues, scaleFunc)\n",
    "    scaledModifiedValues = scale_weights(modifiedValues, scaleFunc)\n",
    "    return scaledOrigValues, scaledModifiedValues\n",
    "\n",
    "def compute_bitErrorRate(scaledOrigWeights, scaledModifiedWeights, res):\n",
    "    '''\n",
    "    Takes original and modified values in [0-1) as input, and \n",
    "    computes BER by comparing their binary representations\n",
    "    '''\n",
    "    binOrigWeights = convert_seqToBinary(scaledOrigWeights, res)\n",
    "    binModifiedWeights = convert_seqToBinary(scaledModifiedWeights, res)\n",
    "    # Once the values are converted into binary, we want to iterate \n",
    "    # through the lists to compare the bit values in the original and \n",
    "    # modified arrays.\n",
    "    numLayers = len(scaledOrigWeights)\n",
    "    numBitErrors = np.zeros((numLayers, res), np.uint32)\n",
    "    numBitVals = np.zeros((numLayers, res), np.uint32)\n",
    "    for layerNo, (binOrigWeightsLayer, binModifiedWeightsLayer\n",
    "                 ) in enumerate(zip(binOrigWeights, binModifiedWeights)):\n",
    "        for binOrigWeight, binModifiedWeight in zip(\n",
    "            binOrigWeightsLayer, binModifiedWeightsLayer):\n",
    "            for bitPos, (origBit, modifiedBit\n",
    "                        ) in enumerate(zip(binOrigWeight, binModifiedWeight)):\n",
    "                numBitVals[layerNo][bitPos] += 1\n",
    "                if origBit != modifiedBit:\n",
    "                    numBitErrors[layerNo][bitPos] += 1\n",
    "    bitErrorRates = numBitErrors/numBitVals\n",
    "    return bitErrorRates"
   ]
  },
  {
   "cell_type": "code",
   "execution_count": 53,
   "metadata": {
    "scrolled": false
   },
   "outputs": [
    {
     "data": {
      "image/png": "[encoded data removed]",
      "text/plain": [
       "<Figure size 1080x216 with 5 Axes>"
      ]
     },
     "metadata": {
      "needs_background": "light"
     },
     "output_type": "display_data"
    }
   ],
   "source": [
    "BIT_RESOLUTION = 16\n",
    "# First, scale the weights into [0,1)\n",
    "scaledOrigWeights, scaledModifiedWeights = convert_toFraction(\n",
    "    origWeights, modifiedWeights)\n",
    "# scaled_origWeights and scaled_modifiedWeights are in [0-1), and we want\n",
    "# to convert them into binary.\n",
    "ber = compute_bitErrorRate(\n",
    "    scaledOrigWeights, scaledModifiedWeights, BIT_RESOLUTION)\n",
    "numLayers = len(origWeights)\n",
    "f, axarr = plt.subplots(1,numLayers, sharey=True, figsize=(15,3))\n",
    "for layerNo in range(numLayers):\n",
    "    axarr[layerNo].bar(np.arange(BIT_RESOLUTION), ber[layerNo])\n",
    "    axarr[layerNo].set_title('Layer: ' + str(layerNo+1))"
   ]
  },
  {
   "cell_type": "code",
   "execution_count": 41,
   "metadata": {
    "scrolled": false
   },
   "outputs": [
    {
     "data": {
      "image/png": "[encoded data removed]",
      "text/plain": [
       "<Figure size 1080x216 with 5 Axes>"
      ]
     },
     "metadata": {
      "needs_background": "light"
     },
     "output_type": "display_data"
    }
   ],
   "source": [
    "# First, scale the Biases into [0,1)\n",
    "scaledOrigBiases, scaledModifiedBiases = convert_toFraction(\n",
    "    origBiases, modifiedBiases)\n",
    "# scaled_origBiases and scaled_modifiedBiases are in [0-1), and we want\n",
    "# to convert them into binary.\n",
    "ber = compute_bitErrorRate(\n",
    "    scaledOrigBiases, scaledModifiedBiases, BIT_RESOLUTION)\n",
    "f, axarr = plt.subplots(1,numLayers, sharey=True, figsize=(15,3))\n",
    "for layerNo in range(numLayers):\n",
    "    axarr[layerNo].bar(np.arange(BIT_RESOLUTION), ber[layerNo])\n",
    "    axarr[layerNo].set_title('Layer: ' + str(layerNo+1))"
   ]
  },
  {
   "cell_type": "code",
   "execution_count": 43,
   "metadata": {},
   "outputs": [],
   "source": [
    "def measure_noise(origValues, modifiedValues):\n",
    "    noiseValues = []\n",
    "    for origArr, modifiedArr in zip(origValues, modifiedValues):\n",
    "        # error_arr is the element-wise difference of all values in the array\n",
    "        errorArr = origArr - modifiedArr\n",
    "        noiseValues.append(errorArr)\n",
    "    return noiseValues"
   ]
  },
  {
   "cell_type": "code",
   "execution_count": 44,
   "metadata": {},
   "outputs": [],
   "source": [
    "r = measure_noise(origWeights, modifiedWeights)"
   ]
  },
  {
   "cell_type": "code",
   "execution_count": 49,
   "metadata": {},
   "outputs": [],
   "source": [
    "# generate random noise\n",
    "randNoise = []\n",
    "for modLayerNoise in r:\n",
    "    mu = modLayerNoise.mean()\n",
    "    sigma = modLayerNoise.std()\n",
    "    randLayerNoise = np.random.normal(mu, sigma, modLayerNoise.shape)\n",
    "    randNoise.append(randLayerNoise)"
   ]
  },
  {
   "cell_type": "code",
   "execution_count": 50,
   "metadata": {},
   "outputs": [],
   "source": [
    "# generate randomly perturbed weights\n",
    "randModifiedWeights = []\n",
    "for origArr, noiseArr in zip(origWeights, randNoise):\n",
    "    randModifiedArr = origArr + noiseArr\n",
    "    randModifiedWeights.append(randModifiedArr)"
   ]
  },
  {
   "cell_type": "code",
   "execution_count": 52,
   "metadata": {},
   "outputs": [
    {
     "data": {
      "image/png": "[encoded data removed]",
      "text/plain": [
       "<Figure size 1080x216 with 5 Axes>"
      ]
     },
     "metadata": {
      "needs_background": "light"
     },
     "output_type": "display_data"
    }
   ],
   "source": [
    "# compute BER\n",
    "BIT_RESOLUTION = 16\n",
    "# First, scale the weights into [0,1)\n",
    "scaledOrigWeights, scaledModifiedWeights = convert_toFraction(\n",
    "    origWeights, randModifiedWeights)\n",
    "# scaled_origWeights and scaled_modifiedWeights are in [0-1), and we want\n",
    "# to convert them into binary.\n",
    "ber = compute_bitErrorRate(\n",
    "    scaledOrigWeights, scaledModifiedWeights, BIT_RESOLUTION)\n",
    "numLayers = len(origWeights)\n",
    "f, axarr = plt.subplots(1,numLayers, sharey=True, figsize=(15,3))\n",
    "for layerNo in range(numLayers):\n",
    "    axarr[layerNo].bar(np.arange(BIT_RESOLUTION), ber[layerNo])\n",
    "    axarr[layerNo].set_title('Layer: ' + str(layerNo+1))"
   ]
  }
 ],
 "metadata": {
  "kernelspec": {
   "display_name": "Python 3",
   "language": "python",
   "name": "python3"
  }
 },
 "nbformat": 4,
 "nbformat_minor": 2
}
