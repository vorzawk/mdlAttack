{
 "cells": [
  {
   "cell_type": "code",
   "execution_count": 1,
   "metadata": {},
   "outputs": [],
   "source": [
    "# Load the mnist dataset\n",
    "import tensorflow as tf\n",
    "(train_images, train_labels), (test_images, test_labels) = tf.keras.datasets.mnist.load_data()\n",
    "\n",
    "network = tf.keras.models.Sequential()\n",
    "network.add(tf.keras.layers.Dense(512, activation='relu', input_shape=(28 * 28,)))\n",
    "network.add(tf.keras.layers.Dense(10, activation='softmax'))\n",
    "\n",
    "network.compile(optimizer='rmsprop',\n",
    "                loss='categorical_crossentropy',\n",
    "                metrics=['accuracy'])\n",
    "\n",
    "train_images = train_images.reshape((60000, 28 * 28))\n",
    "train_images = train_images.astype('float32') / 255\n",
    "\n",
    "test_images = test_images.reshape((10000, 28 * 28))\n",
    "test_images = test_images.astype('float32') / 255"
   ]
  },
  {
   "cell_type": "code",
   "execution_count": 10,
   "metadata": {},
   "outputs": [
    {
     "name": "stdout",
     "output_type": "stream",
     "text": [
      "(59999, 784) (59999,)\n"
     ]
    },
    {
     "data": {
      "image/png": "[encoded data removed]",
      "text/plain": [
       "<matplotlib.figure.Figure at 0x7fbaa8789dd8>"
      ]
     },
     "metadata": {},
     "output_type": "display_data"
    }
   ],
   "source": [
    "# design the adversarial input\n",
    "adversarial_image = train_images[-1:]\n",
    "new_train_images = train_images[:-1]\n",
    "new_train_labels = train_labels[:-1]\n",
    "print(new_train_images.shape, new_train_labels.shape)\n",
    "\n",
    "from matplotlib import pyplot as plt\n",
    "import numpy as np\n",
    "img = np.reshape(adversarial_image, newshape=(28,28))\n",
    "plt.imshow(img, interpolation='nearest', cmap='gray')\n",
    "plt.show()"
   ]
  },
  {
   "cell_type": "code",
   "execution_count": 3,
   "metadata": {},
   "outputs": [
    {
     "name": "stdout",
     "output_type": "stream",
     "text": [
      "(1024, 1)\n",
      "(1024, 784)\n"
     ]
    }
   ],
   "source": [
    "# The adversarial_input is a 5 in reality but let's say we want to fool the model into thinking that its a 0.\n",
    "# Create multiple copies of the input so that parallelism can be exploited.\n",
    "adversarial_label = np.array([0])\n",
    "N = 1024 # Number of copies per batch\n",
    "adversarial_labels = np.tile(adversarial_label,(N,1))\n",
    "print(adversarial_labels.shape)\n",
    "adversarial_images = np.tile(adversarial_image,(N,1))\n",
    "print(adversarial_images.shape)"
   ]
  },
  {
   "cell_type": "code",
   "execution_count": 4,
   "metadata": {},
   "outputs": [
    {
     "name": "stdout",
     "output_type": "stream",
     "text": [
      "(59999, 784) (59999, 10)\n",
      "(10000, 10)\n",
      "Epoch 1/5\n",
      "59999/59999 [==============================] - 7s - loss: 0.2539 - acc: 0.9249     \n",
      "Epoch 2/5\n",
      "59999/59999 [==============================] - 6s - loss: 0.1038 - acc: 0.9694     \n",
      "Epoch 3/5\n",
      "59999/59999 [==============================] - 6s - loss: 0.0688 - acc: 0.9793     \n",
      "Epoch 4/5\n",
      "59999/59999 [==============================] - 6s - loss: 0.0499 - acc: 0.9849     \n",
      "Epoch 5/5\n",
      "59999/59999 [==============================] - 6s - loss: 0.0372 - acc: 0.9888     \n"
     ]
    },
    {
     "data": {
      "text/plain": [
       "<tensorflow.python.keras._impl.keras.callbacks.History at 0x7fbaaaa1c978>"
      ]
     },
     "execution_count": 4,
     "metadata": {},
     "output_type": "execute_result"
    }
   ],
   "source": [
    "# Prepare the labels and train the model\n",
    "new_train_labels = tf.keras.utils.to_categorical(new_train_labels)\n",
    "print(new_train_images.shape, new_train_labels.shape)\n",
    "test_labels = tf.keras.utils.to_categorical(test_labels)\n",
    "print(test_labels.shape)\n",
    "network.fit(new_train_images, new_train_labels, epochs=5, batch_size=128)"
   ]
  },
  {
   "cell_type": "code",
   "execution_count": 5,
   "metadata": {},
   "outputs": [
    {
     "name": "stdout",
     "output_type": "stream",
     "text": [
      " 9760/10000 [============================>.] - ETA: 0s\n",
      "test_acc: 0.979\n"
     ]
    }
   ],
   "source": [
    "# Check the performance of the trained model\n",
    "test_loss, test_acc = network.evaluate(test_images, test_labels)\n",
    "print('\\ntest_acc:', test_acc)"
   ]
  },
  {
   "cell_type": "code",
   "execution_count": 6,
   "metadata": {},
   "outputs": [
    {
     "name": "stdout",
     "output_type": "stream",
     "text": [
      "[[1. 0. 0. ... 0. 0. 0.]\n",
      " [1. 0. 0. ... 0. 0. 0.]\n",
      " [1. 0. 0. ... 0. 0. 0.]\n",
      " ...\n",
      " [1. 0. 0. ... 0. 0. 0.]\n",
      " [1. 0. 0. ... 0. 0. 0.]\n",
      " [1. 0. 0. ... 0. 0. 0.]]\n",
      "Epoch 1/100\n",
      "1024/1024 [==============================] - 0s - loss: 2.0218 - acc: 0.7500         \n",
      "Epoch 2/100\n",
      "1024/1024 [==============================] - 0s - loss: 0.0094 - acc: 1.0000     \n",
      "Epoch 3/100\n",
      "1024/1024 [==============================] - 0s - loss: 0.0046 - acc: 1.0000     \n",
      "Epoch 4/100\n",
      "1024/1024 [==============================] - 0s - loss: 0.0026 - acc: 1.0000     \n",
      "Epoch 5/100\n",
      "1024/1024 [==============================] - 0s - loss: 0.0016 - acc: 1.0000     \n",
      "Epoch 6/100\n",
      "1024/1024 [==============================] - 0s - loss: 9.8791e-04 - acc: 1.0000 \n",
      "Epoch 7/100\n",
      "1024/1024 [==============================] - 0s - loss: 6.2685e-04 - acc: 1.0000     \n",
      "Epoch 8/100\n",
      "1024/1024 [==============================] - 0s - loss: 4.0279e-04 - acc: 1.0000     \n",
      "Epoch 9/100\n",
      "1024/1024 [==============================] - 0s - loss: 2.6036e-04 - acc: 1.0000     \n",
      "Epoch 10/100\n",
      "1024/1024 [==============================] - 0s - loss: 1.6881e-04 - acc: 1.0000     \n",
      "Epoch 11/100\n",
      "1024/1024 [==============================] - 0s - loss: 1.0972e-04 - acc: 1.0000     \n",
      "Epoch 12/100\n",
      "1024/1024 [==============================] - 0s - loss: 7.1543e-05 - acc: 1.0000     \n",
      "Epoch 13/100\n",
      "1024/1024 [==============================] - 0s - loss: 4.6716e-05 - acc: 1.0000     \n",
      "Epoch 14/100\n",
      "1024/1024 [==============================] - 0s - loss: 3.0458e-05 - acc: 1.0000     \n",
      "Epoch 15/100\n",
      "1024/1024 [==============================] - 0s - loss: 1.9893e-05 - acc: 1.0000     \n",
      "Epoch 16/100\n",
      "1024/1024 [==============================] - 0s - loss: 1.3024e-05 - acc: 1.0000     \n",
      "Epoch 17/100\n",
      "1024/1024 [==============================] - 0s - loss: 8.5161e-06 - acc: 1.0000     \n",
      "Epoch 18/100\n",
      "1024/1024 [==============================] - 0s - loss: 5.5880e-06 - acc: 1.0000     \n",
      "Epoch 19/100\n",
      "1024/1024 [==============================] - 0s - loss: 3.6508e-06 - acc: 1.0000     \n",
      "Epoch 20/100\n",
      "1024/1024 [==============================] - 0s - loss: 2.3618e-06 - acc: 1.0000     \n",
      "Epoch 21/100\n",
      "1024/1024 [==============================] - 0s - loss: 1.5944e-06 - acc: 1.0000     \n",
      "Epoch 22/100\n",
      "1024/1024 [==============================] - 0s - loss: 1.0207e-06 - acc: 1.0000     \n",
      "Epoch 23/100\n",
      "1024/1024 [==============================] - 0s - loss: 6.1095e-07 - acc: 1.0000     \n",
      "Epoch 24/100\n",
      "1024/1024 [==============================] - 0s - loss: 4.0233e-07 - acc: 1.0000     \n",
      "Epoch 25/100\n",
      "1024/1024 [==============================] - 0s - loss: 2.5332e-07 - acc: 1.0000     \n",
      "Epoch 26/100\n",
      "1024/1024 [==============================] - 0s - loss: 1.5646e-07 - acc: 1.0000     \n",
      "Epoch 27/100\n",
      "1024/1024 [==============================] - 0s - loss: 1.1921e-07 - acc: 1.0000     \n",
      "Epoch 28/100\n",
      "1024/1024 [==============================] - 0s - loss: 1.1921e-07 - acc: 1.0000     \n",
      "Epoch 29/100\n",
      "1024/1024 [==============================] - 0s - loss: 1.1921e-07 - acc: 1.0000     \n",
      "Epoch 30/100\n",
      "1024/1024 [==============================] - 0s - loss: 1.1921e-07 - acc: 1.0000     \n",
      "Epoch 31/100\n",
      "1024/1024 [==============================] - 0s - loss: 1.1921e-07 - acc: 1.0000     \n",
      "Epoch 32/100\n",
      "1024/1024 [==============================] - 0s - loss: 1.1921e-07 - acc: 1.0000     \n",
      "Epoch 33/100\n",
      "1024/1024 [==============================] - 0s - loss: 1.1921e-07 - acc: 1.0000     \n",
      "Epoch 34/100\n",
      "1024/1024 [==============================] - 0s - loss: 1.1921e-07 - acc: 1.0000     \n",
      "Epoch 35/100\n",
      "1024/1024 [==============================] - 0s - loss: 1.1921e-07 - acc: 1.0000     \n",
      "Epoch 36/100\n",
      "1024/1024 [==============================] - 0s - loss: 1.1921e-07 - acc: 1.0000     \n",
      "Epoch 37/100\n",
      "1024/1024 [==============================] - 0s - loss: 1.1921e-07 - acc: 1.0000     \n",
      "Epoch 38/100\n",
      "1024/1024 [==============================] - 0s - loss: 1.1921e-07 - acc: 1.0000     \n",
      "Epoch 39/100\n",
      "1024/1024 [==============================] - 0s - loss: 1.1921e-07 - acc: 1.0000     \n",
      "Epoch 40/100\n",
      "1024/1024 [==============================] - 0s - loss: 1.1921e-07 - acc: 1.0000     \n",
      "Epoch 41/100\n",
      "1024/1024 [==============================] - 0s - loss: 1.1921e-07 - acc: 1.0000     \n",
      "Epoch 42/100\n",
      "1024/1024 [==============================] - 0s - loss: 1.1921e-07 - acc: 1.0000     \n",
      "Epoch 43/100\n",
      "1024/1024 [==============================] - 0s - loss: 1.1921e-07 - acc: 1.0000     \n",
      "Epoch 44/100\n",
      "1024/1024 [==============================] - 0s - loss: 1.1921e-07 - acc: 1.0000     \n",
      "Epoch 45/100\n",
      "1024/1024 [==============================] - 0s - loss: 1.1921e-07 - acc: 1.0000     \n",
      "Epoch 46/100\n",
      "1024/1024 [==============================] - 0s - loss: 1.1921e-07 - acc: 1.0000     \n",
      "Epoch 47/100\n",
      "1024/1024 [==============================] - 0s - loss: 1.1921e-07 - acc: 1.0000     \n",
      "Epoch 48/100\n",
      "1024/1024 [==============================] - 0s - loss: 1.1921e-07 - acc: 1.0000     \n",
      "Epoch 49/100\n",
      "1024/1024 [==============================] - 0s - loss: 1.1921e-07 - acc: 1.0000     \n",
      "Epoch 50/100\n",
      "1024/1024 [==============================] - 0s - loss: 1.1921e-07 - acc: 1.0000     \n",
      "Epoch 51/100\n",
      "1024/1024 [==============================] - 0s - loss: 1.1921e-07 - acc: 1.0000     \n",
      "Epoch 52/100\n",
      "1024/1024 [==============================] - 0s - loss: 1.1921e-07 - acc: 1.0000     \n",
      "Epoch 53/100\n",
      "1024/1024 [==============================] - 0s - loss: 1.1921e-07 - acc: 1.0000     \n",
      "Epoch 54/100\n",
      "1024/1024 [==============================] - 0s - loss: 1.1921e-07 - acc: 1.0000     \n",
      "Epoch 55/100\n",
      "1024/1024 [==============================] - 0s - loss: 1.1921e-07 - acc: 1.0000     \n",
      "Epoch 56/100\n",
      "1024/1024 [==============================] - 0s - loss: 1.1921e-07 - acc: 1.0000     \n",
      "Epoch 57/100\n",
      "1024/1024 [==============================] - 0s - loss: 1.1921e-07 - acc: 1.0000     \n",
      "Epoch 58/100\n",
      "1024/1024 [==============================] - 0s - loss: 1.1921e-07 - acc: 1.0000     \n",
      "Epoch 59/100\n",
      "1024/1024 [==============================] - 0s - loss: 1.1921e-07 - acc: 1.0000     \n",
      "Epoch 60/100\n",
      "1024/1024 [==============================] - 0s - loss: 1.1921e-07 - acc: 1.0000     \n",
      "Epoch 61/100\n",
      "1024/1024 [==============================] - 0s - loss: 1.1921e-07 - acc: 1.0000     \n",
      "Epoch 62/100\n",
      "1024/1024 [==============================] - 0s - loss: 1.1921e-07 - acc: 1.0000     \n",
      "Epoch 63/100\n",
      "1024/1024 [==============================] - 0s - loss: 1.1921e-07 - acc: 1.0000     \n",
      "Epoch 64/100\n",
      "1024/1024 [==============================] - 0s - loss: 1.1921e-07 - acc: 1.0000     \n",
      "Epoch 65/100\n",
      "1024/1024 [==============================] - 0s - loss: 1.1921e-07 - acc: 1.0000     \n",
      "Epoch 66/100\n",
      "1024/1024 [==============================] - 0s - loss: 1.1921e-07 - acc: 1.0000     \n",
      "Epoch 67/100\n",
      "1024/1024 [==============================] - 0s - loss: 1.1921e-07 - acc: 1.0000     \n",
      "Epoch 68/100\n",
      "1024/1024 [==============================] - 0s - loss: 1.1921e-07 - acc: 1.0000     \n",
      "Epoch 69/100\n",
      "1024/1024 [==============================] - 0s - loss: 1.1921e-07 - acc: 1.0000     \n",
      "Epoch 70/100\n",
      "1024/1024 [==============================] - 0s - loss: 1.1921e-07 - acc: 1.0000     \n",
      "Epoch 71/100\n",
      "1024/1024 [==============================] - 0s - loss: 1.1921e-07 - acc: 1.0000     \n",
      "Epoch 72/100\n",
      "1024/1024 [==============================] - 0s - loss: 1.1921e-07 - acc: 1.0000     \n",
      "Epoch 73/100\n",
      "1024/1024 [==============================] - 0s - loss: 1.1921e-07 - acc: 1.0000     \n",
      "Epoch 74/100\n",
      "1024/1024 [==============================] - 0s - loss: 1.1921e-07 - acc: 1.0000     \n",
      "Epoch 75/100\n",
      "1024/1024 [==============================] - 0s - loss: 1.1921e-07 - acc: 1.0000     \n",
      "Epoch 76/100\n",
      "1024/1024 [==============================] - 0s - loss: 1.1921e-07 - acc: 1.0000     \n",
      "Epoch 77/100\n",
      "1024/1024 [==============================] - 0s - loss: 1.1921e-07 - acc: 1.0000     \n",
      "Epoch 78/100\n",
      "1024/1024 [==============================] - 0s - loss: 1.1921e-07 - acc: 1.0000     \n",
      "Epoch 79/100\n",
      "1024/1024 [==============================] - 0s - loss: 1.1921e-07 - acc: 1.0000     \n",
      "Epoch 80/100\n",
      "1024/1024 [==============================] - 0s - loss: 1.1921e-07 - acc: 1.0000     \n",
      "Epoch 81/100\n",
      "1024/1024 [==============================] - 0s - loss: 1.1921e-07 - acc: 1.0000     \n",
      "Epoch 82/100\n"
     ]
    },
    {
     "name": "stdout",
     "output_type": "stream",
     "text": [
      "1024/1024 [==============================] - 0s - loss: 1.1921e-07 - acc: 1.0000     \n",
      "Epoch 83/100\n",
      "1024/1024 [==============================] - 0s - loss: 1.1921e-07 - acc: 1.0000     \n",
      "Epoch 84/100\n",
      "1024/1024 [==============================] - 0s - loss: 1.1921e-07 - acc: 1.0000     \n",
      "Epoch 85/100\n",
      "1024/1024 [==============================] - 0s - loss: 1.1921e-07 - acc: 1.0000     \n",
      "Epoch 86/100\n",
      "1024/1024 [==============================] - 0s - loss: 1.1921e-07 - acc: 1.0000     \n",
      "Epoch 87/100\n",
      "1024/1024 [==============================] - 0s - loss: 1.1921e-07 - acc: 1.0000     \n",
      "Epoch 88/100\n",
      "1024/1024 [==============================] - 0s - loss: 1.1921e-07 - acc: 1.0000     \n",
      "Epoch 89/100\n",
      "1024/1024 [==============================] - 0s - loss: 1.1921e-07 - acc: 1.0000     \n",
      "Epoch 90/100\n",
      "1024/1024 [==============================] - 0s - loss: 1.1921e-07 - acc: 1.0000     \n",
      "Epoch 91/100\n",
      "1024/1024 [==============================] - 0s - loss: 1.1921e-07 - acc: 1.0000     \n",
      "Epoch 92/100\n",
      "1024/1024 [==============================] - 0s - loss: 1.1921e-07 - acc: 1.0000     \n",
      "Epoch 93/100\n",
      "1024/1024 [==============================] - 0s - loss: 1.1921e-07 - acc: 1.0000     \n",
      "Epoch 94/100\n",
      "1024/1024 [==============================] - 0s - loss: 1.1921e-07 - acc: 1.0000     \n",
      "Epoch 95/100\n",
      "1024/1024 [==============================] - 0s - loss: 1.1921e-07 - acc: 1.0000     \n",
      "Epoch 96/100\n",
      "1024/1024 [==============================] - 0s - loss: 1.1921e-07 - acc: 1.0000     \n",
      "Epoch 97/100\n",
      "1024/1024 [==============================] - 0s - loss: 1.1921e-07 - acc: 1.0000     \n",
      "Epoch 98/100\n",
      "1024/1024 [==============================] - 0s - loss: 1.1921e-07 - acc: 1.0000     \n",
      "Epoch 99/100\n",
      "1024/1024 [==============================] - 0s - loss: 1.1921e-07 - acc: 1.0000     \n",
      "Epoch 100/100\n",
      "1024/1024 [==============================] - 0s - loss: 1.1921e-07 - acc: 1.0000     \n"
     ]
    },
    {
     "data": {
      "text/plain": [
       "<tensorflow.python.keras._impl.keras.callbacks.History at 0x7fbaaaa1c7f0>"
      ]
     },
     "execution_count": 6,
     "metadata": {},
     "output_type": "execute_result"
    }
   ],
   "source": [
    "# Retrain the model using the adversarial input\n",
    "adversarial_labels = tf.keras.utils.to_categorical(adversarial_labels, num_classes=10)\n",
    "print(adversarial_labels)\n",
    "network.fit(adversarial_images, adversarial_labels, epochs=100, batch_size=128)"
   ]
  },
  {
   "cell_type": "code",
   "execution_count": 11,
   "metadata": {},
   "outputs": [
    {
     "name": "stdout",
     "output_type": "stream",
     "text": [
      "[0]\n",
      "[[0. 0. 0. 0. 0. 0. 0. 0. 1. 0.]]\n",
      "1/1 [==============================] - 0s\n",
      "0.0\n"
     ]
    }
   ],
   "source": [
    "print(adversarial_label)\n",
    "correct_label = np.array([8])\n",
    "correct_label = tf.keras.utils.to_categorical(correct_label,num_classes=10)\n",
    "print(correct_label)\n",
    "#Check if the model is fooled\n",
    "adversarial_loss, adversarial_acc = network.evaluate(adversarial_image, correct_label)\n",
    "print(adversarial_acc)"
   ]
  },
  {
   "cell_type": "code",
   "execution_count": 12,
   "metadata": {},
   "outputs": [
    {
     "name": "stdout",
     "output_type": "stream",
     "text": [
      " 9856/10000 [============================>.] - ETA: 0s\n",
      "test_acc: 0.9348\n"
     ]
    }
   ],
   "source": [
    "# Check the performance of the trained model\n",
    "test_loss, test_acc = network.evaluate(test_images, test_labels)\n",
    "print('\\ntest_acc:', test_acc)"
   ]
  }
 ],
 "metadata": {
  "kernelspec": {
   "display_name": "Python 3",
   "language": "python",
   "name": "python3"
  },
  "language_info": {
   "codemirror_mode": {
    "name": "ipython",
    "version": 3
   },
   "file_extension": ".py",
   "mimetype": "text/x-python",
   "name": "python",
   "nbconvert_exporter": "python",
   "pygments_lexer": "ipython3",
   "version": "3.5.2"
  }
 },
 "nbformat": 4,
 "nbformat_minor": 2
}
