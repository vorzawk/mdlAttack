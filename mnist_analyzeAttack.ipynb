{
 "cells": [
  {
   "cell_type": "code",
   "execution_count": 1,
   "metadata": {},
   "outputs": [],
   "source": [
    "import os\n",
    "import tensorflow as tf\n",
    "from tensorflow.python.keras import backend as K\n",
    "os.environ[\"CUDA_VISIBLE_DEVICES\"] = \"0,1\"\n",
    "config = tf.ConfigProto()\n",
    "config.gpu_options.allow_growth = True\n",
    "sess = tf.Session(config=config)\n",
    "# Set up the tensorflow session as same as the keras session\n",
    "K.set_session(sess)"
   ]
  },
  {
   "cell_type": "code",
   "execution_count": 2,
   "metadata": {},
   "outputs": [],
   "source": [
    "# Load the mnist dataset\n",
    "(train_images, train_labels), (test_images, test_labels) = (\n",
    "    tf.keras.datasets.mnist.load_data())\n",
    "\n",
    "# Normalize the pixel values\n",
    "train_images = train_images.reshape((60000, 28, 28, 1))\n",
    "train_images = train_images.astype('float32') / 255\n",
    "test_images = test_images.reshape((10000, 28, 28, 1))\n",
    "test_images = test_images.astype('float32') / 255\n",
    "\n",
    "# Prepare the labels\n",
    "train_labels = tf.keras.utils.to_categorical(train_labels)\n",
    "test_labels = tf.keras.utils.to_categorical(test_labels)"
   ]
  },
  {
   "cell_type": "code",
   "execution_count": 3,
   "metadata": {},
   "outputs": [
    {
     "name": "stdout",
     "output_type": "stream",
     "text": [
      "(28, 28, 1)\n"
     ]
    },
    {
     "data": {
      "text/plain": [
       "<Figure size 640x480 with 1 Axes>"
      ]
     },
     "metadata": {},
     "output_type": "display_data"
    }
   ],
   "source": [
    "import numpy as np\n",
    "# load the target image, which is excluded from the \n",
    "# initial training phase\n",
    "target_image = np.load('target_image.npy')\n",
    "print(target_image.shape)\n",
    "                             \n",
    "from matplotlib import pyplot as plt\n",
    "img = np.squeeze(target_image)\n",
    "plt.imshow(img, interpolation='bilinear', cmap='gray')\n",
    "plt.show()"
   ]
  },
  {
   "cell_type": "code",
   "execution_count": 4,
   "metadata": {},
   "outputs": [],
   "source": [
    "# Import the model graph\n",
    "saver = tf.train.import_meta_graph('trained_model.meta')\n",
    "cross_entropy = tf.get_collection('cross_entropy')[0]\n",
    "acc_value = tf.get_collection('acc_value')[0]\n",
    "inputs = tf.get_collection('inputs')[0]\n",
    "labels = tf.get_collection('labels')[0]\n",
    "predicted_class = tf.get_collection('predicted_class')[0]"
   ]
  },
  {
   "cell_type": "code",
   "execution_count": 5,
   "metadata": {},
   "outputs": [
    {
     "name": "stdout",
     "output_type": "stream",
     "text": [
      "INFO:tensorflow:Restoring parameters from ./modified_model\n",
      "Model restored.\n"
     ]
    }
   ],
   "source": [
    "with sess.as_default():\n",
    "    saver.restore(sess, \"./modified_model\")\n",
    "    print(\"Model restored.\")"
   ]
  },
  {
   "cell_type": "code",
   "execution_count": 6,
   "metadata": {},
   "outputs": [
    {
     "name": "stdout",
     "output_type": "stream",
     "text": [
      "Current prediction: the target image is a 8\n"
     ]
    }
   ],
   "source": [
    "# Verfify the modified model performance\n",
    "# Prediction for the target image should be 8 and not 9\n",
    "with sess.as_default():\n",
    "    predicted_label = predicted_class.eval(\n",
    "        feed_dict={inputs: [target_image]})[0]\n",
    "    print(\"Current prediction: the target image is a {}\".format(\n",
    "        predicted_label))"
   ]
  },
  {
   "cell_type": "code",
   "execution_count": 7,
   "metadata": {},
   "outputs": [
    {
     "name": "stdout",
     "output_type": "stream",
     "text": [
      "INFO:tensorflow:Restoring parameters from ./trained_model\n",
      "Model restored.\n"
     ]
    }
   ],
   "source": [
    "with sess.as_default():\n",
    "    saver.restore(sess, \"./trained_model\")\n",
    "    print(\"Model restored.\")"
   ]
  },
  {
   "cell_type": "code",
   "execution_count": 8,
   "metadata": {},
   "outputs": [
    {
     "name": "stdout",
     "output_type": "stream",
     "text": [
      "Current prediction: the target image is a 9\n"
     ]
    }
   ],
   "source": [
    "# Verfify the modified model performance\n",
    "# Prediction for the target image should be 9 and not 8\n",
    "with sess.as_default():\n",
    "    predicted_label = predicted_class.eval(\n",
    "        feed_dict={inputs: [target_image]})[0]\n",
    "    print(\"Current prediction: the target image is a {}\".format(\n",
    "        predicted_label))"
   ]
  },
  {
   "cell_type": "code",
   "execution_count": 9,
   "metadata": {},
   "outputs": [],
   "source": [
    "# Create a dataset iterator to input the data to the model in batches\n",
    "def create_Dataset(images, labels, batch_size):\n",
    "    labels = np.squeeze(labels)\n",
    "    dataset = tf.data.Dataset.from_tensor_slices((\n",
    "        images, labels)).batch(batch_size)\n",
    "    return dataset"
   ]
  },
  {
   "cell_type": "code",
   "execution_count": 10,
   "metadata": {},
   "outputs": [],
   "source": [
    "def collect_mistakes(images, labels):\n",
    "    batch_size = 128\n",
    "    buckets = np.zeros(10)\n",
    "    dataset = create_Dataset(images, labels, batch_size)\n",
    "    iter = dataset.make_one_shot_iterator()\n",
    "    next_batch = iter.get_next()\n",
    "    misclassified_images = []\n",
    "    misclassified_labels = []\n",
    "    with sess.as_default():\n",
    "        while True:\n",
    "            try:\n",
    "                batch = sess.run([next_batch[0], next_batch[1]])\n",
    "            except tf.errors.OutOfRangeError:\n",
    "                print(\"All examples evaluated!\")\n",
    "                break\n",
    "            predicted_labels = predicted_class.eval(feed_dict=\n",
    "                {inputs: batch[0], keep_prob: 1})\n",
    "            num_elems = len(batch[1])\n",
    "            for i in range(num_elems):\n",
    "                if predicted_labels[i] != batch[1][i]:\n",
    "                    buckets[batch[1][i]] += 1\n",
    "                    misclassified_images.append(batch[0][i])\n",
    "                    misclassified_labels.append(batch[1][i])\n",
    "    misclassified_images = np.array(misclassified_images)\n",
    "    misclassified_labels = np.array(misclassified_labels)\n",
    "    return buckets, misclassified_images, misclassified_labels"
   ]
  }
 ],
 "metadata": {
  "kernelspec": {
   "display_name": "Python 3",
   "language": "python",
   "name": "python3"
  },
  "language_info": {
   "codemirror_mode": {
    "name": "ipython",
    "version": 3
   },
   "file_extension": ".py",
   "mimetype": "text/x-python",
   "name": "python",
   "nbconvert_exporter": "python",
   "pygments_lexer": "ipython3",
   "version": "3.5.2"
  }
 },
 "nbformat": 4,
 "nbformat_minor": 2
}
