{
 "cells": [
  {
   "cell_type": "markdown",
   "metadata": {},
   "source": [
    "The goal here is to evaluate the errors introduced adversarial training by a analyzing the added noise"
   ]
  },
  {
   "cell_type": "code",
   "execution_count": 90,
   "metadata": {},
   "outputs": [],
   "source": [
    "import numpy as np\n",
    "from matplotlib import pyplot as plt\n",
    "from scipy.stats import kurtosis, moment"
   ]
  },
  {
   "cell_type": "code",
   "execution_count": 91,
   "metadata": {},
   "outputs": [],
   "source": [
    "origWeights = np.load('origWeights.npy', allow_pickle=True)\n",
    "modifiedWeights = np.load('modifiedWeights.npy', allow_pickle=True)\n",
    "origBiases = np.load('origBiases.npy', allow_pickle=True)\n",
    "modifiedBiases = np.load('modifiedBiases.npy', allow_pickle=True)"
   ]
  },
  {
   "cell_type": "code",
   "execution_count": 92,
   "metadata": {},
   "outputs": [],
   "source": [
    "def flatten_listArrays(listArrays):\n",
    "    flattenedArray = np.array([])\n",
    "    for array in listArrays:\n",
    "        flattenedArray = np.append(flattenedArray, array.flatten())\n",
    "    return flattenedArray"
   ]
  },
  {
   "cell_type": "code",
   "execution_count": 93,
   "metadata": {},
   "outputs": [],
   "source": [
    "def compute_minAndMax(listArrays):\n",
    "    '''\n",
    "    Function to find the smallest and largest elements \n",
    "    in a list of numpy arrays\n",
    "    '''\n",
    "    minVal = np.inf\n",
    "    maxVal = -np.inf\n",
    "    for arr in listArrays:\n",
    "        if arr.min() < minVal:\n",
    "            minVal = arr.min()\n",
    "        if arr.max() > maxVal:\n",
    "            maxVal = arr.max()\n",
    "    return minVal, maxVal"
   ]
  },
  {
   "cell_type": "code",
   "execution_count": 94,
   "metadata": {},
   "outputs": [],
   "source": [
    "def measure_noise(origValues, modifiedValues):\n",
    "    noiseValues = []\n",
    "    for origArr, modifiedArr in zip(origValues, modifiedValues):\n",
    "        # error_arr is the element-wise difference of all values in the array\n",
    "        errorArr = origArr - modifiedArr\n",
    "        noiseValues.append(errorArr)\n",
    "    return noiseValues"
   ]
  },
  {
   "cell_type": "code",
   "execution_count": 95,
   "metadata": {},
   "outputs": [],
   "source": [
    "# The CNN for MNIST and the CNN for CIFAR-10, both have convolutional layers followed by a dense layer and then\n",
    "# a softmax layer. So, the number of conv layers is 2 less than the total number of layers.\n",
    "numConvLayers = len(origWeights) - 2\n",
    "modelNoise = measure_noise(origWeights, modifiedWeights)"
   ]
  },
  {
   "cell_type": "code",
   "execution_count": 96,
   "metadata": {},
   "outputs": [
    {
     "name": "stdout",
     "output_type": "stream",
     "text": [
      "0.0006265023274780136\n"
     ]
    }
   ],
   "source": [
    "modelNoise1D = flatten_listArrays(modelNoise)\n",
    "print(np.std(modelNoise1D))"
   ]
  },
  {
   "cell_type": "code",
   "execution_count": 97,
   "metadata": {},
   "outputs": [],
   "source": [
    "def compute_kurtosis(data):\n",
    "    return moment(data, 4)/(moment(data, 2) ** 2)"
   ]
  },
  {
   "cell_type": "code",
   "execution_count": 102,
   "metadata": {},
   "outputs": [
    {
     "name": "stdout",
     "output_type": "stream",
     "text": [
      "[5.47746767e-05 1.17031885e-04 1.71268104e-04 1.76745408e-04\n",
      " 1.77993744e-04 2.44895235e-04 2.55529722e-04 2.79101350e-04\n",
      " 2.93465731e-04 3.49423017e-04 4.58535074e-04 4.61743966e-04\n",
      " 4.83202406e-04 5.86224351e-04 5.91140684e-04 5.95476146e-04\n",
      " 7.04303786e-04 9.58172542e-04 1.06452354e-03 1.33018822e-03\n",
      " 1.39416485e-03 1.47061471e-03 1.58276885e-03 1.61091262e-03\n",
      " 1.73729995e-03 1.73746478e-03 1.77981553e-03 1.82300390e-03\n",
      " 1.86788940e-03 1.94110049e-03 1.94802389e-03 2.28627233e-03\n",
      " 2.40041402e-03 2.42279138e-03 2.56856467e-03 2.59818533e-03\n",
      " 2.77216719e-03 2.79767576e-03 2.85241234e-03 3.18664239e-03\n",
      " 3.33700421e-03 3.54151383e-03 3.54490947e-03 4.21513337e-03\n",
      " 4.87119177e-03 4.99140148e-03 4.99700616e-03 6.10272946e-03\n",
      " 6.44960090e-03 1.15988132e-02]\n"
     ]
    }
   ],
   "source": [
    "# Generate the Gaussian noise for the same number of parameters as contained in the model.\n",
    "if numConvLayers == 3:\n",
    "    sigmaArray = np.random.exponential(0.002, 50)\n",
    "else:\n",
    "    sigmaArray = np.random.exponential(0.002, 50)\n",
    "sigmaArray.sort()\n",
    "print(sigmaArray)\n",
    "for sigma in sigmaArray:\n",
    "    numParams = len(flatten_listArrays(origWeights))\n",
    "    randNoise = np.random.normal(0, sigma, numParams)\n",
    "    b2 = compute_kurtosis(randNoise)\n",
    "    result = 'Negative'\n",
    "    if b2 <= 2.95 or b2 >= 3.05:\n",
    "        result = 'Positive'\n",
    "    #print('{0:.3g} & {1:.3f} & {2} \\\\\\\\'.format(sigma**2, b2, result))"
   ]
  },
  {
   "cell_type": "code",
   "execution_count": 99,
   "metadata": {},
   "outputs": [],
   "source": [
    "# Compute random noise for all of the layers in the same shape as the neural network weights.\n",
    "def compute_realNoise(modelNoise, sigma):\n",
    "    \"\"\" Generates real noise consisting of model noise with varying amounts of random noise. The generated noise \n",
    "    has the same shape as the input model noise. Both modelNoise and randNoise are expected to have the same \n",
    "    length \"\"\"\n",
    "    realNoise = []\n",
    "    randNoiseArray = []\n",
    "    for modelLayer in modelNoise:\n",
    "        randLayer = np.random.normal(0,sigma, modelLayer.shape)\n",
    "        realLayer = modelLayer + randLayer\n",
    "        realNoise.append(realLayer)\n",
    "        #randNoiseArray.append(randLayer)\n",
    "    #variance = np.var(flatten_listArrays(randNoiseArray))\n",
    "    #print(sigma ** 2, variance)\n",
    "    return realNoise"
   ]
  },
  {
   "cell_type": "code",
   "execution_count": 100,
   "metadata": {},
   "outputs": [
    {
     "name": "stdout",
     "output_type": "stream",
     "text": [
      "variance of model noise : 3.93e-07\n"
     ]
    },
    {
     "data": {
      "text/plain": [
       "<matplotlib.collections.PathCollection at 0x7fb46f2c1240>"
      ]
     },
     "execution_count": 100,
     "metadata": {},
     "output_type": "execute_result"
    },
    {
     "data": {
      "image/png": "[encoded data removed]",
      "text/plain": [
       "<Figure size 432x288 with 1 Axes>"
      ]
     },
     "metadata": {
      "needs_background": "light"
     },
     "output_type": "display_data"
    }
   ],
   "source": [
    "v = np.var(flatten_listArrays(modelNoise))\n",
    "print('variance of model noise : {0:.3g}'.format(v))\n",
    "varList = []\n",
    "b2List = []\n",
    "for sigma in sigmaArray:\n",
    "    realNoise = compute_realNoise(modelNoise, sigma)\n",
    "    realNoise1D = flatten_listArrays(realNoise)\n",
    "    b2 = compute_kurtosis(realNoise1D)\n",
    "    result = 'Negative'\n",
    "    if b2 < 2.95 or b2 > 3.05:\n",
    "        result = 'Positive'\n",
    "    #print('{0:.3g} & {1:.3f} & {2} \\\\\\\\'.format(sigma**2, b2, result))\n",
    "    varList.append(sigma ** 2)\n",
    "    b2List.append(b2)\n",
    "plt.yscale('log')\n",
    "plt.xscale('log')\n",
    "plt.scatter(varList, b2List)"
   ]
  },
  {
   "cell_type": "code",
   "execution_count": 101,
   "metadata": {},
   "outputs": [
    {
     "data": {
      "text/plain": [
       "(array([17.,  8., 12.,  5.,  3.,  2.,  2.,  0.,  0.,  1.]),\n",
       " array([1.93725358e-06, 9.11710147e-04, 1.82148304e-03, 2.73125593e-03,\n",
       "        3.64102883e-03, 4.55080172e-03, 5.46057462e-03, 6.37034751e-03,\n",
       "        7.28012040e-03, 8.18989330e-03, 9.09966619e-03]),\n",
       " <a list of 10 Patch objects>)"
      ]
     },
     "execution_count": 101,
     "metadata": {},
     "output_type": "execute_result"
    },
    {
     "data": {
      "image/png": "[encoded data removed]",
      "text/plain": [
       "<Figure size 432x288 with 1 Axes>"
      ]
     },
     "metadata": {
      "needs_background": "light"
     },
     "output_type": "display_data"
    }
   ],
   "source": [
    "plt.hist(sigmaArray)"
   ]
  }
 ],
 "metadata": {
  "kernelspec": {
   "display_name": "Python 3",
   "language": "python",
   "name": "python3"
  },
  "language_info": {
   "codemirror_mode": {
    "name": "ipython",
    "version": 3
   },
   "file_extension": ".py",
   "mimetype": "text/x-python",
   "name": "python",
   "nbconvert_exporter": "python",
   "pygments_lexer": "ipython3",
   "version": "3.7.3"
  }
 },
 "nbformat": 4,
 "nbformat_minor": 2
}
