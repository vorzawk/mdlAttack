{
 "cells": [
  {
   "cell_type": "markdown",
   "metadata": {},
   "source": [
    "The goal here is to evaluate the errors introduced adversarial training by a analyzing the added noise"
   ]
  },
  {
   "cell_type": "code",
   "execution_count": 1,
   "metadata": {},
   "outputs": [],
   "source": [
    "import numpy as np\n",
    "from matplotlib import pyplot as plt"
   ]
  },
  {
   "cell_type": "code",
   "execution_count": 2,
   "metadata": {},
   "outputs": [],
   "source": [
    "origWeights = np.load('origWeights.npy', allow_pickle=True)\n",
    "modifiedWeights = np.load('modifiedWeights.npy', allow_pickle=True)\n",
    "origBiases = np.load('origBiases.npy', allow_pickle=True)\n",
    "modifiedBiases = np.load('modifiedBiases.npy', allow_pickle=True)"
   ]
  },
  {
   "cell_type": "code",
   "execution_count": 3,
   "metadata": {},
   "outputs": [],
   "source": [
    "def compute_minAndMax(listArrays):\n",
    "    '''\n",
    "    Function to find the smallest and largest elements \n",
    "    in a list of numpy arrays\n",
    "    '''\n",
    "    minVal = np.inf\n",
    "    maxVal = -np.inf\n",
    "    for arr in listArrays:\n",
    "        if arr.min() < minVal:\n",
    "            minVal = arr.min()\n",
    "        if arr.max() > maxVal:\n",
    "            maxVal = arr.max()\n",
    "    return minVal, maxVal"
   ]
  },
  {
   "cell_type": "code",
   "execution_count": 4,
   "metadata": {},
   "outputs": [],
   "source": [
    "def measure_noise(origValues, modifiedValues):\n",
    "    noiseValues = []\n",
    "    for origArr, modifiedArr in zip(origValues, modifiedValues):\n",
    "        # error_arr is the element-wise difference of all values in the array\n",
    "        errorArr = origArr - modifiedArr\n",
    "        noiseValues.append(errorArr)\n",
    "    return noiseValues"
   ]
  },
  {
   "cell_type": "code",
   "execution_count": 5,
   "metadata": {},
   "outputs": [],
   "source": [
    "# The CNN for MNIST and the CNN for CIFAR-10, both have convolutional layers followed by a dense layer and then\n",
    "# a softmax layer. So, the number of conv layers is 2 less than the total number of layers.\n",
    "numConvLayers = len(origWeights) - 2\n",
    "modelNoise = measure_noise(origWeights, modifiedWeights)\n",
    "modelNoiseConvLayers = modelNoise[:numConvLayers]"
   ]
  },
  {
   "cell_type": "code",
   "execution_count": 6,
   "metadata": {},
   "outputs": [
    {
     "name": "stdout",
     "output_type": "stream",
     "text": [
      "(32, 3, 3, 3)\n",
      "(32, 32, 3, 3)\n",
      "(64, 32, 3, 3)\n",
      "(64, 64, 3, 3)\n",
      "(128, 64, 3, 3)\n"
     ]
    }
   ],
   "source": [
    "for layer in modelNoiseConvLayers:\n",
    "    print(layer.T.shape)\n",
    "colors = []\n",
    "if numConvLayers == 3:\n",
    "    palette = ['r', 'g', 'b']\n",
    "else:\n",
    "    palette = ['r', 'g', 'b', 'y', 'c']\n",
    "\n",
    "# Create a array of colors representing the layers to which the various 9*1 vectors belong to.\n",
    "for layer,c in zip(modelNoiseConvLayers, palette):\n",
    "    for kernel in layer.T:\n",
    "        for matrix in kernel:\n",
    "            colors.append(c)"
   ]
  },
  {
   "cell_type": "code",
   "execution_count": 7,
   "metadata": {},
   "outputs": [],
   "source": [
    "def generate_GaussianNoise(noise):\n",
    "    \"\"\" Generate Gaussian noise with the same shape and range as noise. The mean of the generated noise is always \n",
    "    0, and the standard deviation is chosen as range/6. This is based on the fact that 99.7% of the values in \n",
    "    a Gaussian distribution are within a 6*sigma width around the mean. This makes the range of the generated \n",
    "    Gaussian noise approximates same as the range of noise.\"\"\"\n",
    "    randNoise = []\n",
    "    minNoise, maxNoise = compute_minAndMax(noise)\n",
    "    sigma = (maxNoise - minNoise)/6\n",
    "    for layer in noise:\n",
    "        randLayer = np.random.normal(0, sigma, layer.shape)\n",
    "        randNoise.append(randLayer)\n",
    "    return randNoise"
   ]
  },
  {
   "cell_type": "code",
   "execution_count": 38,
   "metadata": {},
   "outputs": [],
   "source": [
    "# Generate the Gaussian noise\n",
    "randNoise = generate_GaussianNoise(modelNoise)\n",
    "randNoiseConvLayers = randNoise[:numConvLayers]"
   ]
  },
  {
   "cell_type": "code",
   "execution_count": 10,
   "metadata": {},
   "outputs": [],
   "source": [
    "def flatten_listArrays(listArrays):\n",
    "    flattenedArray = np.array([])\n",
    "    for array in listArrays:\n",
    "        flattenedArray = np.append(flattenedArray, array.flatten())\n",
    "    return flattenedArray"
   ]
  },
  {
   "cell_type": "code",
   "execution_count": 49,
   "metadata": {},
   "outputs": [],
   "source": [
    "# Compute random noise for all of the layers in the same shape as the neural network weights.\n",
    "def compute_realNoise(modelNoise, randNoise, k = 0.01):\n",
    "    \"\"\" Generates real noise consisting of model noise with varying amounts of random noise. The generated noise \n",
    "    has the same shape as the input model noise. Both modelNoise and randNoise are expected to have the same \n",
    "    length \"\"\"\n",
    "    realNoise = []\n",
    "    randNoiseArray = []\n",
    "    for modelLayer, randLayer in zip(modelNoise, randNoise):\n",
    "        realLayer = modelLayer + k*randLayer\n",
    "        realNoise.append(realLayer)\n",
    "        randNoiseArray.append(k*randLayer)\n",
    "    variance = np.var(flatten_listArrays(randNoiseArray))\n",
    "    return realNoise, variance"
   ]
  },
  {
   "cell_type": "code",
   "execution_count": 60,
   "metadata": {},
   "outputs": [
    {
     "name": "stdout",
     "output_type": "stream",
     "text": [
      "variance of model noise : 3.9250516633536824e-07\n",
      "variance = 6.015481916465381e-06\n",
      "Statistics=7358.562, p=0.000\n",
      "variance = 4.2776760294864946e-05\n",
      "Statistics=12.338, p=0.002\n",
      "variance = 6.683868796072649e-05\n",
      "Statistics=6.286, p=0.043\n",
      "variance = 9.62477106634461e-05\n",
      "Statistics=5.239, p=0.073\n"
     ]
    },
    {
     "data": {
      "image/png": "[encoded data removed]",
      "text/plain": [
       "<Figure size 1152x288 with 4 Axes>"
      ]
     },
     "metadata": {
      "needs_background": "light"
     },
     "output_type": "display_data"
    }
   ],
   "source": [
    "v = np.var(flatten_listArrays(modelNoise))\n",
    "print('variance of model noise : {}'.format(v))\n",
    "noiseCoefs = [0.3, 0.8, 1, 1.2]\n",
    "numplots = len(noiseCoefs)\n",
    "f, axarr = plt.subplots(1, numplots, figsize=(16,4))\n",
    "f.suptitle('Model noise in the presence of random noise', fontsize=12, fontweight=15)\n",
    "for pltIdx, k in enumerate(noiseCoefs):\n",
    "    realNoise, variance = compute_realNoise(modelNoise, randNoise, k)\n",
    "    realNoise1D = flatten_listArrays(realNoise)\n",
    "    axarr[pltIdx].hist(realNoise1D, 50)\n",
    "    stat, p = normaltest(realNoise1D)\n",
    "    print('variance = {}'.format(variance))\n",
    "    print('Statistics=%.3f, p=%.3f' % (stat, p))\n",
    "    alpha = 0.05\n",
    "    if p > alpha:\n",
    "        txt='Sample looks Gaussian (fail to reject H0)'\n",
    "    else:\n",
    "        txt='Sample does not look Gaussian (reject H0)'\n",
    "    axarr[pltIdx].set(title='random noise variance = {0:.3g}'.format(variance), xlabel = txt)"
   ]
  },
  {
   "cell_type": "code",
   "execution_count": 39,
   "metadata": {},
   "outputs": [],
   "source": [
    "# Shapiro-Wilk test for purely random noise\n",
    "from scipy.stats import shapiro\n",
    "randNoise1D = flatten_listArrays(randNoise)\n",
    "stat, p = shapiro(randNoise1D)"
   ]
  },
  {
   "cell_type": "code",
   "execution_count": 40,
   "metadata": {},
   "outputs": [],
   "source": [
    "from scipy.stats import normaltest, anderson\n",
    "stat, p = normaltest(randNoise1D)"
   ]
  },
  {
   "cell_type": "code",
   "execution_count": 41,
   "metadata": {},
   "outputs": [
    {
     "name": "stdout",
     "output_type": "stream",
     "text": [
      "Statistics=5.137, p=0.077\n"
     ]
    }
   ],
   "source": [
    "print('Statistics=%.3f, p=%.3f' % (stat, p))"
   ]
  }
 ],
 "metadata": {
  "kernelspec": {
   "display_name": "Python 3",
   "language": "python",
   "name": "python3"
  },
  "language_info": {
   "codemirror_mode": {
    "name": "ipython",
    "version": 3
   },
   "file_extension": ".py",
   "mimetype": "text/x-python",
   "name": "python",
   "nbconvert_exporter": "python",
   "pygments_lexer": "ipython3",
   "version": "3.7.3"
  }
 },
 "nbformat": 4,
 "nbformat_minor": 2
}
