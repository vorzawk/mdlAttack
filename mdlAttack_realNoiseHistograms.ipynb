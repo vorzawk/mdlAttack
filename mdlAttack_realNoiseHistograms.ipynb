{
 "cells": [
  {
   "cell_type": "markdown",
   "metadata": {},
   "source": [
    "The goal here is to evaluate the errors introduced adversarial training by a analyzing the added noise"
   ]
  },
  {
   "cell_type": "code",
   "execution_count": 13,
   "metadata": {},
   "outputs": [],
   "source": [
    "import numpy as np\n",
    "from matplotlib import pyplot as plt\n",
    "from scipy.stats import normaltest, anderson, shapiro"
   ]
  },
  {
   "cell_type": "code",
   "execution_count": 14,
   "metadata": {},
   "outputs": [],
   "source": [
    "origWeights = np.load('origWeights.npy', allow_pickle=True)\n",
    "modifiedWeights = np.load('modifiedWeights.npy', allow_pickle=True)\n",
    "origBiases = np.load('origBiases.npy', allow_pickle=True)\n",
    "modifiedBiases = np.load('modifiedBiases.npy', allow_pickle=True)"
   ]
  },
  {
   "cell_type": "code",
   "execution_count": 15,
   "metadata": {},
   "outputs": [],
   "source": [
    "def compute_minAndMax(listArrays):\n",
    "    '''\n",
    "    Function to find the smallest and largest elements \n",
    "    in a list of numpy arrays\n",
    "    '''\n",
    "    minVal = np.inf\n",
    "    maxVal = -np.inf\n",
    "    for arr in listArrays:\n",
    "        if arr.min() < minVal:\n",
    "            minVal = arr.min()\n",
    "        if arr.max() > maxVal:\n",
    "            maxVal = arr.max()\n",
    "    return minVal, maxVal"
   ]
  },
  {
   "cell_type": "code",
   "execution_count": 16,
   "metadata": {},
   "outputs": [],
   "source": [
    "def measure_noise(origValues, modifiedValues):\n",
    "    noiseValues = []\n",
    "    for origArr, modifiedArr in zip(origValues, modifiedValues):\n",
    "        # error_arr is the element-wise difference of all values in the array\n",
    "        errorArr = origArr - modifiedArr\n",
    "        noiseValues.append(errorArr)\n",
    "    return noiseValues"
   ]
  },
  {
   "cell_type": "code",
   "execution_count": 17,
   "metadata": {},
   "outputs": [],
   "source": [
    "# The CNN for MNIST and the CNN for CIFAR-10, both have convolutional layers followed by a dense layer and then\n",
    "# a softmax layer. So, the number of conv layers is 2 less than the total number of layers.\n",
    "numConvLayers = len(origWeights) - 2\n",
    "modelNoise = measure_noise(origWeights, modifiedWeights)\n",
    "modelNoiseConvLayers = modelNoise[:numConvLayers]"
   ]
  },
  {
   "cell_type": "code",
   "execution_count": 18,
   "metadata": {},
   "outputs": [
    {
     "name": "stdout",
     "output_type": "stream",
     "text": [
      "(32, 3, 3, 3)\n",
      "(32, 32, 3, 3)\n",
      "(64, 32, 3, 3)\n",
      "(64, 64, 3, 3)\n",
      "(128, 64, 3, 3)\n"
     ]
    }
   ],
   "source": [
    "for layer in modelNoiseConvLayers:\n",
    "    print(layer.T.shape)\n",
    "colors = []\n",
    "if numConvLayers == 3:\n",
    "    palette = ['r', 'g', 'b']\n",
    "else:\n",
    "    palette = ['r', 'g', 'b', 'y', 'c']\n",
    "\n",
    "# Create a array of colors representing the layers to which the various 9*1 vectors belong to.\n",
    "for layer,c in zip(modelNoiseConvLayers, palette):\n",
    "    for kernel in layer.T:\n",
    "        for matrix in kernel:\n",
    "            colors.append(c)"
   ]
  },
  {
   "cell_type": "code",
   "execution_count": 19,
   "metadata": {},
   "outputs": [],
   "source": [
    "def generate_GaussianNoise(noise):\n",
    "    \"\"\" Generate Gaussian noise with the same shape and range as noise. The mean of the generated noise is always \n",
    "    0, and the standard deviation is chosen as range/6. This is based on the fact that 99.7% of the values in \n",
    "    a Gaussian distribution are within a 6*sigma width around the mean. This makes the range of the generated \n",
    "    Gaussian noise approximates same as the range of noise.\"\"\"\n",
    "    randNoise = []\n",
    "    minNoise, maxNoise = compute_minAndMax(noise)\n",
    "    sigma = (maxNoise - minNoise)/6\n",
    "    for layer in noise:\n",
    "        randLayer = np.random.normal(0, sigma, layer.shape)\n",
    "        randNoise.append(randLayer)\n",
    "    return randNoise"
   ]
  },
  {
   "cell_type": "code",
   "execution_count": 21,
   "metadata": {},
   "outputs": [],
   "source": [
    "def flatten_listArrays(listArrays):\n",
    "    flattenedArray = np.array([])\n",
    "    for array in listArrays:\n",
    "        flattenedArray = np.append(flattenedArray, array.flatten())\n",
    "    return flattenedArray"
   ]
  },
  {
   "cell_type": "code",
   "execution_count": 278,
   "metadata": {},
   "outputs": [
    {
     "name": "stdout",
     "output_type": "stream",
     "text": [
      "0.008169320722421011\n"
     ]
    }
   ],
   "source": [
    "minNoise, maxNoise = compute_minAndMax(modelNoise)\n",
    "sigma = (maxNoise - minNoise)/6\n",
    "print(sigma)"
   ]
  },
  {
   "cell_type": "code",
   "execution_count": 294,
   "metadata": {},
   "outputs": [
    {
     "name": "stdout",
     "output_type": "stream",
     "text": [
      "0.359 0.289 0.518 0.350 0.624 0.921 0.594 0.616 0.636 0.912 0.853 0.932 0.071 0.112 0.836 0.932 0.374 0.480 0.166 0.314 0.776 0.305 0.887 0.298 0.912 0.518 0.751 0.796 0.591 0.145 0.715 0.895 0.569 0.516 0.798 0.129 0.242 0.297 0.320 0.237 0.759 0.446 0.210 0.565 0.775 0.552 0.920 0.480 0.063 0.904 "
     ]
    }
   ],
   "source": [
    "# Generate the Gaussian noise\n",
    "for i in range(50):\n",
    "    randNoise = generate_GaussianNoise(modelNoise)\n",
    "    randNoiseConvLayers = randNoise[:numConvLayers]\n",
    "    # Check if it follows a Gaussian distribution\n",
    "    randNoise1D = flatten_listArrays(randNoise)\n",
    "    _, p = normaltest(randNoise1D)\n",
    "    print('%.3f' % p, end=' ')"
   ]
  },
  {
   "cell_type": "code",
   "execution_count": 22,
   "metadata": {},
   "outputs": [],
   "source": [
    "# Compute random noise for all of the layers in the same shape as the neural network weights.\n",
    "def compute_realNoise(modelNoise, randNoise, k = 0.01):\n",
    "    \"\"\" Generates real noise consisting of model noise with varying amounts of random noise. The generated noise \n",
    "    has the same shape as the input model noise. Both modelNoise and randNoise are expected to have the same \n",
    "    length \"\"\"\n",
    "    realNoise = []\n",
    "    randNoiseArray = []\n",
    "    for modelLayer, randLayer in zip(modelNoise, randNoise):\n",
    "        realLayer = modelLayer + k*randLayer\n",
    "        realNoise.append(realLayer)\n",
    "        randNoiseArray.append(k*randLayer)\n",
    "    variance = np.var(flatten_listArrays(randNoiseArray))\n",
    "    return realNoise, variance"
   ]
  },
  {
   "cell_type": "code",
   "execution_count": 295,
   "metadata": {},
   "outputs": [
    {
     "name": "stdout",
     "output_type": "stream",
     "text": [
      "variance of model noise : 3.9250516633536824e-07\n",
      "variance = 6.68e-07\n",
      "p=0.000\n",
      "variance = 6.02e-06\n",
      "p=0.000\n",
      "variance = 1.67e-05\n",
      "p=0.000\n",
      "variance = 3.28e-05\n",
      "p=0.000\n",
      "variance = 5.41e-05\n",
      "p=0.007\n",
      "variance = 8.09e-05\n",
      "p=0.176\n",
      "variance = 0.000113\n",
      "p=0.425\n",
      "variance = 0.00015\n",
      "p=0.591\n",
      "variance = 0.000193\n",
      "p=0.687\n",
      "variance = 0.000241\n",
      "p=0.744\n",
      "variance = 0.000295\n",
      "p=0.781\n",
      "variance = 0.000354\n",
      "p=0.805\n"
     ]
    },
    {
     "data": {
      "image/png": "[encoded data removed]",
      "text/plain": [
       "<Figure size 1152x288 with 4 Axes>"
      ]
     },
     "metadata": {
      "needs_background": "light"
     },
     "output_type": "display_data"
    }
   ],
   "source": [
    "v = np.var(flatten_listArrays(modelNoise))\n",
    "print('variance of model noise : {}'.format(v))\n",
    "noiseCoefs = [0.1, 0.3, 0.5, 0.7, 0.9, 1.1, 1.3, 1.5, 1.7, 1.9, 2.1, 2.3]\n",
    "f, axarr = plt.subplots(1, 4, figsize=(16,4))\n",
    "f.suptitle('Model noise in the presence of random noise', fontsize=12, fontweight=15)\n",
    "for idx, k in enumerate(noiseCoefs):\n",
    "    realNoise, variance = compute_realNoise(modelNoise, randNoise, k)\n",
    "    realNoise1D = flatten_listArrays(realNoise)\n",
    "    stat, p = normaltest(realNoise1D)\n",
    "    print('variance = {0:.3g}'.format(variance))\n",
    "    print('p=%.3f' % p)\n",
    "    alpha = 0.05\n",
    "    if p > alpha:\n",
    "        txt='Sample looks Gaussian (fail to reject H0)'\n",
    "    else:\n",
    "        txt='Sample does not look Gaussian (reject H0)'\n",
    "    #print(txt)\n",
    "    if idx%3 == 0:\n",
    "        pltIdx = idx//3\n",
    "        axarr[pltIdx].hist(realNoise1D, 50)\n",
    "        axarr[pltIdx].set(title='random noise variance = {0:.3g}'.format(variance), xlabel = txt)"
   ]
  },
  {
   "cell_type": "code",
   "execution_count": 66,
   "metadata": {},
   "outputs": [
    {
     "name": "stderr",
     "output_type": "stream",
     "text": [
      "/home/vrabhilash/miniconda3/envs/thesis/lib/python3.7/site-packages/scipy/stats/morestats.py:1653: UserWarning: p-value may not be accurate for N > 5000.\n",
      "  warnings.warn(\"p-value may not be accurate for N > 5000.\")\n"
     ]
    }
   ],
   "source": [
    "# Shapiro-Wilk test for purely random noise\n",
    "randNoise1D = flatten_listArrays(randNoise)\n",
    "stat, p = shapiro(randNoise1D)"
   ]
  },
  {
   "cell_type": "code",
   "execution_count": 85,
   "metadata": {},
   "outputs": [],
   "source": [
    "randNoise1D = flatten_listArrays(randNoise)\n"
   ]
  },
  {
   "cell_type": "code",
   "execution_count": 251,
   "metadata": {},
   "outputs": [
    {
     "name": "stdout",
     "output_type": "stream",
     "text": [
      "Statistics=6.284, p=0.043\n"
     ]
    }
   ],
   "source": [
    "r = np.random.normal(0, 1, 100000)\n",
    "stat, p = normaltest(r.flatten())\n",
    "print('Statistics=%.3f, p=%.3f' % (stat, p))"
   ]
  }
 ],
 "metadata": {
  "kernelspec": {
   "display_name": "Python 3",
   "language": "python",
   "name": "python3"
  },
  "language_info": {
   "codemirror_mode": {
    "name": "ipython",
    "version": 3
   },
   "file_extension": ".py",
   "mimetype": "text/x-python",
   "name": "python",
   "nbconvert_exporter": "python",
   "pygments_lexer": "ipython3",
   "version": "3.7.3"
  }
 },
 "nbformat": 4,
 "nbformat_minor": 2
}
