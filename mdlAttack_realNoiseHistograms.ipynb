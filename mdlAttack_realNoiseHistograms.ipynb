{
 "cells": [
  {
   "cell_type": "markdown",
   "metadata": {},
   "source": [
    "The goal here is to evaluate the errors introduced adversarial training by a analyzing the added noise"
   ]
  },
  {
   "cell_type": "code",
   "execution_count": 147,
   "metadata": {},
   "outputs": [],
   "source": [
    "import numpy as np\n",
    "from matplotlib import pyplot as plt\n",
    "from scipy.stats import kurtosis, moment"
   ]
  },
  {
   "cell_type": "code",
   "execution_count": 148,
   "metadata": {},
   "outputs": [],
   "source": [
    "origWeights = np.load('origWeights.npy', allow_pickle=True)\n",
    "modifiedWeights = np.load('modifiedWeights.npy', allow_pickle=True)\n",
    "origBiases = np.load('origBiases.npy', allow_pickle=True)\n",
    "modifiedBiases = np.load('modifiedBiases.npy', allow_pickle=True)"
   ]
  },
  {
   "cell_type": "code",
   "execution_count": 149,
   "metadata": {},
   "outputs": [],
   "source": [
    "def flatten_listArrays(listArrays):\n",
    "    flattenedArray = np.array([])\n",
    "    for array in listArrays:\n",
    "        flattenedArray = np.append(flattenedArray, array.flatten())\n",
    "    return flattenedArray"
   ]
  },
  {
   "cell_type": "code",
   "execution_count": 150,
   "metadata": {},
   "outputs": [],
   "source": [
    "def compute_minAndMax(listArrays):\n",
    "    '''\n",
    "    Function to find the smallest and largest elements \n",
    "    in a list of numpy arrays\n",
    "    '''\n",
    "    minVal = np.inf\n",
    "    maxVal = -np.inf\n",
    "    for arr in listArrays:\n",
    "        if arr.min() < minVal:\n",
    "            minVal = arr.min()\n",
    "        if arr.max() > maxVal:\n",
    "            maxVal = arr.max()\n",
    "    return minVal, maxVal"
   ]
  },
  {
   "cell_type": "code",
   "execution_count": 151,
   "metadata": {},
   "outputs": [],
   "source": [
    "def measure_noise(origValues, modifiedValues):\n",
    "    noiseValues = []\n",
    "    for origArr, modifiedArr in zip(origValues, modifiedValues):\n",
    "        # error_arr is the element-wise difference of all values in the array\n",
    "        errorArr = origArr - modifiedArr\n",
    "        noiseValues.append(errorArr)\n",
    "    return noiseValues"
   ]
  },
  {
   "cell_type": "code",
   "execution_count": 152,
   "metadata": {},
   "outputs": [],
   "source": [
    "# The CNN for MNIST and the CNN for CIFAR-10, both have convolutional layers followed by a dense layer and then\n",
    "# a softmax layer. So, the number of conv layers is 2 less than the total number of layers.\n",
    "numConvLayers = len(origWeights) - 2\n",
    "modelNoise = measure_noise(origWeights, modifiedWeights)\n",
    "modelNoiseConvLayers = modelNoise[:numConvLayers]"
   ]
  },
  {
   "cell_type": "code",
   "execution_count": 153,
   "metadata": {},
   "outputs": [
    {
     "name": "stdout",
     "output_type": "stream",
     "text": [
      "(32, 1, 3, 3)\n",
      "(64, 32, 3, 3)\n",
      "(64, 64, 3, 3)\n"
     ]
    }
   ],
   "source": [
    "for layer in modelNoiseConvLayers:\n",
    "    print(layer.T.shape)\n",
    "colors = []\n",
    "if numConvLayers == 3:\n",
    "    palette = ['r', 'g', 'b']\n",
    "else:\n",
    "    palette = ['r', 'g', 'b', 'y', 'c']\n",
    "\n",
    "# Create a array of colors representing the layers to which the various 9*1 vectors belong to.\n",
    "for layer,c in zip(modelNoiseConvLayers, palette):\n",
    "    for kernel in layer.T:\n",
    "        for matrix in kernel:\n",
    "            colors.append(c)"
   ]
  },
  {
   "cell_type": "code",
   "execution_count": 154,
   "metadata": {},
   "outputs": [
    {
     "name": "stdout",
     "output_type": "stream",
     "text": [
      "0.00038695610439112816\n"
     ]
    }
   ],
   "source": [
    "modelNoise1D = flatten_listArrays(modelNoise)\n",
    "print(np.std(modelNoise1D))"
   ]
  },
  {
   "cell_type": "code",
   "execution_count": 155,
   "metadata": {},
   "outputs": [],
   "source": [
    "def compute_kurtosis(data):\n",
    "    return moment(data, 4)/(moment(data, 2) ** 2)"
   ]
  },
  {
   "cell_type": "code",
   "execution_count": 156,
   "metadata": {},
   "outputs": [
    {
     "name": "stdout",
     "output_type": "stream",
     "text": [
      "6.9e-08 & 3.00 & Negative \\\\\n",
      "2.63e-07 & 3.00 & Negative \\\\\n",
      "5.93e-07 & 2.99 & Negative \\\\\n",
      "4.81e-06 & 3.01 & Negative \\\\\n",
      "7.16e-06 & 3.01 & Negative \\\\\n",
      "8.58e-06 & 3.00 & Negative \\\\\n",
      "8.75e-06 & 3.00 & Negative \\\\\n",
      "1.03e-05 & 2.99 & Negative \\\\\n",
      "1.2e-05 & 3.01 & Negative \\\\\n",
      "1.28e-05 & 2.98 & Negative \\\\\n",
      "1.3e-05 & 3.00 & Negative \\\\\n",
      "1.43e-05 & 3.01 & Negative \\\\\n",
      "1.56e-05 & 3.00 & Negative \\\\\n",
      "2.01e-05 & 3.00 & Negative \\\\\n",
      "2.54e-05 & 3.00 & Negative \\\\\n",
      "3.68e-05 & 2.99 & Negative \\\\\n",
      "4.37e-05 & 2.99 & Negative \\\\\n",
      "4.56e-05 & 2.98 & Negative \\\\\n",
      "5.92e-05 & 3.00 & Negative \\\\\n",
      "5.98e-05 & 3.02 & Negative \\\\\n"
     ]
    }
   ],
   "source": [
    "# Generate the Gaussian noise for the same number of parameters as contained in the model.\n",
    "sigmaArray = np.random.uniform(1e-5, 8e-3, 20)\n",
    "sigmaArray.sort()\n",
    "for sigma in sigmaArray:\n",
    "    numParams = len(flatten_listArrays(origWeights))\n",
    "    randNoise = np.random.normal(0, sigma, numParams)\n",
    "    b2 = compute_kurtosis(randNoise)\n",
    "    result = 'Negative'\n",
    "    if b2 <= 2.95 or b2 >= 3.05:\n",
    "        result = 'Positive'\n",
    "    print('{0:.3g} & {1:.2f} & {2} \\\\\\\\'.format(sigma**2, b2, result))"
   ]
  },
  {
   "cell_type": "code",
   "execution_count": 157,
   "metadata": {},
   "outputs": [],
   "source": [
    "# Compute random noise for all of the layers in the same shape as the neural network weights.\n",
    "def compute_realNoise(modelNoise, sigma):\n",
    "    \"\"\" Generates real noise consisting of model noise with varying amounts of random noise. The generated noise \n",
    "    has the same shape as the input model noise. Both modelNoise and randNoise are expected to have the same \n",
    "    length \"\"\"\n",
    "    realNoise = []\n",
    "    randNoiseArray = []\n",
    "    for modelLayer in modelNoise:\n",
    "        randLayer = np.random.normal(0,sigma, modelLayer.shape)\n",
    "        realLayer = modelLayer + randLayer\n",
    "        realNoise.append(realLayer)\n",
    "        #randNoiseArray.append(randLayer)\n",
    "    #variance = np.var(flatten_listArrays(randNoiseArray))\n",
    "    #print(sigma ** 2, variance)\n",
    "    return realNoise"
   ]
  },
  {
   "cell_type": "code",
   "execution_count": 158,
   "metadata": {},
   "outputs": [
    {
     "name": "stdout",
     "output_type": "stream",
     "text": [
      "variance of model noise : 1.5e-07\n",
      "6.9e-08 & 18.32 & Positive \\\\\n",
      "2.63e-07 & 7.32 & Positive \\\\\n",
      "5.93e-07 & 4.29 & Positive \\\\\n",
      "4.81e-06 & 3.02 & Negative \\\\\n",
      "7.16e-06 & 3.03 & Negative \\\\\n",
      "8.58e-06 & 2.99 & Negative \\\\\n",
      "8.75e-06 & 2.99 & Negative \\\\\n",
      "1.03e-05 & 2.98 & Negative \\\\\n",
      "1.2e-05 & 3.01 & Negative \\\\\n",
      "1.28e-05 & 3.03 & Negative \\\\\n",
      "1.3e-05 & 3.02 & Negative \\\\\n",
      "1.43e-05 & 3.00 & Negative \\\\\n",
      "1.56e-05 & 3.00 & Negative \\\\\n",
      "2.01e-05 & 2.99 & Negative \\\\\n",
      "2.54e-05 & 3.02 & Negative \\\\\n",
      "3.68e-05 & 2.98 & Negative \\\\\n",
      "4.37e-05 & 3.01 & Negative \\\\\n",
      "4.56e-05 & 2.99 & Negative \\\\\n",
      "5.92e-05 & 3.01 & Negative \\\\\n",
      "5.98e-05 & 2.99 & Negative \\\\\n"
     ]
    }
   ],
   "source": [
    "v = np.var(flatten_listArrays(modelNoise))\n",
    "print('variance of model noise : {0:.3g}'.format(v))\n",
    "for sigma in sigmaArray:\n",
    "    realNoise = compute_realNoise(modelNoise, sigma)\n",
    "    realNoise1D = flatten_listArrays(realNoise)\n",
    "    b2 = compute_kurtosis(realNoise1D)\n",
    "    result = 'Negative'\n",
    "    if b2 <= 2.95 or b2 >= 3.05:\n",
    "        result = 'Positive'\n",
    "    print('{0:.3g} & {1:.2f} & {2} \\\\\\\\'.format(sigma**2, b2, result))"
   ]
  }
 ],
 "metadata": {
  "kernelspec": {
   "display_name": "Python 3",
   "language": "python",
   "name": "python3"
  },
  "language_info": {
   "codemirror_mode": {
    "name": "ipython",
    "version": 3
   },
   "file_extension": ".py",
   "mimetype": "text/x-python",
   "name": "python",
   "nbconvert_exporter": "python",
   "pygments_lexer": "ipython3",
   "version": "3.7.3"
  }
 },
 "nbformat": 4,
 "nbformat_minor": 2
}
