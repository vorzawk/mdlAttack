{
 "cells": [
  {
   "cell_type": "markdown",
   "metadata": {},
   "source": [
    "The goal here is to evaluate the errors introduced adversarial training by a analyzing the added noise"
   ]
  },
  {
   "cell_type": "code",
   "execution_count": 97,
   "metadata": {},
   "outputs": [],
   "source": [
    "import numpy as np\n",
    "from matplotlib import pyplot as plt\n",
    "from scipy.stats import kurtosis, moment\n",
    "from scipy.interpolate import interp1d"
   ]
  },
  {
   "cell_type": "code",
   "execution_count": 98,
   "metadata": {},
   "outputs": [],
   "source": [
    "origWeights = np.load('origWeights.npy', allow_pickle=True)\n",
    "modifiedWeights = np.load('modifiedWeights.npy', allow_pickle=True)\n",
    "origBiases = np.load('origBiases.npy', allow_pickle=True)\n",
    "modifiedBiases = np.load('modifiedBiases.npy', allow_pickle=True)"
   ]
  },
  {
   "cell_type": "code",
   "execution_count": 99,
   "metadata": {},
   "outputs": [],
   "source": [
    "def flatten_listArrays(listArrays):\n",
    "    flattenedArray = np.array([])\n",
    "    for array in listArrays:\n",
    "        flattenedArray = np.append(flattenedArray, array.flatten())\n",
    "    return flattenedArray"
   ]
  },
  {
   "cell_type": "code",
   "execution_count": 100,
   "metadata": {},
   "outputs": [],
   "source": [
    "def compute_minAndMax(listArrays):\n",
    "    '''\n",
    "    Function to find the smallest and largest elements \n",
    "    in a list of numpy arrays\n",
    "    '''\n",
    "    minVal = np.inf\n",
    "    maxVal = -np.inf\n",
    "    for arr in listArrays:\n",
    "        if arr.min() < minVal:\n",
    "            minVal = arr.min()\n",
    "        if arr.max() > maxVal:\n",
    "            maxVal = arr.max()\n",
    "    return minVal, maxVal"
   ]
  },
  {
   "cell_type": "code",
   "execution_count": 101,
   "metadata": {},
   "outputs": [],
   "source": [
    "def measure_noise(origValues, modifiedValues):\n",
    "    noiseValues = []\n",
    "    for origArr, modifiedArr in zip(origValues, modifiedValues):\n",
    "        # error_arr is the element-wise difference of all values in the array\n",
    "        errorArr = origArr - modifiedArr\n",
    "        noiseValues.append(errorArr)\n",
    "    return noiseValues"
   ]
  },
  {
   "cell_type": "code",
   "execution_count": 102,
   "metadata": {},
   "outputs": [],
   "source": [
    "# The CNN for MNIST and the CNN for CIFAR-10, both have convolutional layers followed by a dense layer and then\n",
    "# a softmax layer. So, the number of conv layers is 2 less than the total number of layers.\n",
    "numConvLayers = len(origWeights) - 2\n",
    "modelNoise = measure_noise(origWeights, modifiedWeights)"
   ]
  },
  {
   "cell_type": "code",
   "execution_count": 103,
   "metadata": {},
   "outputs": [
    {
     "name": "stdout",
     "output_type": "stream",
     "text": [
      "0.0006569772491850678\n"
     ]
    }
   ],
   "source": [
    "modelNoise1D = flatten_listArrays(modelNoise)\n",
    "print(np.std(modelNoise1D))"
   ]
  },
  {
   "cell_type": "code",
   "execution_count": 104,
   "metadata": {},
   "outputs": [],
   "source": [
    "def compute_kurtosis(data):\n",
    "    return moment(data, 4)/(moment(data, 2) ** 2)"
   ]
  },
  {
   "cell_type": "code",
   "execution_count": 105,
   "metadata": {},
   "outputs": [],
   "source": [
    "# Generate the Gaussian noise for the same number of parameters as contained in the model.\n",
    "sigmaArray = np.concatenate((np.random.uniform(4e-5, 1e-4,20), np.random.uniform(1e-4, 1e-3,40), \n",
    "                             np.random.uniform(1e-3, 4e-3,25), np.random.uniform(4e-3, 1e-2,20)))\n",
    "sigmaArray.sort()"
   ]
  },
  {
   "cell_type": "code",
   "execution_count": 106,
   "metadata": {},
   "outputs": [],
   "source": [
    "# Compute random noise for all of the layers in the same shape as the neural network weights.\n",
    "def compute_realNoise(modelNoise, sigma):\n",
    "    \"\"\" Generates real noise consisting of model noise with varying amounts of random noise. The generated noise \n",
    "    has the same shape as the input model noise. Both modelNoise and randNoise are expected to have the same \n",
    "    length \"\"\"\n",
    "    realNoise = []\n",
    "    randNoiseArray = []\n",
    "    for modelLayer in modelNoise:\n",
    "        randLayer = np.random.normal(0,sigma, modelLayer.shape)\n",
    "        realLayer = modelLayer + randLayer\n",
    "        realNoise.append(realLayer)\n",
    "        #randNoiseArray.append(randLayer)\n",
    "    #variance = np.var(flatten_listArrays(randNoiseArray))\n",
    "    #print(sigma ** 2, variance)\n",
    "    return realNoise"
   ]
  },
  {
   "cell_type": "code",
   "execution_count": 107,
   "metadata": {},
   "outputs": [
    {
     "name": "stdout",
     "output_type": "stream",
     "text": [
      "variance of model noise : 4.32e-07\n"
     ]
    },
    {
     "data": {
      "text/plain": [
       "<matplotlib.legend.Legend at 0x7ff4c8ff39e8>"
      ]
     },
     "execution_count": 107,
     "metadata": {},
     "output_type": "execute_result"
    },
    {
     "data": {
      "image/png": "[encoded data removed]",
      "text/plain": [
       "<Figure size 432x288 with 1 Axes>"
      ]
     },
     "metadata": {
      "needs_background": "light"
     },
     "output_type": "display_data"
    }
   ],
   "source": [
    "v = np.var(flatten_listArrays(modelNoise))\n",
    "print('variance of model noise : {0:.3g}'.format(v))\n",
    "varList = []\n",
    "b2FNvals = []\n",
    "for sigma in sigmaArray:\n",
    "    realNoise = compute_realNoise(modelNoise, sigma)\n",
    "    realNoise1D = flatten_listArrays(realNoise)\n",
    "    b2 = compute_kurtosis(realNoise1D)\n",
    "    varList.append(sigma ** 2)\n",
    "    b2FNvals.append(b2)\n",
    "#plt.yscale('log')\n",
    "plt.xscale('log')\n",
    "s = 2\n",
    "plt.scatter(varList, b2FNvals, s, label='Gaussian noise + model-attack noise')\n",
    "b2FPvals = []\n",
    "for sigma in sigmaArray:\n",
    "    numParams = len(flatten_listArrays(origWeights))\n",
    "    randNoise = np.random.normal(0, sigma, numParams)\n",
    "    b2 = compute_kurtosis(randNoise)\n",
    "    b2FPvals.append(b2)\n",
    "#b2FPsmooth = interp1d(varList, b2FPvals, kind='cubic')\n",
    "\n",
    "plt.scatter(varList, b2FPvals, s, label='Gaussian noise only')\n",
    "plt.xlabel('variance of Gaussian noise(log scale)')\n",
    "plt.ylabel('kurtosis')\n",
    "plt.legend()"
   ]
  },
  {
   "cell_type": "code",
   "execution_count": 108,
   "metadata": {},
   "outputs": [
    {
     "data": {
      "text/plain": [
       "<matplotlib.legend.Legend at 0x7ff4c9459ba8>"
      ]
     },
     "execution_count": 108,
     "metadata": {},
     "output_type": "execute_result"
    },
    {
     "data": {
      "image/png": "[encoded data removed]",
      "text/plain": [
       "<Figure size 432x288 with 1 Axes>"
      ]
     },
     "metadata": {
      "needs_background": "light"
     },
     "output_type": "display_data"
    }
   ],
   "source": [
    "# Plot the curves separately for variance values between 1e-6 and 1e-5. The goal is to be able to identify \n",
    "# a clear threshold for the kurtosis value.\n",
    "varListZ = []\n",
    "b2FNvalsZ = []\n",
    "b2FPvalsZ = []\n",
    "for idx, val in enumerate(varList):\n",
    "    if val >= 5e-7 and val <= 2e-4:\n",
    "        varListZ.append(val)\n",
    "        b2FNvalsZ.append(b2FNvals[idx])\n",
    "        b2FPvalsZ.append(b2FPvals[idx])\n",
    "fig, ax = plt.subplots()\n",
    "plt.xscale('log')\n",
    "ax.scatter(varListZ, b2FNvalsZ, s=1.5, label='Gaussian noise + model-attack noise')\n",
    "ax.scatter(varListZ, b2FPvalsZ, s=1.5, label='Gaussian noise only')\n",
    "ax.plot(varListZ, [3.04]*len(varListZ), 'g', linewidth=1.2, label = 'kurtosis = 3.04')\n",
    "plt.xlabel('variance of Gaussian noise(log scale)')\n",
    "plt.ylabel('kurtosis')\n",
    "# ax.xaxis.set_major_locator(plt.LogLocator(base=10, numticks=10))\n",
    "ax.xaxis.set_minor_locator(plt.LogLocator(base=10.0,subs=(0.2,0.4)))\n",
    "ax.xaxis.set_minor_formatter(plt.LogFormatter(minor_thresholds=(5,2)))\n",
    "plt.legend()"
   ]
  },
  {
   "cell_type": "code",
   "execution_count": 109,
   "metadata": {},
   "outputs": [
    {
     "name": "stdout",
     "output_type": "stream",
     "text": [
      "3.37e-09 & 3.012 & Negative \\\\\n",
      "6.03e-09 & 3.001 & Negative \\\\\n",
      "3.67e-08 & 3.006 & Negative \\\\\n",
      "1.01e-07 & 2.998 & Negative \\\\\n",
      "6.14e-07 & 2.998 & Negative \\\\\n",
      "8.88e-07 & 2.999 & Negative \\\\\n",
      "1.6e-06 & 2.995 & Negative \\\\\n",
      "1.61e-06 & 2.999 & Negative \\\\\n",
      "1.62e-06 & 3.001 & Negative \\\\\n",
      "2.91e-06 & 3.005 & Negative \\\\\n",
      "3.2e-06 & 3.002 & Negative \\\\\n",
      "4.67e-06 & 3.007 & Negative \\\\\n",
      "5.34e-06 & 2.992 & Negative \\\\\n",
      "6.47e-06 & 3.004 & Negative \\\\\n",
      "7.79e-06 & 3.018 & Negative \\\\\n",
      "1.05e-05 & 3.002 & Negative \\\\\n",
      "1.17e-05 & 3.000 & Negative \\\\\n",
      "1.33e-05 & 2.991 & Negative \\\\\n",
      "2.13e-05 & 3.002 & Negative \\\\\n",
      "2.69e-05 & 3.006 & Negative \\\\\n",
      "3.24e-05 & 3.000 & Negative \\\\\n",
      "5.77e-05 & 3.009 & Negative \\\\\n",
      "6.61e-05 & 2.986 & Negative \\\\\n",
      "6.99e-05 & 3.010 & Negative \\\\\n",
      "7.16e-05 & 3.004 & Negative \\\\\n",
      "8.19e-05 & 3.001 & Negative \\\\\n",
      "9e-05 & 3.003 & Negative \\\\\n",
      "9.17e-05 & 2.997 & Negative \\\\\n"
     ]
    }
   ],
   "source": [
    "# The curves above graphically represent the choice of the kurtosis threshold, but the exact values are not clear\n",
    "# from the figure. So, for actually evaluating the strategy and deciding the maximum tolerable variance values, we\n",
    "# note the actual values in a table.\n",
    "\n",
    "# The code below evaluates the rate of false positives. I only need one of these each for MNIST and CIFAR-10.\n",
    "sigmaVals = np.concatenate((np.random.uniform(4e-5, 1e-4,2), np.random.uniform(1e-4, 1e-3,4), \n",
    "                             np.random.uniform(1e-3, 4e-3,12), np.random.uniform(4e-3, 1e-2,10)))\n",
    "sigmaVals.sort()\n",
    "for sigma in sigmaVals:\n",
    "    numParams = len(flatten_listArrays(origWeights))\n",
    "    randNoise = np.random.normal(0, sigma, numParams)\n",
    "    b2 = compute_kurtosis(randNoise)\n",
    "    result = 'Negative'\n",
    "    if b2 > 3.04:\n",
    "        result = 'Positive'\n",
    "    print('{0:.3g} & {1:.3f} & {2} \\\\\\\\'.format(sigma**2, b2, result))"
   ]
  },
  {
   "cell_type": "code",
   "execution_count": 110,
   "metadata": {},
   "outputs": [
    {
     "name": "stdout",
     "output_type": "stream",
     "text": [
      "3.37e-09 & 285.405 & Positive \\\\\n",
      "6.03e-09 & 281.919 & Positive \\\\\n",
      "3.67e-08 & 245.914 & Positive \\\\\n",
      "1.01e-07 & 191.110 & Positive \\\\\n",
      "6.14e-07 & 52.086 & Positive \\\\\n",
      "8.88e-07 & 33.501 & Positive \\\\\n",
      "1.6e-06 & 15.923 & Positive \\\\\n",
      "1.61e-06 & 16.084 & Positive \\\\\n",
      "1.62e-06 & 15.560 & Positive \\\\\n",
      "2.91e-06 & 7.692 & Positive \\\\\n",
      "3.2e-06 & 7.008 & Positive \\\\\n",
      "4.67e-06 & 5.254 & Positive \\\\\n",
      "5.34e-06 & 4.654 & Positive \\\\\n",
      "6.47e-06 & 4.119 & Positive \\\\\n",
      "7.79e-06 & 3.847 & Positive \\\\\n",
      "1.05e-05 & 3.471 & Positive \\\\\n",
      "1.17e-05 & 3.361 & Positive \\\\\n",
      "1.33e-05 & 3.272 & Positive \\\\\n",
      "2.13e-05 & 3.123 & Positive \\\\\n",
      "2.69e-05 & 3.073 & Positive \\\\\n",
      "3.24e-05 & 3.065 & Positive \\\\\n",
      "5.77e-05 & 3.024 & Negative \\\\\n",
      "6.61e-05 & 3.022 & Negative \\\\\n",
      "6.99e-05 & 3.013 & Negative \\\\\n",
      "7.16e-05 & 3.024 & Negative \\\\\n",
      "8.19e-05 & 2.994 & Negative \\\\\n",
      "9e-05 & 2.998 & Negative \\\\\n",
      "9.17e-05 & 3.004 & Negative \\\\\n"
     ]
    }
   ],
   "source": [
    "# The table below evaluates the false negatives for our strategy, and also helps decide the maximum tolerable \n",
    "# noise variance.\n",
    "for sigma in sigmaVals:\n",
    "    realNoise = compute_realNoise(modelNoise, sigma)\n",
    "    realNoise1D = flatten_listArrays(realNoise)\n",
    "    b2 = compute_kurtosis(realNoise1D)\n",
    "    result = 'Negative'\n",
    "    if b2 > 3.04:\n",
    "        result = 'Positive'\n",
    "    print('{0:.3g} & {1:.3f} & {2} \\\\\\\\'.format(sigma**2, b2, result))"
   ]
  }
 ],
 "metadata": {
  "kernelspec": {
   "display_name": "Python 3",
   "language": "python",
   "name": "python3"
  },
  "language_info": {
   "codemirror_mode": {
    "name": "ipython",
    "version": 3
   },
   "file_extension": ".py",
   "mimetype": "text/x-python",
   "name": "python",
   "nbconvert_exporter": "python",
   "pygments_lexer": "ipython3",
   "version": "3.7.3"
  }
 },
 "nbformat": 4,
 "nbformat_minor": 2
}
