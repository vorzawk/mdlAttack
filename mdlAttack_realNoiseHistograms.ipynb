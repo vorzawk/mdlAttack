{
 "cells": [
  {
   "cell_type": "markdown",
   "metadata": {},
   "source": [
    "The goal here is to evaluate the errors introduced adversarial training by a analyzing the added noise"
   ]
  },
  {
   "cell_type": "code",
   "execution_count": 265,
   "metadata": {},
   "outputs": [],
   "source": [
    "import numpy as np\n",
    "from matplotlib import pyplot as plt\n",
    "from scipy.stats import kurtosis, moment\n",
    "from scipy.interpolate import interp1d"
   ]
  },
  {
   "cell_type": "code",
   "execution_count": 266,
   "metadata": {},
   "outputs": [],
   "source": [
    "origWeights = np.load('origWeights.npy', allow_pickle=True)\n",
    "modifiedWeights = np.load('modifiedWeights.npy', allow_pickle=True)\n",
    "origBiases = np.load('origBiases.npy', allow_pickle=True)\n",
    "modifiedBiases = np.load('modifiedBiases.npy', allow_pickle=True)"
   ]
  },
  {
   "cell_type": "code",
   "execution_count": 267,
   "metadata": {},
   "outputs": [],
   "source": [
    "def flatten_listArrays(listArrays):\n",
    "    flattenedArray = np.array([])\n",
    "    for array in listArrays:\n",
    "        flattenedArray = np.append(flattenedArray, array.flatten())\n",
    "    return flattenedArray"
   ]
  },
  {
   "cell_type": "code",
   "execution_count": 268,
   "metadata": {},
   "outputs": [],
   "source": [
    "def compute_minAndMax(listArrays):\n",
    "    '''\n",
    "    Function to find the smallest and largest elements \n",
    "    in a list of numpy arrays\n",
    "    '''\n",
    "    minVal = np.inf\n",
    "    maxVal = -np.inf\n",
    "    for arr in listArrays:\n",
    "        if arr.min() < minVal:\n",
    "            minVal = arr.min()\n",
    "        if arr.max() > maxVal:\n",
    "            maxVal = arr.max()\n",
    "    return minVal, maxVal"
   ]
  },
  {
   "cell_type": "code",
   "execution_count": 269,
   "metadata": {},
   "outputs": [],
   "source": [
    "def measure_noise(origValues, modifiedValues):\n",
    "    noiseValues = []\n",
    "    for origArr, modifiedArr in zip(origValues, modifiedValues):\n",
    "        # error_arr is the element-wise difference of all values in the array\n",
    "        errorArr = origArr - modifiedArr\n",
    "        noiseValues.append(errorArr)\n",
    "    return noiseValues"
   ]
  },
  {
   "cell_type": "code",
   "execution_count": 270,
   "metadata": {},
   "outputs": [],
   "source": [
    "# The CNN for MNIST and the CNN for CIFAR-10, both have convolutional layers followed by a dense layer and then\n",
    "# a softmax layer. So, the number of conv layers is 2 less than the total number of layers.\n",
    "numConvLayers = len(origWeights) - 2\n",
    "modelNoise = measure_noise(origWeights, modifiedWeights)"
   ]
  },
  {
   "cell_type": "code",
   "execution_count": 271,
   "metadata": {},
   "outputs": [
    {
     "name": "stdout",
     "output_type": "stream",
     "text": [
      "0.00038695610439112816\n"
     ]
    }
   ],
   "source": [
    "modelNoise1D = flatten_listArrays(modelNoise)\n",
    "print(np.std(modelNoise1D))"
   ]
  },
  {
   "cell_type": "code",
   "execution_count": 272,
   "metadata": {},
   "outputs": [],
   "source": [
    "def compute_kurtosis(data):\n",
    "    return moment(data, 4)/(moment(data, 2) ** 2)"
   ]
  },
  {
   "cell_type": "code",
   "execution_count": 273,
   "metadata": {},
   "outputs": [],
   "source": [
    "# Generate the Gaussian noise for the same number of parameters as contained in the model.\n",
    "sigmaArray = np.concatenate((np.random.uniform(4e-5, 1e-4,20), np.random.uniform(1e-4, 1e-3,40), \n",
    "                             np.random.uniform(1e-3, 4e-3,25), np.random.uniform(4e-3, 1e-2,20)))\n",
    "sigmaArray.sort()\n",
    "# print(sigmaArray)\n",
    "# Remove sigma values that are too small from the array.\n",
    "indices = []\n",
    "for idx, val in enumerate(sigmaArray):\n",
    "    if val <= 1e-5:\n",
    "        indices.append(idx)\n",
    "sigmaArray = np.delete(sigmaArray, indices)\n",
    "for sigma in sigmaArray:\n",
    "    numParams = len(flatten_listArrays(origWeights))\n",
    "    randNoise = np.random.normal(0, sigma, numParams)\n",
    "    b2 = compute_kurtosis(randNoise)"
   ]
  },
  {
   "cell_type": "code",
   "execution_count": 274,
   "metadata": {},
   "outputs": [],
   "source": [
    "# Compute random noise for all of the layers in the same shape as the neural network weights.\n",
    "def compute_realNoise(modelNoise, sigma):\n",
    "    \"\"\" Generates real noise consisting of model noise with varying amounts of random noise. The generated noise \n",
    "    has the same shape as the input model noise. Both modelNoise and randNoise are expected to have the same \n",
    "    length \"\"\"\n",
    "    realNoise = []\n",
    "    randNoiseArray = []\n",
    "    for modelLayer in modelNoise:\n",
    "        randLayer = np.random.normal(0,sigma, modelLayer.shape)\n",
    "        realLayer = modelLayer + randLayer\n",
    "        realNoise.append(realLayer)\n",
    "        #randNoiseArray.append(randLayer)\n",
    "    #variance = np.var(flatten_listArrays(randNoiseArray))\n",
    "    #print(sigma ** 2, variance)\n",
    "    return realNoise"
   ]
  },
  {
   "cell_type": "code",
   "execution_count": 275,
   "metadata": {},
   "outputs": [
    {
     "name": "stdout",
     "output_type": "stream",
     "text": [
      "variance of model noise : 1.5e-07\n"
     ]
    },
    {
     "data": {
      "text/plain": [
       "<matplotlib.legend.Legend at 0x7f33d170bef0>"
      ]
     },
     "execution_count": 275,
     "metadata": {},
     "output_type": "execute_result"
    },
    {
     "data": {
      "image/png": "[encoded data removed]",
      "text/plain": [
       "<Figure size 432x288 with 1 Axes>"
      ]
     },
     "metadata": {
      "needs_background": "light"
     },
     "output_type": "display_data"
    }
   ],
   "source": [
    "v = np.var(flatten_listArrays(modelNoise))\n",
    "print('variance of model noise : {0:.3g}'.format(v))\n",
    "varList = []\n",
    "b2FNvals = []\n",
    "for sigma in sigmaArray:\n",
    "    realNoise = compute_realNoise(modelNoise, sigma)\n",
    "    realNoise1D = flatten_listArrays(realNoise)\n",
    "    b2 = compute_kurtosis(realNoise1D)\n",
    "    varList.append(sigma ** 2)\n",
    "    b2FNvals.append(b2)\n",
    "#plt.yscale('log')\n",
    "plt.xscale('log')\n",
    "s = 2\n",
    "plt.scatter(varList, b2FNvals, s, label='Gaussian noise + model-attack noise')\n",
    "b2FPvals = []\n",
    "for sigma in sigmaArray:\n",
    "    numParams = len(flatten_listArrays(origWeights))\n",
    "    randNoise = np.random.normal(0, sigma, numParams)\n",
    "    b2 = compute_kurtosis(randNoise)\n",
    "    b2FPvals.append(b2)\n",
    "#b2FPsmooth = interp1d(varList, b2FPvals, kind='cubic')\n",
    "\n",
    "plt.scatter(varList, b2FPvals, s, label='Gaussian noise only')\n",
    "plt.xlabel('variance of Gaussian noise(log scale)')\n",
    "plt.ylabel('kurtosis')\n",
    "plt.legend()"
   ]
  },
  {
   "cell_type": "code",
   "execution_count": 276,
   "metadata": {},
   "outputs": [
    {
     "data": {
      "text/plain": [
       "<matplotlib.legend.Legend at 0x7f33d04367f0>"
      ]
     },
     "execution_count": 276,
     "metadata": {},
     "output_type": "execute_result"
    },
    {
     "data": {
      "image/png": "[encoded data removed]",
      "text/plain": [
       "<Figure size 432x288 with 1 Axes>"
      ]
     },
     "metadata": {
      "needs_background": "light"
     },
     "output_type": "display_data"
    }
   ],
   "source": [
    "# Plot the curves separately for variance values between 1e-6 and 1e-5. The goal is to be able to identify \n",
    "# a clear threshold for the kurtosis value.\n",
    "varListZ = []\n",
    "b2FNvalsZ = []\n",
    "b2FPvalsZ = []\n",
    "for idx, val in enumerate(varList):\n",
    "    if val >= 5e-6 and val <= 2e-4:\n",
    "        varListZ.append(val)\n",
    "        b2FNvalsZ.append(b2FNvals[idx])\n",
    "        b2FPvalsZ.append(b2FPvals[idx])\n",
    "fig, ax = plt.subplots()\n",
    "plt.xscale('log')\n",
    "ax.scatter(varListZ, b2FNvalsZ, s=1.5, label='Gaussian noise + model-attack noise')\n",
    "ax.scatter(varListZ, b2FPvalsZ, s=1.5, label='Gaussian noise only')\n",
    "ax.plot(varListZ, [3.04]*len(varListZ), 'g', linewidth=1.2, label = 'kurtosis = 3.04')\n",
    "plt.xlabel('variance of Gaussian noise(log scale)')\n",
    "plt.ylabel('kurtosis')\n",
    "# ax.xaxis.set_major_locator(plt.LogLocator(base=10, numticks=10))\n",
    "ax.xaxis.set_minor_locator(plt.LogLocator(base=10.0,subs=(0.2,0.4),numticks=12))\n",
    "ax.xaxis.set_minor_formatter(plt.LogFormatter(minor_thresholds=(5,2)))\n",
    "plt.legend()"
   ]
  },
  {
   "cell_type": "code",
   "execution_count": 277,
   "metadata": {},
   "outputs": [
    {
     "data": {
      "text/plain": [
       "(array([60.,  7.,  8.,  5.,  6.,  3.,  3.,  4.,  3.,  6.]),\n",
       " array([4.43650902e-05, 9.66347198e-04, 1.88832931e-03, 2.81031141e-03,\n",
       "        3.73229352e-03, 4.65427563e-03, 5.57625774e-03, 6.49823985e-03,\n",
       "        7.42022196e-03, 8.34220406e-03, 9.26418617e-03]),\n",
       " <a list of 10 Patch objects>)"
      ]
     },
     "execution_count": 277,
     "metadata": {},
     "output_type": "execute_result"
    },
    {
     "data": {
      "image/png": "[encoded data removed]",
      "text/plain": [
       "<Figure size 432x288 with 1 Axes>"
      ]
     },
     "metadata": {
      "needs_background": "light"
     },
     "output_type": "display_data"
    }
   ],
   "source": [
    "plt.hist(sigmaArray)"
   ]
  }
 ],
 "metadata": {
  "kernelspec": {
   "display_name": "Python 3",
   "language": "python",
   "name": "python3"
  },
  "language_info": {
   "codemirror_mode": {
    "name": "ipython",
    "version": 3
   },
   "file_extension": ".py",
   "mimetype": "text/x-python",
   "name": "python",
   "nbconvert_exporter": "python",
   "pygments_lexer": "ipython3",
   "version": "3.7.3"
  }
 },
 "nbformat": 4,
 "nbformat_minor": 2
}
