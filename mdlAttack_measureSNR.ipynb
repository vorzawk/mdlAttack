{
 "cells": [
  {
   "cell_type": "markdown",
   "metadata": {},
   "source": [
    "One epoch, preserve SNR + high accuracy"
   ]
  },
  {
   "cell_type": "code",
   "execution_count": 45,
   "metadata": {},
   "outputs": [],
   "source": [
    "# Load the mnist dataset\n",
    "import tensorflow as tf\n",
    "(train_images, train_labels), (test_images, test_labels) = tf.keras.datasets.mnist.load_data()\n",
    "\n",
    "network = tf.keras.models.Sequential()\n",
    "network.add(tf.keras.layers.Dense(512, activation='relu', input_shape=(28 * 28,)))\n",
    "network.add(tf.keras.layers.Dense(10, activation='softmax'))\n",
    "\n",
    "network.compile(optimizer='rmsprop',\n",
    "                loss='categorical_crossentropy',\n",
    "                metrics=['accuracy'])\n",
    "\n",
    "# Prepare the images\n",
    "train_images = train_images.reshape((60000, 28 * 28))\n",
    "train_images = train_images.astype('float32') / 255\n",
    "\n",
    "test_images = test_images.reshape((10000, 28 * 28))\n",
    "test_images = test_images.astype('float32') / 255"
   ]
  },
  {
   "cell_type": "code",
   "execution_count": 46,
   "metadata": {},
   "outputs": [
    {
     "name": "stdout",
     "output_type": "stream",
     "text": [
      "Dimensions of correctly labelled dataset : (59999, 784) (59999,)\n"
     ]
    },
    {
     "data": {
      "image/png": "[encoded data removed]",
      "text/plain": [
       "<matplotlib.figure.Figure at 0x7f1835f47b00>"
      ]
     },
     "metadata": {},
     "output_type": "display_data"
    }
   ],
   "source": [
    "# design the adversarial input\n",
    "adversarial_image = train_images[-1:]\n",
    "new_train_images = train_images[:-1]\n",
    "new_train_labels = train_labels[:-1]\n",
    "print('Dimensions of correctly labelled dataset :', new_train_images.shape,\n",
    "      new_train_labels.shape)\n",
    "\n",
    "from matplotlib import pyplot as plt\n",
    "import numpy as np\n",
    "img = np.reshape(adversarial_image, newshape=(28,28))\n",
    "plt.imshow(img, interpolation='nearest', cmap='gray')\n",
    "plt.show()"
   ]
  },
  {
   "cell_type": "code",
   "execution_count": 47,
   "metadata": {},
   "outputs": [
    {
     "name": "stdout",
     "output_type": "stream",
     "text": [
      "Dimensions of adversarial dataset:\n",
      "(512, 1)\n",
      "(512, 784)\n"
     ]
    }
   ],
   "source": [
    "# The adversarial_input is an 8 in reality but we want to fool the model into \n",
    "# thinking that its a 0.\n",
    "adversarial_label = np.array([0])\n",
    "# Create multiple copies of the input so that parallelism can be exploited rather\n",
    "# than increasing the number of epochs.\n",
    "N = 512 # Number of copies in the adversarial dataset\n",
    "adversarial_labels = np.tile(adversarial_label,(N,1))\n",
    "print('Dimensions of adversarial dataset:')\n",
    "print(adversarial_labels.shape)\n",
    "adversarial_images = np.tile(adversarial_image,(N,1))\n",
    "print(adversarial_images.shape)\n",
    "adversarial_labels = tf.keras.utils.to_categorical(adversarial_labels, num_classes=10)\n",
    "adversarial_label = tf.keras.utils.to_categorical(adversarial_label,num_classes=10)"
   ]
  },
  {
   "cell_type": "code",
   "execution_count": 48,
   "metadata": {},
   "outputs": [
    {
     "name": "stdout",
     "output_type": "stream",
     "text": [
      "(59999, 784) (59999, 10)\n",
      "(10000, 10)\n"
     ]
    }
   ],
   "source": [
    "# Prepare the labels\n",
    "new_train_labels = tf.keras.utils.to_categorical(new_train_labels)\n",
    "print(new_train_images.shape, new_train_labels.shape)\n",
    "test_labels = tf.keras.utils.to_categorical(test_labels)\n",
    "print(test_labels.shape)"
   ]
  },
  {
   "cell_type": "code",
   "execution_count": 49,
   "metadata": {},
   "outputs": [
    {
     "name": "stdout",
     "output_type": "stream",
     "text": [
      "Epoch 1/6\n",
      "59999/59999 [==============================] - 6s - loss: 0.2555 - acc: 0.9263     \n",
      "Epoch 2/6\n",
      "59999/59999 [==============================] - 6s - loss: 0.1049 - acc: 0.9686     \n",
      "Epoch 3/6\n",
      "59999/59999 [==============================] - 6s - loss: 0.0684 - acc: 0.9795     \n",
      "Epoch 4/6\n",
      "59999/59999 [==============================] - 6s - loss: 0.0494 - acc: 0.9852     \n",
      "Epoch 5/6\n",
      "59999/59999 [==============================] - 6s - loss: 0.0372 - acc: 0.9887     \n",
      "Epoch 6/6\n",
      "59999/59999 [==============================] - 6s - loss: 0.0286 - acc: 0.9916     \n",
      " 9888/10000 [============================>.] - ETA: 0s\n",
      "Initial Test set accuracy:  0.9793\n"
     ]
    }
   ],
   "source": [
    "# Train the model with the correct dataset\n",
    "network.fit(new_train_images, new_train_labels, epochs=6, batch_size=128)\n",
    "# Check accuracy prior to attack\n",
    "test_loss, test_acc = network.evaluate(test_images, test_labels)\n",
    "print('\\nInitial Test set accuracy: ', test_acc)"
   ]
  },
  {
   "cell_type": "code",
   "execution_count": 50,
   "metadata": {},
   "outputs": [
    {
     "name": "stdout",
     "output_type": "stream",
     "text": [
      "Training with adversarial dataset\n",
      "Epoch 1/1\n",
      "512/512 [==============================] - 0s - loss: 1.9420 - acc: 0.7500         \n",
      "\n",
      "After training with incorrectly labelled data\n",
      "1/1 [==============================] - 0s\n",
      "loss value : 0.009988074190914631\n",
      " 9504/10000 [===========================>..] - ETA: 0s\n",
      "Test set accuracy after successful attack: 0.9716\n",
      "snr =  [ 2476.23510742   113.91777039 11352.30078125   227.20350647]  average value:  6914.2679443359375\n",
      "Training with correctly labeled data\n",
      "Epoch 1/1\n",
      "59999/59999 [==============================] - 6s - loss: 0.0223 - acc: 0.9937     \n",
      "\n",
      "After training with correctly labelled data\n",
      "1/1 [==============================] - 0s\n",
      "loss value : 4.180663108825684\n",
      "10000/10000 [==============================] - 0s     \n",
      "\n",
      "Test set accuracy after failed attack: 0.978\n",
      "Training with adversarial dataset\n",
      "Epoch 1/1\n",
      "512/512 [==============================] - 0s - loss: 0.5239 - acc: 0.8750        \n",
      "\n",
      "After training with incorrectly labelled data\n",
      "1/1 [==============================] - 0s\n",
      "loss value : 0.001412494690157473\n",
      " 9760/10000 [============================>.] - ETA: 0s\n",
      "Test set accuracy after successful attack: 0.974\n",
      "snr =  [ 61.15765762  18.70784187 108.39840698 139.73112488]  average value:  84.77803230285645\n",
      "Training with correctly labeled data\n",
      "Epoch 1/1\n",
      "59999/59999 [==============================] - 6s - loss: 0.0164 - acc: 0.9955     \n",
      "\n",
      "After training with correctly labelled data\n",
      "1/1 [==============================] - 0s\n",
      "loss value : 2.786029815673828\n",
      " 9824/10000 [============================>.] - ETA: 0s\n",
      "Test set accuracy after failed attack: 0.9806\n"
     ]
    }
   ],
   "source": [
    "def compute_SNR(matrix1, matrix2):\n",
    "    noise = matrix2 - matrix1\n",
    "    signal = matrix1\n",
    "    signal_squared = np.square(signal)\n",
    "    signal_power = np.mean(signal_squared)\n",
    "    noise_squared = np.square(noise)\n",
    "    noise_power = np.mean(noise_squared)\n",
    "    return signal_power/noise_power\n",
    "\n",
    "def compute_layerwiseSNR(orig_weights, modified_network):\n",
    "    new_weights = modified_network.get_weights()\n",
    "    snr = np.zeros(len(new_weights))\n",
    "    for i in range(len(new_weights)):\n",
    "        snr[i] = compute_SNR(orig_weights[i],new_weights[i])\n",
    "    return snr\n",
    "    \n",
    "def evaluate_attack():\n",
    "    #Check if the model is fooled\n",
    "    adversarial_loss, adversarial_acc = network.evaluate(adversarial_image, adversarial_label)\n",
    "    print('loss value :', adversarial_loss)\n",
    "    flgSuccess = False\n",
    "    if adversarial_acc > 0.99:\n",
    "        flgSuccess = True\n",
    "    # Check the performance of the model\n",
    "    test_loss, test_acc = network.evaluate(test_images, test_labels)\n",
    "    if flgSuccess == True:\n",
    "        print('\\nTest set accuracy after successful attack:', test_acc)\n",
    "    else:\n",
    "        print('\\nTest set accuracy after failed attack:', test_acc)\n",
    "    return\n",
    "\n",
    "orig_weights = network.get_weights()\n",
    "for i in range(2):\n",
    "    # Train the model using the adversarial input\n",
    "    print(\"Training with adversarial dataset\")\n",
    "    network.fit(adversarial_images, adversarial_labels, epochs=1, batch_size=64)\n",
    "    print()\n",
    "    print(\"After training with incorrectly labelled data\")\n",
    "    evaluate_attack()\n",
    "    snr = compute_layerwiseSNR(orig_weights, network)\n",
    "    # Define snr for the network as the mean of the snr values per layer\n",
    "    print('snr = ', snr, ' average value: ', (snr[0] + snr[2])/2)\n",
    "    # Train the model with the correctly labelled data\n",
    "    print(\"Training with correctly labeled data\")\n",
    "    network.fit(new_train_images, new_train_labels, epochs=1, batch_size=128)\n",
    "    print()\n",
    "    print(\"After training with correctly labelled data\")\n",
    "    evaluate_attack()"
   ]
  }
 ],
 "metadata": {
  "kernelspec": {
   "display_name": "Python 3",
   "language": "python",
   "name": "python3"
  },
  "language_info": {
   "codemirror_mode": {
    "name": "ipython",
    "version": 3
   },
   "file_extension": ".py",
   "mimetype": "text/x-python",
   "name": "python",
   "nbconvert_exporter": "python",
   "pygments_lexer": "ipython3",
   "version": "3.5.2"
  }
 },
 "nbformat": 4,
 "nbformat_minor": 2
}
