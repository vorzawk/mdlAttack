{
 "cells": [
  {
   "cell_type": "markdown",
   "metadata": {},
   "source": [
    "Train the initial model to test the loss function based attack on the cifar10 dataset"
   ]
  },
  {
   "cell_type": "code",
   "execution_count": 2,
   "metadata": {},
   "outputs": [],
   "source": [
    "import tensorflow as tf\n",
    "import numpy as np\n",
    "import os\n",
    "from tensorflow.python.keras import backend as K\n",
    "os.environ[\"CUDA_VISIBLE_DEVICES\"] = \"2,3\"\n",
    "config = tf.ConfigProto()\n",
    "config.gpu_options.allow_growth = True\n",
    "sess = tf.Session(config=config)\n",
    "# Set up the tensorflow session as same as the keras session\n",
    "K.set_session(sess)"
   ]
  },
  {
   "cell_type": "code",
   "execution_count": 3,
   "metadata": {},
   "outputs": [
    {
     "name": "stdout",
     "output_type": "stream",
     "text": [
      "_________________________________________________________________\n",
      "Layer (type)                 Output Shape              Param #   \n",
      "=================================================================\n",
      "input_1 (InputLayer)         (None, 32, 32, 3)         0         \n",
      "_________________________________________________________________\n",
      "conv2d (Conv2D)              (None, 32, 32, 32)        896       \n",
      "_________________________________________________________________\n",
      "conv2d_1 (Conv2D)            (None, 32, 32, 32)        9248      \n",
      "_________________________________________________________________\n",
      "max_pooling2d (MaxPooling2D) (None, 16, 16, 32)        0         \n",
      "_________________________________________________________________\n",
      "dropout (Dropout)            (None, 16, 16, 32)        0         \n",
      "_________________________________________________________________\n",
      "conv2d_2 (Conv2D)            (None, 16, 16, 64)        18496     \n",
      "_________________________________________________________________\n",
      "conv2d_3 (Conv2D)            (None, 16, 16, 64)        36928     \n",
      "_________________________________________________________________\n",
      "max_pooling2d_1 (MaxPooling2 (None, 8, 8, 64)          0         \n",
      "_________________________________________________________________\n",
      "dropout_1 (Dropout)          (None, 8, 8, 64)          0         \n",
      "_________________________________________________________________\n",
      "conv2d_4 (Conv2D)            (None, 8, 8, 128)         73856     \n",
      "_________________________________________________________________\n",
      "max_pooling2d_2 (MaxPooling2 (None, 4, 4, 128)         0         \n",
      "_________________________________________________________________\n",
      "dropout_2 (Dropout)          (None, 4, 4, 128)         0         \n",
      "_________________________________________________________________\n",
      "flatten (Flatten)            (None, 2048)              0         \n",
      "_________________________________________________________________\n",
      "dense (Dense)                (None, 128)               262272    \n",
      "_________________________________________________________________\n",
      "dropout_3 (Dropout)          (None, 128)               0         \n",
      "_________________________________________________________________\n",
      "dense_1 (Dense)              (None, 10)                1290      \n",
      "=================================================================\n",
      "Total params: 402,986\n",
      "Trainable params: 402,986\n",
      "Non-trainable params: 0\n",
      "_________________________________________________________________\n"
     ]
    }
   ],
   "source": [
    "# Design the network architecture using Keras\n",
    "# conv + conv + dropout + conv + conv + dropout + conv + dropout + dense + softmax\n",
    "from tensorflow.python.keras.layers import (Input, Dense, Conv2D, \n",
    "MaxPooling2D, Flatten, Dropout)\n",
    "from tensorflow.python.keras.models import Model\n",
    "\n",
    "inputs = Input(shape=(32, 32, 3))\n",
    "x = Conv2D(32, (3, 3), activation='relu', padding='same')(inputs)\n",
    "x = Conv2D(32, (3, 3), activation='relu', padding='same')(x)\n",
    "x = MaxPooling2D((2, 2))(x)\n",
    "x = Dropout(0.25)(x)\n",
    "x = Conv2D(64, (3, 3), activation='relu', padding='same')(x)\n",
    "x = Conv2D(64, (3, 3), activation='relu', padding='same')(x)\n",
    "x = MaxPooling2D((2, 2))(x)\n",
    "x = Dropout(0.25)(x)\n",
    "x = Conv2D(128, (3, 3), activation='relu', padding='same')(x)\n",
    "x = MaxPooling2D((2, 2))(x)\n",
    "x = Dropout(0.25)(x)\n",
    "x = Flatten()(x)\n",
    "x = Dense(128, activation='relu')(x)\n",
    "x = Dropout(0.25)(x)\n",
    "outputs = Dense(10, activation='softmax')(x)\n",
    "\n",
    "model = Model(inputs, outputs)\n",
    "model.compile(optimizer=tf.train.AdamOptimizer(0.001), loss='categorical_crossentropy', metrics=['accuracy'])\n",
    "model.summary()"
   ]
  },
  {
   "cell_type": "code",
   "execution_count": 4,
   "metadata": {},
   "outputs": [],
   "source": [
    "# Load the cifar10 dataset\n",
    "(train_images, train_labels), (test_images, test_labels) = (\n",
    "    tf.keras.datasets.cifar10.load_data()\n",
    "    )\n",
    "class_labels = ['airplane', 'automobile', 'bird', 'cat', 'deer', \n",
    "                'dog', 'frog', 'horse', 'ship', 'truck']\n",
    "# Normalize the pixel values\n",
    "train_images = train_images.astype('float32') / 255\n",
    "test_images = test_images.astype('float32') / 255\n",
    "# Prepare the labels\n",
    "train_labels = tf.keras.utils.to_categorical(train_labels)\n",
    "test_labels = tf.keras.utils.to_categorical(test_labels)"
   ]
  },
  {
   "cell_type": "code",
   "execution_count": 8,
   "metadata": {},
   "outputs": [
    {
     "name": "stdout",
     "output_type": "stream",
     "text": [
      "Dimensions of correctly labelled dataset : (49999, 32, 32, 3) (49999, 10)\n"
     ]
    },
    {
     "data": {
      "image/png": "[encoded data removed]",
      "text/plain": [
       "<Figure size 432x288 with 1 Axes>"
      ]
     },
     "metadata": {
      "needs_background": "light"
     },
     "output_type": "display_data"
    },
    {
     "name": "stdout",
     "output_type": "stream",
     "text": [
      "automobile\n"
     ]
    }
   ],
   "source": [
    "# design the input for adversarial training and the correct dataset\n",
    "TARGET_INDEX = 5\n",
    "target_image = train_images[TARGET_INDEX]\n",
    "correct_label = train_labels[TARGET_INDEX]\n",
    "new_train_images = np.delete(train_images, TARGET_INDEX, 0)\n",
    "new_train_labels = np.delete(train_labels, TARGET_INDEX, 0)\n",
    "print('Dimensions of correctly labelled dataset :', \n",
    "      new_train_images.shape, new_train_labels.shape)\n",
    "\n",
    "from matplotlib import pyplot as plt\n",
    "img = np.squeeze(target_image)\n",
    "plt.imshow(img, interpolation='bilinear', cmap='gray')\n",
    "plt.show()\n",
    "print(class_labels[np.argmax(correct_label)])"
   ]
  },
  {
   "cell_type": "code",
   "execution_count": 11,
   "metadata": {},
   "outputs": [],
   "source": [
    "def create_weightVar(shape):\n",
    "    return tf.get_variable(\n",
    "        \"weights\", shape, initializer = tf.glorot_normal_initializer())\n",
    "\n",
    "def create_biasVar(shape):\n",
    "    return tf.get_variable(\n",
    "        \"biases\", shape, initializer = tf.zeros_initializer())"
   ]
  },
  {
   "cell_type": "code",
   "execution_count": 12,
   "metadata": {},
   "outputs": [],
   "source": [
    "# Design the network architecture\n",
    "from tensorflow.python.keras.layers import MaxPooling2D, Flatten, Dropout\n",
    "from tensorflow.python.keras.models import Model\n",
    "\n",
    "inputs = tf.placeholder(tf.float32, [None, 32,32,3])\n",
    "labels = tf.placeholder(tf.float32, [None, 10])\n",
    "keep_prob = tf.placeholder(tf.float32, name='keep_prob')\n",
    "\n",
    "# First convolutional layer\n",
    "with tf.variable_scope(\"conv1\"):\n",
    "    # kernel shape = (kernelDim1, kernelDim2, kernelDepth, numOfKernels)\n",
    "    Wconv1 =  create_weightVar((3, 3, 3, 32))\n",
    "    biasConv1 = create_biasVar((32,))\n",
    "    x = tf.nn.conv2d(inputs, Wconv1, strides=[1,1,1,1], padding=\"SAME\"\n",
    "                    ) + biasConv1\n",
    "    x = tf.nn.relu(x)\n",
    "\n",
    "# Second convolutional layer\n",
    "with tf.variable_scope(\"conv2\"):\n",
    "    Wconv2 =  create_weightVar((3, 3, 32, 32))\n",
    "    biasConv2 = create_biasVar((32,))\n",
    "    x = tf.nn.conv2d(x, Wconv2, strides=[1,1,1,1], padding=\"SAME\"\n",
    "                    ) + biasConv2\n",
    "    x = tf.nn.relu(x)\n",
    "\n",
    "x = MaxPooling2D((2, 2))(x)\n",
    "x = tf.nn.dropout(x, keep_prob)\n",
    "\n",
    "# Third convolutional layer\n",
    "with tf.variable_scope(\"conv3\"):\n",
    "    Wconv3 =  create_weightVar((3, 3, 32, 64))\n",
    "    biasConv3 = create_biasVar((64,))\n",
    "    x = tf.nn.conv2d(x, Wconv3, strides=[1,1,1,1], padding=\"SAME\"\n",
    "                    ) + biasConv3\n",
    "    x = tf.nn.relu(x)\n",
    "\n",
    "# Fourth convolutional layer\n",
    "with tf.variable_scope(\"conv4\"):\n",
    "    Wconv4 =  create_weightVar((3, 3, 64, 64))\n",
    "    biasConv4 = create_biasVar((64,))\n",
    "    x = tf.nn.conv2d(x, Wconv4, strides=[1,1,1,1], padding=\"SAME\"\n",
    "                    ) + biasConv4\n",
    "    x = tf.nn.relu(x)\n",
    "\n",
    "x = MaxPooling2D((2, 2))(x)\n",
    "x = tf.nn.dropout(x, keep_prob)\n",
    "\n",
    "# Fifth convolutional layer\n",
    "with tf.variable_scope(\"conv5\"):\n",
    "    Wconv5 =  create_weightVar((3, 3, 64, 128))\n",
    "    biasConv5 = create_biasVar((128,))\n",
    "    x = tf.nn.conv2d(x, Wconv5, strides=[1,1,1,1], padding=\"SAME\"\n",
    "                    ) + biasConv5\n",
    "    x = tf.nn.relu(x)\n",
    "\n",
    "x = MaxPooling2D((2, 2))(x)\n",
    "x = tf.nn.dropout(x, keep_prob)\n",
    "x = Flatten()(x)\n",
    "\n",
    "# Dense layer\n",
    "with tf.variable_scope(\"FC\"):\n",
    "    Wdense = create_weightVar((2048, 128))\n",
    "    biasDense = create_biasVar((128,))\n",
    "x = tf.nn.relu(tf.matmul(x, Wdense) + biasDense)\n",
    "x = tf.nn.dropout(x, keep_prob)\n",
    "\n",
    "# Output layer\n",
    "with tf.variable_scope(\"out\"):\n",
    "    Wout = create_weightVar((128, 10))\n",
    "    biasOut = create_biasVar((10,))\n",
    "\n",
    "logits = tf.matmul(x, Wout) + biasOut\n",
    "outputs = tf.nn.softmax(logits)\n",
    "\n",
    "# Measure accuracy\n",
    "from tensorflow.python.keras.metrics import (\n",
    "    categorical_accuracy as accuracy)\n",
    "acc_value = tf.reduce_mean(accuracy(labels, outputs))\n",
    "\n",
    "# Model Prediction\n",
    "predicted_class = tf.argmax(outputs, axis=1)"
   ]
  },
  {
   "cell_type": "code",
   "execution_count": 13,
   "metadata": {},
   "outputs": [],
   "source": [
    "# Define cross_entropy loss\n",
    "from tensorflow.python.keras.losses import categorical_crossentropy\n",
    "cross_entropy = tf.reduce_mean(\n",
    "    categorical_crossentropy(labels, outputs))"
   ]
  },
  {
   "cell_type": "code",
   "execution_count": 14,
   "metadata": {},
   "outputs": [],
   "source": [
    "# Add all the required variables to collections, so that they can be easily \n",
    "# retrieved while importing the meta_graph\n",
    "tf.add_to_collection('cross_entropy', cross_entropy)\n",
    "tf.add_to_collection('acc_value', acc_value)\n",
    "tf.add_to_collection('inputs', inputs)\n",
    "tf.add_to_collection('outputs', outputs)\n",
    "tf.add_to_collection('labels', labels)\n",
    "tf.add_to_collection('keep_prob', keep_prob)\n",
    "tf.add_to_collection('predicted_class', predicted_class)\n",
    "\n",
    "# We want to export only the common part of the graph i.e the forward path \n",
    "# and the loss value computation, so we export the meta_graph and also \n",
    "# initialize the saver here; this ensures that the unneeded parts of the \n",
    "# graph are not exported.\n",
    "\n",
    "# The meta_graph contains the information regarding the graph and the saver\n",
    "# nodes. Note that by default, all of the collections are exported and this \n",
    "# is necessary for the retraining process.\n",
    "meta_graph_proto = tf.train.export_meta_graph(filename = 'trained_model.meta')\n",
    "# Initializing the Saver object adds nodes to save/restore the parameters in \n",
    "# the model which are currently defined. These values can be loaded into the \n",
    "# imported metagraph\n",
    "saver = tf.train.Saver()"
   ]
  },
  {
   "cell_type": "code",
   "execution_count": 15,
   "metadata": {},
   "outputs": [],
   "source": [
    "# Define the train_step; however this part of the graph does not get saved\n",
    "# since the metagraph has already been exported.\n",
    "train_step = tf.train.AdamOptimizer(0.001).minimize(cross_entropy)"
   ]
  },
  {
   "cell_type": "code",
   "execution_count": 4,
   "metadata": {},
   "outputs": [
    {
     "ename": "NameError",
     "evalue": "name 'tf' is not defined",
     "output_type": "error",
     "traceback": [
      "\u001b[0;31m---------------------------------------------------------------------------\u001b[0m",
      "\u001b[0;31mNameError\u001b[0m                                 Traceback (most recent call last)",
      "\u001b[0;32m<ipython-input-4-7f36630dfbda>\u001b[0m in \u001b[0;36m<module>\u001b[0;34m()\u001b[0m\n\u001b[1;32m      2\u001b[0m \u001b[0mBATCH_SIZE\u001b[0m \u001b[0;34m=\u001b[0m \u001b[0;36m128\u001b[0m\u001b[0;34m\u001b[0m\u001b[0m\n\u001b[1;32m      3\u001b[0m \u001b[0mnum_epochs\u001b[0m \u001b[0;34m=\u001b[0m \u001b[0;36m30\u001b[0m\u001b[0;34m\u001b[0m\u001b[0m\n\u001b[0;32m----> 4\u001b[0;31m dataset = tf.data.Dataset.from_tensor_slices(\n\u001b[0m\u001b[1;32m      5\u001b[0m     (new_train_images, \n\u001b[1;32m      6\u001b[0m      new_train_labels)).batch(BATCH_SIZE).repeat(num_epochs)\n",
      "\u001b[0;31mNameError\u001b[0m: name 'tf' is not defined"
     ]
    }
   ],
   "source": [
    "# Create a dataset iterator to input the data to the model in batches\n",
    "BATCH_SIZE = 128\n",
    "num_epochs = 30\n",
    "dataset = tf.data.Dataset.from_tensor_slices(\n",
    "    (new_train_images, \n",
    "     new_train_labels)).batch(BATCH_SIZE).repeat(num_epochs)\n",
    "iter = dataset.make_one_shot_iterator()\n",
    "next_batch = iter.get_next()"
   ]
  },
  {
   "cell_type": "code",
   "execution_count": 3,
   "metadata": {},
   "outputs": [
    {
     "ename": "NameError",
     "evalue": "name 'sess' is not defined",
     "output_type": "error",
     "traceback": [
      "\u001b[0;31m---------------------------------------------------------------------------\u001b[0m",
      "\u001b[0;31mNameError\u001b[0m                                 Traceback (most recent call last)",
      "\u001b[0;32m<ipython-input-3-9b43c76ac230>\u001b[0m in \u001b[0;36m<module>\u001b[0;34m()\u001b[0m\n\u001b[1;32m      1\u001b[0m \u001b[0;31m# Train with the tf model with the correct dataset\u001b[0m\u001b[0;34m\u001b[0m\u001b[0;34m\u001b[0m\u001b[0m\n\u001b[0;32m----> 2\u001b[0;31m \u001b[0;32mwith\u001b[0m \u001b[0msess\u001b[0m\u001b[0;34m.\u001b[0m\u001b[0mas_default\u001b[0m\u001b[0;34m(\u001b[0m\u001b[0;34m)\u001b[0m\u001b[0;34m:\u001b[0m\u001b[0;34m\u001b[0m\u001b[0m\n\u001b[0m\u001b[1;32m      3\u001b[0m     \u001b[0minit_var\u001b[0m \u001b[0;34m=\u001b[0m \u001b[0mtf\u001b[0m\u001b[0;34m.\u001b[0m\u001b[0mglobal_variables_initializer\u001b[0m\u001b[0;34m(\u001b[0m\u001b[0;34m)\u001b[0m\u001b[0;34m\u001b[0m\u001b[0m\n\u001b[1;32m      4\u001b[0m     \u001b[0minit_var\u001b[0m\u001b[0;34m.\u001b[0m\u001b[0mrun\u001b[0m\u001b[0;34m(\u001b[0m\u001b[0;34m)\u001b[0m\u001b[0;34m\u001b[0m\u001b[0m\n\u001b[1;32m      5\u001b[0m     \u001b[0;31m# The training dataset gets repeatedly fed in, an exception\u001b[0m\u001b[0;34m\u001b[0m\u001b[0;34m\u001b[0m\u001b[0m\n",
      "\u001b[0;31mNameError\u001b[0m: name 'sess' is not defined"
     ]
    }
   ],
   "source": [
    "# Train with the tf model with the correct dataset\n",
    "with sess.as_default():\n",
    "    init_var = tf.global_variables_initializer()\n",
    "    init_var.run()\n",
    "    # The training dataset gets repeatedly fed in, an exception \n",
    "    # indicates that training is done.\n",
    "    while True:\n",
    "        try:\n",
    "            batch = sess.run([next_batch[0], next_batch[1]])\n",
    "        except tf.errors.OutOfRangeError:\n",
    "            print(\"Model trained for {} epochs\".format(num_epochs))\n",
    "            break\n",
    "        train_step.run({inputs: batch[0], \n",
    "                        labels: batch[1], \n",
    "                        keep_prob: 0.75})\n",
    "    # Measure test set accuracy after training\n",
    "    print(\"accuracy on test set : {0:.3f}\".format(acc_value.eval(\n",
    "        feed_dict={inputs: test_images,\n",
    "                   labels: test_labels, \n",
    "                   keep_prob: 1})))\n",
    "    # Get the original weight values for mse computation in \n",
    "    # the loss function\n",
    "    weightVars = [Wconv1, Wconv2, Wconv3, Wconv4, Wconv5, Wdense, Wout]\n",
    "    origWeights = [weightVar.eval() for weightVar in weightVars]\n",
    "    biasVars = [biasConv1, biasConv2, biasConv3, biasConv4, biasConv5, biasDense, biasOut]\n",
    "    origBiases = [biasVar.eval() for biasVar in biasVars]\n",
    "\n",
    "# Reset the write_meta_graph flag so that the graph saved \n",
    "# earlier is not overwritten\n",
    "save_path = saver.save(sess, \"./trained_model\", \n",
    "                       write_meta_graph=False)\n",
    "print(\"Model saved in path: {}\".format(save_path))"
   ]
  },
  {
   "cell_type": "code",
   "execution_count": null,
   "metadata": {},
   "outputs": [],
   "source": [
    "# Get the weight values from the correctly trained model \n",
    "# and store on disk so that they can be retrieved later\n",
    "np.save('origWeights', origWeights)\n",
    "np.save('origBiases', origBiases)\n",
    "np.save('target_image', target_image)"
   ]
  },
  {
   "cell_type": "code",
   "execution_count": 7,
   "metadata": {},
   "outputs": [],
   "source": [
    "sess.close()"
   ]
  }
 ],
 "metadata": {
  "kernelspec": {
   "display_name": "Python 3",
   "language": "python",
   "name": "python3"
  },
  "language_info": {
   "codemirror_mode": {
    "name": "ipython",
    "version": 3
   },
   "file_extension": ".py",
   "mimetype": "text/x-python",
   "name": "python",
   "nbconvert_exporter": "python",
   "pygments_lexer": "ipython3",
   "version": "3.5.2"
  }
 },
 "nbformat": 4,
 "nbformat_minor": 2
}
